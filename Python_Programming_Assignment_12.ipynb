{
 "cells": [
  {
   "cell_type": "code",
   "execution_count": 3,
   "id": "cae8fbee",
   "metadata": {},
   "outputs": [
    {
     "name": "stdout",
     "output_type": "stream",
     "text": [
      "The original dictionary is :{'gfg': [5, 4, 3, 2], 'is': [5, 6, 7, 8], 'best': [8, 9, 5, 0], 'for': [9, 3, 2]}\n",
      "The unique values list is: [0, 2, 3, 4, 5, 6, 7, 8, 9]\n"
     ]
    }
   ],
   "source": [
    "#A1) Python extract unique values dictionary values\n",
    "\n",
    "from itertools import chain\n",
    "\n",
    "test_dict = {'gfg': [5,4,3,2], 'is': [5,6,7,8], 'best': [8,9,5,0], 'for' : [9,3,2]}\n",
    "print(\"The original dictionary is :\" + str(test_dict))\n",
    "\n",
    "res = list(sorted(set(chain(*test_dict.values()))))\n",
    "\n",
    "print(\"The unique values list is: \" + str(res))"
   ]
  },
  {
   "cell_type": "code",
   "execution_count": 8,
   "id": "7751fb70",
   "metadata": {},
   "outputs": [
    {
     "name": "stdout",
     "output_type": "stream",
     "text": [
      " sum:  600\n"
     ]
    }
   ],
   "source": [
    "#A2) sum of all values in dictionary\n",
    "\n",
    "def returnSum(myDict):\n",
    "    list = []\n",
    "    for i in myDict:\n",
    "        list.append(myDict[i])\n",
    "    return(sum(list))\n",
    "        \n",
    "dict = {'a': 100, 'b': 200, ' c': 300}\n",
    "print(\" sum: \", returnSum(dict))"
   ]
  },
  {
   "cell_type": "code",
   "execution_count": null,
   "id": "d2c3b673",
   "metadata": {},
   "outputs": [],
   "source": [
    "#A3) merge two dictionary\n",
    "\n",
    "dict_1 = {1: 'a', 2: 'b'}\n",
    "dict_2 = {2: 'c', 4: 'd'}\n",
    "\n",
    "print({**dict_1, **dict_2})\n"
   ]
  },
  {
   "cell_type": "code",
   "execution_count": 21,
   "id": "d76733f7",
   "metadata": {
    "scrolled": true
   },
   "outputs": [
    {
     "name": "stdout",
     "output_type": "stream",
     "text": [
      "The original dictionary is :{'month': [1, 2, 3], 'name': ['Jan', 'Feb', 'March']}\n"
     ]
    },
    {
     "ename": "TypeError",
     "evalue": "'dict' object is not callable",
     "output_type": "error",
     "traceback": [
      "\u001b[1;31m---------------------------------------------------------------------------\u001b[0m",
      "\u001b[1;31mTypeError\u001b[0m                                 Traceback (most recent call last)",
      "\u001b[1;32m<ipython-input-21-669f42865345>\u001b[0m in \u001b[0;36m<module>\u001b[1;34m\u001b[0m\n\u001b[0;32m      6\u001b[0m \u001b[0mprint\u001b[0m\u001b[1;33m(\u001b[0m\u001b[1;34m\"The original dictionary is :\"\u001b[0m \u001b[1;33m+\u001b[0m \u001b[0mstr\u001b[0m\u001b[1;33m(\u001b[0m\u001b[0mTest_dict\u001b[0m\u001b[1;33m)\u001b[0m\u001b[1;33m)\u001b[0m\u001b[1;33m\u001b[0m\u001b[1;33m\u001b[0m\u001b[0m\n\u001b[0;32m      7\u001b[0m \u001b[1;33m\u001b[0m\u001b[0m\n\u001b[1;32m----> 8\u001b[1;33m \u001b[0mres\u001b[0m \u001b[1;33m=\u001b[0m \u001b[0mdict\u001b[0m\u001b[1;33m(\u001b[0m\u001b[0mzip\u001b[0m\u001b[1;33m(\u001b[0m\u001b[0mTest_dict\u001b[0m\u001b[1;33m[\u001b[0m\u001b[1;34m'month'\u001b[0m\u001b[1;33m]\u001b[0m\u001b[1;33m,\u001b[0m \u001b[0mTest_dict\u001b[0m\u001b[1;33m[\u001b[0m\u001b[1;34m'name'\u001b[0m\u001b[1;33m]\u001b[0m\u001b[1;33m)\u001b[0m\u001b[1;33m)\u001b[0m\u001b[1;33m\u001b[0m\u001b[1;33m\u001b[0m\u001b[0m\n\u001b[0m\u001b[0;32m      9\u001b[0m \u001b[1;33m\u001b[0m\u001b[0m\n\u001b[0;32m     10\u001b[0m \u001b[0mprint\u001b[0m\u001b[1;33m(\u001b[0m\u001b[1;34m\"Flattened dictinary: \"\u001b[0m \u001b[1;33m+\u001b[0m \u001b[0mstr\u001b[0m\u001b[1;33m(\u001b[0m\u001b[0mres\u001b[0m\u001b[1;33m)\u001b[0m\u001b[1;33m)\u001b[0m\u001b[1;33m\u001b[0m\u001b[1;33m\u001b[0m\u001b[0m\n",
      "\u001b[1;31mTypeError\u001b[0m: 'dict' object is not callable"
     ]
    }
   ],
   "source": [
    "#A4) Convert the key and values in flat dictionary\n",
    "from itertools import product\n",
    "\n",
    "Test_dict = {'month' : [1,2,3], 'name':['Jan','Feb','March']}\n",
    "             \n",
    "print(\"The original dictionary is :\" + str(Test_dict))\n",
    "             \n",
    "res = dict(zip(Test_dict['month'], Test_dict['name']))\n",
    "\n",
    "print(\"Flattened dictinary: \" + str(res))\n",
    "\n"
   ]
  },
  {
   "cell_type": "code",
   "execution_count": 27,
   "id": "d3605abf",
   "metadata": {},
   "outputs": [
    {
     "name": "stdout",
     "output_type": "stream",
     "text": [
      "Resultant Dictinary :OrderedDict([('manjeet', '3'), ('akash', '4'), ('1', 'akshat'), ('nikhil', '2')])\n"
     ]
    }
   ],
   "source": [
    "#A5) Python insert at the beginning in ordereddict\n",
    "\n",
    "from collections import OrderedDict\n",
    "\n",
    "dict_1 = OrderedDict([{'akshat', '1'}, ('nikhil', '2')])\n",
    "dict_2 = OrderedDict([{'manjeet', '3'}, ('akash', '4')])\n",
    "\n",
    "both = OrderedDict(list(dict_2.items()) + (list(dict_1.items())))\n",
    "\n",
    "print('Resultant Dictinary :'+ str(both))\n"
   ]
  },
  {
   "cell_type": "code",
   "execution_count": 38,
   "id": "95129e82",
   "metadata": {},
   "outputs": [
    {
     "name": "stdout",
     "output_type": "stream",
     "text": [
      "false\n"
     ]
    }
   ],
   "source": [
    "#A6)  Python program to check order of character in string using OrderedDict()\n",
    "from collections import OrderedDict\n",
    "\n",
    "def checkOrder(inputStr, pattern):\n",
    "    \n",
    "    dict = OrderedDict.fromkeys(inputStr)\n",
    "    ptrlen = 0\n",
    "    for key,value in dict.items():\n",
    "        if (key == pattern[ptrlen]):\n",
    "            ptrlen = ptrlen +1\n",
    "            \n",
    "        if (ptrlen == len(pattern)):\n",
    "            return 'true'\n",
    "    \n",
    "    return 'false'\n",
    "    \n",
    "inputStr = 'engineers rock'\n",
    "pattern = 'erg'\n",
    "print(checkOrder(inputStr, pattern))"
   ]
  },
  {
   "cell_type": "code",
   "execution_count": 40,
   "id": "5b412ea0",
   "metadata": {},
   "outputs": [
    {
     "name": "stdout",
     "output_type": "stream",
     "text": [
      "OrderedDict([('rajnish', '9'), ('ravi', '10'), ('sanjeev', '15'), ('suraj', '32'), ('yash', '2')])\n"
     ]
    }
   ],
   "source": [
    "#A7) Creates a sorted dictionary (sorted by key)\n",
    "from collections import OrderedDict\n",
    " \n",
    "dict = {'ravi':'10','rajnish':'9','sanjeev':'15','yash':'2','suraj':'32'}\n",
    "print(OrderedDict(sorted(dict.items())))\n"
   ]
  },
  {
   "cell_type": "code",
   "execution_count": null,
   "id": "11c88ecf",
   "metadata": {},
   "outputs": [],
   "source": []
  }
 ],
 "metadata": {
  "kernelspec": {
   "display_name": "Python 3",
   "language": "python",
   "name": "python3"
  },
  "language_info": {
   "codemirror_mode": {
    "name": "ipython",
    "version": 3
   },
   "file_extension": ".py",
   "mimetype": "text/x-python",
   "name": "python",
   "nbconvert_exporter": "python",
   "pygments_lexer": "ipython3",
   "version": "3.8.8"
  }
 },
 "nbformat": 4,
 "nbformat_minor": 5
}
