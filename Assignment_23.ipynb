{
 "cells": [
  {
   "cell_type": "code",
   "execution_count": 3,
   "id": "c5a209cc",
   "metadata": {},
   "outputs": [
    {
     "name": "stdout",
     "output_type": "stream",
     "text": [
      "1 2 8\n"
     ]
    }
   ],
   "source": [
    "#A1) \n",
    "def func(a,b=6,c=8):\n",
    "    print(a,b,c)\n",
    "func(1,2)\n",
    "\n",
    "# parameters for a and b are passed, but as parameters for c is not passed it considered the default value."
   ]
  },
  {
   "cell_type": "code",
   "execution_count": 5,
   "id": "aa363c54",
   "metadata": {},
   "outputs": [
    {
     "name": "stdout",
     "output_type": "stream",
     "text": [
      "1 2 3\n"
     ]
    }
   ],
   "source": [
    "#A2) \n",
    "def func(a,b,c=5):\n",
    "    print(a,b,c)\n",
    "func(1,c=3,b=2)\n",
    "\n",
    "# prints the parameters passed to the functions.THe default values will be ignored as all parameters have value."
   ]
  },
  {
   "cell_type": "code",
   "execution_count": 10,
   "id": "62121051",
   "metadata": {},
   "outputs": [
    {
     "name": "stdout",
     "output_type": "stream",
     "text": [
      "1 (2, 3)\n"
     ]
    }
   ],
   "source": [
    "#A3) \n",
    "def func(a,*pargs):\n",
    "    print(a,pargs)\n",
    "func(1,2,3)\n",
    "# this considers the first parameter 1 as a.Since *means more than one all other iterable parameters are considered as pargs and prints the tuple. "
   ]
  },
  {
   "cell_type": "code",
   "execution_count": 11,
   "id": "a984526c",
   "metadata": {},
   "outputs": [
    {
     "name": "stdout",
     "output_type": "stream",
     "text": [
      "1 {'c': 3, 'b': 2}\n"
     ]
    }
   ],
   "source": [
    "#A4) \n",
    "def func(a, **kargs):\n",
    "    print(a, kargs)\n",
    "\n",
    "func(a=1, c=3, b=2)\n",
    "# The ** consideres all other paramenters and prints the dictionary"
   ]
  },
  {
   "cell_type": "code",
   "execution_count": 23,
   "id": "6869f0f4",
   "metadata": {},
   "outputs": [
    {
     "name": "stdout",
     "output_type": "stream",
     "text": [
      "1 5 6 5\n"
     ]
    }
   ],
   "source": [
    "#A5) \n",
    "def func(a, b, c=8, d=5): \n",
    "    print(a, b, c, d)\n",
    "\n",
    "func(1, *(5,6))\n",
    "\n",
    "# The function passes the it iterable parameters using * and is considered for the remaining parameters.   "
   ]
  },
  {
   "cell_type": "code",
   "execution_count": 8,
   "id": "d35773a7",
   "metadata": {},
   "outputs": [
    {
     "data": {
      "text/plain": [
       "(1, ['x'], {'a': 'y'})"
      ]
     },
     "execution_count": 8,
     "metadata": {},
     "output_type": "execute_result"
    }
   ],
   "source": [
    "#A6) \n",
    "def func(a, b, c): \n",
    "    a = 2; b[0] = 'x'; c['a']='y'\n",
    "\n",
    "l=1; m=[1]; n={'a':0}\n",
    "func(l, m, n)\n",
    "l,m,n\n",
    "# the value of gobal variables l,m,n is replaced by the values of a,b,c when passed in the functions. "
   ]
  },
  {
   "cell_type": "code",
   "execution_count": null,
   "id": "2476ca50",
   "metadata": {},
   "outputs": [],
   "source": []
  },
  {
   "cell_type": "code",
   "execution_count": null,
   "id": "9ebc222c",
   "metadata": {},
   "outputs": [],
   "source": []
  }
 ],
 "metadata": {
  "kernelspec": {
   "display_name": "Python 3",
   "language": "python",
   "name": "python3"
  },
  "language_info": {
   "codemirror_mode": {
    "name": "ipython",
    "version": 3
   },
   "file_extension": ".py",
   "mimetype": "text/x-python",
   "name": "python",
   "nbconvert_exporter": "python",
   "pygments_lexer": "ipython3",
   "version": "3.8.8"
  }
 },
 "nbformat": 4,
 "nbformat_minor": 5
}
