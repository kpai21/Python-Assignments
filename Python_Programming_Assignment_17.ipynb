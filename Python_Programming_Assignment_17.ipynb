{
 "cells": [
  {
   "cell_type": "code",
   "execution_count": 5,
   "id": "7e302073",
   "metadata": {},
   "outputs": [
    {
     "name": "stdout",
     "output_type": "stream",
     "text": [
      "3\n"
     ]
    }
   ],
   "source": [
    "#A1) count the numbers divisible by M\n",
    " \n",
    "def countDivisibles(A, B, M):\n",
    "    counter = 0;\n",
    "    for i in range(A, B):\n",
    "        if (i % M == 0):\n",
    "            counter = counter + 1\n",
    " \n",
    "    return counter\n",
    " \n",
    "A = 1\n",
    "B = 10\n",
    "M = 3\n",
    " \n",
    "    \n",
    "# Printing the result\n",
    "print(countDivisibles(A, B, M))"
   ]
  },
  {
   "cell_type": "code",
   "execution_count": 6,
   "id": "4019f79f",
   "metadata": {},
   "outputs": [
    {
     "name": "stdout",
     "output_type": "stream",
     "text": [
      "True\n",
      "False\n",
      "False\n"
     ]
    }
   ],
   "source": [
    "#A2) Create a function that returns True if a given inequality expression is correct and False otherwise.\n",
    "\n",
    "def check(s):\n",
    "    regex = eval(s)\n",
    "    if regex:\n",
    "        return True\n",
    "    else:\n",
    "        return False\n",
    "    \n",
    "print(check(\"2<7<15\"))\n",
    "print(check(\"30<45<21>9\"))\n",
    "print(check(\"4<7<8<12<2\"))"
   ]
  },
  {
   "cell_type": "code",
   "execution_count": 10,
   "id": "cc21a674",
   "metadata": {},
   "outputs": [
    {
     "data": {
      "text/plain": [
       "'sh*k*sp**r*'"
      ]
     },
     "execution_count": 10,
     "metadata": {},
     "output_type": "execute_result"
    }
   ],
   "source": [
    "#A3) Replace vowels with string\n",
    "\n",
    "def replace_vowels(s, c):\n",
    "    vowels = 'AEIOUaeiou'\n",
    "    for v in vowels:\n",
    "        s = s.replace(v, c)\n",
    "    return s\n",
    "\n",
    "replace_vowels(\"the aardvark\", \"#\")\n",
    "replace_vowels(\"minnie mouse\", \"?\")\n",
    "replace_vowels(\"shakespeare\", \"*\")\n",
    "    "
   ]
  },
  {
   "cell_type": "code",
   "execution_count": 12,
   "id": "16ddc2f9",
   "metadata": {},
   "outputs": [
    {
     "name": "stdout",
     "output_type": "stream",
     "text": [
      "Factorial of 3 is 6\n"
     ]
    }
   ],
   "source": [
    "#A4) factorial of given number\n",
    "\n",
    "def factorial(n):\n",
    "    if n==0:\n",
    "        return 1\n",
    "    return n *factorial(n-1)\n",
    "\n",
    "num = 3\n",
    "print(\"Factorial of\", num , \"is\", factorial(num))\n",
    "\n"
   ]
  },
  {
   "cell_type": "code",
   "execution_count": 17,
   "id": "73212bd2",
   "metadata": {},
   "outputs": [
    {
     "name": "stdout",
     "output_type": "stream",
     "text": [
      "0\n"
     ]
    }
   ],
   "source": [
    "#A5) Hamming distance between two strings\n",
    "\n",
    "def hammingDist(str1, str2):\n",
    "    i = 0\n",
    "    count = 0\n",
    "    while(i<len(str1)):\n",
    "        if str1[i] != str2[i]:\n",
    "            count += 1\n",
    "        i += 1\n",
    "    return count\n",
    "\n",
    "str1 = \"abcde\"\n",
    "str2 = \"abcde\"\n",
    "\n",
    "print(hammingDist(str1,str2))"
   ]
  },
  {
   "cell_type": "code",
   "execution_count": null,
   "id": "e20d6a65",
   "metadata": {},
   "outputs": [],
   "source": []
  }
 ],
 "metadata": {
  "kernelspec": {
   "display_name": "Python 3",
   "language": "python",
   "name": "python3"
  },
  "language_info": {
   "codemirror_mode": {
    "name": "ipython",
    "version": 3
   },
   "file_extension": ".py",
   "mimetype": "text/x-python",
   "name": "python",
   "nbconvert_exporter": "python",
   "pygments_lexer": "ipython3",
   "version": "3.8.8"
  }
 },
 "nbformat": 4,
 "nbformat_minor": 5
}
