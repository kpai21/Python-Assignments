{
 "cells": [
  {
   "cell_type": "code",
   "execution_count": 3,
   "id": "6151545a",
   "metadata": {},
   "outputs": [
    {
     "name": "stdout",
     "output_type": "stream",
     "text": [
      "100\n",
      "0,35,70\n"
     ]
    }
   ],
   "source": [
    "#A1) Print number divisible by 5 and 7 \n",
    "\n",
    "def generate(n):\n",
    "    for i in range(n+1):\n",
    "        if i % 35 == 0:    # 5*7 = 35, if a number is divisible by a & b then it is also divisible by a*b\n",
    "            yield i\n",
    "\n",
    "n = int(input())\n",
    "resp = [str(i) for i in generate(n)]\n",
    "print(\",\".join(resp))"
   ]
  },
  {
   "cell_type": "code",
   "execution_count": 16,
   "id": "3d373cc6",
   "metadata": {},
   "outputs": [
    {
     "name": "stdout",
     "output_type": "stream",
     "text": [
      "7\n",
      "[0, 1, 1, 2, 3, 5, 8]\n"
     ]
    }
   ],
   "source": [
    "#A2) Print finonacci sequence using list compreshension\n",
    "n = int(input())\n",
    "myList = [0,1]\n",
    "\n",
    "for i in range(2, n):\n",
    "    myList.append(myList[i-1] + myList[i-2])\n",
    "\n",
    "print(myList)"
   ]
  },
  {
   "cell_type": "code",
   "execution_count": null,
   "id": "faba6253",
   "metadata": {},
   "outputs": [],
   "source": [
    "#A3) Print user name and company name in email address .\n",
    "import re\n",
    "\n",
    "email = \"john@google.com elise@python.com\"\n",
    "pattern = \"\\w+@(\\w+).com\"\n",
    "ans = re.findall(pattern,email)\n",
    "print(ans)"
   ]
  },
  {
   "cell_type": "code",
   "execution_count": 18,
   "id": "4a97463b",
   "metadata": {},
   "outputs": [
    {
     "name": "stdout",
     "output_type": "stream",
     "text": [
      "25\n",
      "0\n"
     ]
    }
   ],
   "source": [
    "# A5) prints aread of square\n",
    "class Shape():\n",
    "    def __init__(self):\n",
    "        pass\n",
    "\n",
    "    def area(self):\n",
    "        return 0\n",
    "\n",
    "class Square(Shape):\n",
    "    def __init__(self,length = 0):\n",
    "        Shape.__init__(self)\n",
    "        self.length = length\n",
    "\n",
    "    def area(self):\n",
    "        return self.length*self.length\n",
    "\n",
    "Asqr = Square(5)\n",
    "print(Asqr.area())      # prints 25 as given argument\n",
    "\n",
    "print(Square().area())  # prints zero as default area\n"
   ]
  },
  {
   "cell_type": "code",
   "execution_count": null,
   "id": "ea47cd46",
   "metadata": {},
   "outputs": [],
   "source": []
  },
  {
   "cell_type": "code",
   "execution_count": null,
   "id": "7914434c",
   "metadata": {},
   "outputs": [],
   "source": []
  }
 ],
 "metadata": {
  "kernelspec": {
   "display_name": "Python 3",
   "language": "python",
   "name": "python3"
  },
  "language_info": {
   "codemirror_mode": {
    "name": "ipython",
    "version": 3
   },
   "file_extension": ".py",
   "mimetype": "text/x-python",
   "name": "python",
   "nbconvert_exporter": "python",
   "pygments_lexer": "ipython3",
   "version": "3.8.8"
  }
 },
 "nbformat": 4,
 "nbformat_minor": 5
}
