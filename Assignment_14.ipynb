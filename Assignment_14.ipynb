{
 "cells": [
  {
   "cell_type": "markdown",
   "id": "84983c22",
   "metadata": {},
   "source": [
    "A1) RGBA(Red-Green-Blue-Alpha)"
   ]
  },
  {
   "cell_type": "markdown",
   "id": "058e2516",
   "metadata": {},
   "source": [
    "A2) img.getpixel((320,240))"
   ]
  },
  {
   "cell_type": "markdown",
   "id": "d3e964f7",
   "metadata": {},
   "source": [
    "A3) Box tuple is four integer coordinates that represent a rectangular region in an image. The coordinates represents left, top, right, bottom. Left The x-coordinate of the leftmost edge of the box.\n",
    "\n",
    "Top The y-coordinate of the top edge of the box.\n",
    "\n",
    "Right The x-coordinate of one pixel to the right of the rightmost edge of the box. This integer must be greater than the left integer.\n",
    "\n",
    "Bottom The y-coordinate of one pixel lower than the bottom edge of the box. This integer must be greater than the top integer."
   ]
  },
  {
   "cell_type": "markdown",
   "id": "88ee0109",
   "metadata": {},
   "source": [
    "A4) image.size gives the width and height of the image\n",
    "\n",
    "  from PIL import Image\n",
    "    myImg = Image.open('zophie.png')\n",
    "    myImg.size\n",
    "(816, 1088)\n",
    "width, height = myImg.size\n",
    "width\n",
    "816\n",
    "height\n",
    "1088"
   ]
  },
  {
   "cell_type": "markdown",
   "id": "975554e5",
   "metadata": {},
   "source": [
    "A5) im = Image.new('RGBA', (100, 100))"
   ]
  },
  {
   "cell_type": "markdown",
   "id": "f1feb83e",
   "metadata": {},
   "source": [
    "A6) im.save('putPixel.png') #saves as image file"
   ]
  },
  {
   "cell_type": "markdown",
   "id": "731a633a",
   "metadata": {},
   "source": [
    "A7) ImageDraw.Draw() contains the shape-drawing modules."
   ]
  },
  {
   "cell_type": "markdown",
   "id": "52e96694",
   "metadata": {},
   "source": [
    "A8) ImageDraw objects have drawing methods. ImageDraw object is obtained by passing the image to ImageDraw.Draw(). "
   ]
  },
  {
   "cell_type": "code",
   "execution_count": null,
   "id": "24af0c80",
   "metadata": {},
   "outputs": [],
   "source": []
  }
 ],
 "metadata": {
  "kernelspec": {
   "display_name": "Python 3",
   "language": "python",
   "name": "python3"
  },
  "language_info": {
   "codemirror_mode": {
    "name": "ipython",
    "version": 3
   },
   "file_extension": ".py",
   "mimetype": "text/x-python",
   "name": "python",
   "nbconvert_exporter": "python",
   "pygments_lexer": "ipython3",
   "version": "3.8.8"
  }
 },
 "nbformat": 4,
 "nbformat_minor": 5
}
