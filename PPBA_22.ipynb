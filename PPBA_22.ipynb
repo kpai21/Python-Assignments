{
 "cells": [
  {
   "cell_type": "code",
   "execution_count": 2,
   "id": "c05296ea",
   "metadata": {},
   "outputs": [
    {
     "data": {
      "text/plain": [
       "[3, 6, 9]"
      ]
     },
     "execution_count": 2,
     "metadata": {},
     "output_type": "execute_result"
    }
   ],
   "source": [
    "#A1) \n",
    "def list_operation(a,b,n):\n",
    "    lists = []\n",
    "    for i in range(a,b,1):\n",
    "        if i%n == 0:\n",
    "            lists.append(i)\n",
    "    return lists\n",
    "list_operation(1, 10, 3) # ➞ [3, 6, 9]\n",
    "            \n"
   ]
  },
  {
   "cell_type": "code",
   "execution_count": 7,
   "id": "619800b0",
   "metadata": {},
   "outputs": [
    {
     "data": {
      "text/plain": [
       "True"
      ]
     },
     "execution_count": 7,
     "metadata": {},
     "output_type": "execute_result"
    }
   ],
   "source": [
    "#A2) find second list is a shift of first list\n",
    "def simon_says(first_arr, second_arr):\n",
    "    for i in first_arr:\n",
    "        if first_arr[i] != second_arr[i+1]:\n",
    "            return False\n",
    "        else:\n",
    "            return True\n",
    "simon_says([1, 2, 3, 4, 5], [5, 5, 1, 2, 3])\n",
    "simon_says([1, 2, 3, 4, 5], [0, 1, 2, 3, 4]) \n",
    "        "
   ]
  },
  {
   "cell_type": "code",
   "execution_count": 200,
   "id": "2b4cbe57",
   "metadata": {},
   "outputs": [
    {
     "data": {
      "text/plain": [
       "'ASM'"
      ]
     },
     "execution_count": 200,
     "metadata": {},
     "output_type": "execute_result"
    }
   ],
   "source": [
    "#A3) society name\n",
    "def society_name(*kargs):\n",
    "    a_list = [x for x in kargs]\n",
    "    society = []\n",
    "    for i in a_list:\n",
    "        for j in i:\n",
    "            society.append(j[0])\n",
    "            \n",
    "    return ''.join(society)\n",
    "\n",
    "arr = [\"Adam\", \"Sarah\", \"Malcolm\"]\n",
    "\n",
    "society_name(arr)\n",
    "    "
   ]
  },
  {
   "cell_type": "code",
   "execution_count": 100,
   "id": "8b1f7bb4",
   "metadata": {},
   "outputs": [
    {
     "data": {
      "text/plain": [
       "False"
      ]
     },
     "execution_count": 100,
     "metadata": {},
     "output_type": "execute_result"
    }
   ],
   "source": [
    "#A4) isogram\n",
    "\n",
    "def is_isogram(word):\n",
    " \n",
    "    clean_word = word.lower()\n",
    "    letter_list = []\n",
    " \n",
    "    for letter in clean_word:\n",
    "        if letter.isalpha():\n",
    "            if letter in letter_list:\n",
    "                return False\n",
    "            letter_list.append(letter)\n",
    " \n",
    "    return True\n",
    "is_isogram(\"Algorism\")\n",
    "is_isogram(\"PasSword\")"
   ]
  },
  {
   "cell_type": "code",
   "execution_count": 105,
   "id": "0dcc8500",
   "metadata": {},
   "outputs": [
    {
     "name": "stdout",
     "output_type": "stream",
     "text": [
      "False\n"
     ]
    }
   ],
   "source": [
    "#A5) Is in alphabetical order\n",
    "def isAlphabaticOrder(s):\n",
    "    n = len(s)\n",
    "    for i in range(1, n):\n",
    "        if (s[i] < s[i - 1]) :\n",
    "            return False\n",
    "\n",
    "    return True\n",
    "if __name__ == \"__main__\":\n",
    " \n",
    "    s = \"edabit\"\n",
    "    print(isAlphabaticOrder(s))\n",
    "    "
   ]
  }
 ],
 "metadata": {
  "kernelspec": {
   "display_name": "Python 3",
   "language": "python",
   "name": "python3"
  },
  "language_info": {
   "codemirror_mode": {
    "name": "ipython",
    "version": 3
   },
   "file_extension": ".py",
   "mimetype": "text/x-python",
   "name": "python",
   "nbconvert_exporter": "python",
   "pygments_lexer": "ipython3",
   "version": "3.8.8"
  }
 },
 "nbformat": 4,
 "nbformat_minor": 5
}
