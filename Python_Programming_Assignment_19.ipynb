{
 "cells": [
  {
   "cell_type": "code",
   "execution_count": 15,
   "id": "6f425607",
   "metadata": {},
   "outputs": [
    {
     "name": "stdout",
     "output_type": "stream",
     "text": [
      "11223344!!__  \n"
     ]
    }
   ],
   "source": [
    "#A1) Create a function that takes a string and returns a string in which each character is repeated once. \n",
    "\n",
    "def double_char(given_Str):\n",
    "    rep_Str = \"\"\n",
    "    for i in given_Str:\n",
    "        rep_Str += i + i\n",
    "    print(rep_Str)\n",
    "    \n",
    "#double_char(\"String\")\n",
    "double_char(\"1234!_ \")"
   ]
  },
  {
   "cell_type": "code",
   "execution_count": 45,
   "id": "670bfd63",
   "metadata": {},
   "outputs": [
    {
     "name": "stdout",
     "output_type": "stream",
     "text": [
      "False\n",
      "True\n"
     ]
    },
    {
     "ename": "Exception",
     "evalue": "boolean expected",
     "output_type": "error",
     "traceback": [
      "\u001b[1;31m---------------------------------------------------------------------------\u001b[0m",
      "\u001b[1;31mException\u001b[0m                                 Traceback (most recent call last)",
      "\u001b[1;32m<ipython-input-45-9e7c249bc5d8>\u001b[0m in \u001b[0;36m<module>\u001b[1;34m\u001b[0m\n\u001b[0;32m      9\u001b[0m \u001b[0mprint\u001b[0m\u001b[1;33m(\u001b[0m\u001b[0mreverse\u001b[0m\u001b[1;33m(\u001b[0m\u001b[1;32mTrue\u001b[0m\u001b[1;33m)\u001b[0m\u001b[1;33m)\u001b[0m\u001b[1;33m\u001b[0m\u001b[1;33m\u001b[0m\u001b[0m\n\u001b[0;32m     10\u001b[0m \u001b[0mprint\u001b[0m\u001b[1;33m(\u001b[0m\u001b[0mreverse\u001b[0m\u001b[1;33m(\u001b[0m\u001b[1;32mFalse\u001b[0m\u001b[1;33m)\u001b[0m\u001b[1;33m)\u001b[0m\u001b[1;33m\u001b[0m\u001b[1;33m\u001b[0m\u001b[0m\n\u001b[1;32m---> 11\u001b[1;33m \u001b[0mprint\u001b[0m\u001b[1;33m(\u001b[0m\u001b[0mreverse\u001b[0m\u001b[1;33m(\u001b[0m\u001b[1;32mNone\u001b[0m\u001b[1;33m)\u001b[0m\u001b[1;33m)\u001b[0m\u001b[1;33m\u001b[0m\u001b[1;33m\u001b[0m\u001b[0m\n\u001b[0m\u001b[0;32m     12\u001b[0m \u001b[0mprint\u001b[0m\u001b[1;33m(\u001b[0m\u001b[0mreverse\u001b[0m\u001b[1;33m(\u001b[0m\u001b[1;36m0\u001b[0m\u001b[1;33m)\u001b[0m\u001b[1;33m)\u001b[0m\u001b[1;33m\u001b[0m\u001b[1;33m\u001b[0m\u001b[0m\n",
      "\u001b[1;32m<ipython-input-45-9e7c249bc5d8>\u001b[0m in \u001b[0;36mreverse\u001b[1;34m(isBool)\u001b[0m\n\u001b[0;32m      5\u001b[0m         \u001b[1;32mreturn\u001b[0m \u001b[1;32mnot\u001b[0m \u001b[0misBool\u001b[0m\u001b[1;33m\u001b[0m\u001b[1;33m\u001b[0m\u001b[0m\n\u001b[0;32m      6\u001b[0m     \u001b[1;32melse\u001b[0m\u001b[1;33m:\u001b[0m\u001b[1;33m\u001b[0m\u001b[1;33m\u001b[0m\u001b[0m\n\u001b[1;32m----> 7\u001b[1;33m         \u001b[1;32mraise\u001b[0m \u001b[0mException\u001b[0m\u001b[1;33m(\u001b[0m\u001b[1;34m\"boolean expected\"\u001b[0m\u001b[1;33m)\u001b[0m\u001b[1;33m\u001b[0m\u001b[1;33m\u001b[0m\u001b[0m\n\u001b[0m\u001b[0;32m      8\u001b[0m \u001b[1;33m\u001b[0m\u001b[0m\n\u001b[0;32m      9\u001b[0m \u001b[0mprint\u001b[0m\u001b[1;33m(\u001b[0m\u001b[0mreverse\u001b[0m\u001b[1;33m(\u001b[0m\u001b[1;32mTrue\u001b[0m\u001b[1;33m)\u001b[0m\u001b[1;33m)\u001b[0m\u001b[1;33m\u001b[0m\u001b[1;33m\u001b[0m\u001b[0m\n",
      "\u001b[1;31mException\u001b[0m: boolean expected"
     ]
    }
   ],
   "source": [
    "#A2) create a function that reverse a boolean value and returns the string \"boo,ean expected\"\n",
    "\n",
    "def reverse(isBool):\n",
    "    if type(isBool) == bool:\n",
    "        return not isBool\n",
    "    else:\n",
    "        raise Exception(\"boolean expected\")\n",
    "        \n",
    "print(reverse(True))\n",
    "print(reverse(False))\n",
    "print(reverse(None))\n",
    "print(reverse(0))"
   ]
  },
  {
   "cell_type": "code",
   "execution_count": 61,
   "id": "8966f892",
   "metadata": {},
   "outputs": [
    {
     "name": "stdout",
     "output_type": "stream",
     "text": [
      "1048.576 mm\n"
     ]
    }
   ],
   "source": [
    "#A3) fun to return thinkness in meters\n",
    "\n",
    "import math\n",
    "\n",
    "def num_layers(fold):\n",
    "    \n",
    "    if fold > 1:\n",
    "        return math.pow(2,fold-1)/1000\n",
    "    else: \n",
    "        return n/1000\n",
    "\n",
    "\n",
    "print(num_layers(21), \"mm\")"
   ]
  },
  {
   "cell_type": "code",
   "execution_count": 96,
   "id": "cb6444bd",
   "metadata": {},
   "outputs": [
    {
     "name": "stdout",
     "output_type": "stream",
     "text": [
      "[1, 3, 5]\n",
      "[1]\n"
     ]
    }
   ],
   "source": [
    "#A4) argument as single string and return an ordered list containing indices of all capital letters in the string\n",
    "\n",
    "def index_of_caps(string):\n",
    "    ordered_list = []\n",
    "    count=0\n",
    "    for i in string:\n",
    "        if i.isupper() :\n",
    "            ordered_list.append(count)\n",
    "            count += 1\n",
    "        else:\n",
    "            count +=1\n",
    "    return ordered_list\n",
    "            \n",
    "\n",
    "print(index_of_caps(\"eDaBiT\"))\n",
    "print(index_of_caps(\"sUn\"))\n",
    "           "
   ]
  },
  {
   "cell_type": "code",
   "execution_count": 105,
   "id": "e57535e5",
   "metadata": {},
   "outputs": [
    {
     "data": {
      "text/plain": [
       "[2, 4, 6]"
      ]
     },
     "execution_count": 105,
     "metadata": {},
     "output_type": "execute_result"
    }
   ],
   "source": [
    "#A5) list comprehension to fin all even numbers from 1 to given number\n",
    "\n",
    "def find_even_nums(n):\n",
    "    even_num = [ e for e in range(1,n+1) if e%2==0]\n",
    "    return even_num\n",
    "\n",
    "find_even_nums(6)"
   ]
  },
  {
   "cell_type": "code",
   "execution_count": null,
   "id": "d9406289",
   "metadata": {},
   "outputs": [],
   "source": []
  }
 ],
 "metadata": {
  "kernelspec": {
   "display_name": "Python 3",
   "language": "python",
   "name": "python3"
  },
  "language_info": {
   "codemirror_mode": {
    "name": "ipython",
    "version": 3
   },
   "file_extension": ".py",
   "mimetype": "text/x-python",
   "name": "python",
   "nbconvert_exporter": "python",
   "pygments_lexer": "ipython3",
   "version": "3.8.8"
  }
 },
 "nbformat": 4,
 "nbformat_minor": 5
}
