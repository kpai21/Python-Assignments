{
 "cells": [
  {
   "cell_type": "markdown",
   "id": "f36bdc46",
   "metadata": {},
   "source": [
    "A1) Advantges of function in python\n",
    "1) It reduces the duplicate code\n",
    "2) Can be written in generic manner\n",
    "3) splits complex problems in simpler once\n",
    "4) Reuse of the code\n",
    "5) Information can be hidden\n",
    "6) Other classes or programs can interact only with the required code easily \n",
    "\n"
   ]
  },
  {
   "cell_type": "markdown",
   "id": "6532409a",
   "metadata": {},
   "source": [
    "A2) The code in the function runs when it is called.\n",
    "eg \n",
    "def mapObject(): is the specification of the code, \n",
    "\n",
    "it is called like below.\n",
    "mapObject() "
   ]
  },
  {
   "cell_type": "markdown",
   "id": "cbdd6cf5",
   "metadata": {},
   "source": [
    "A3) def keyword defines a statement , the function starts with def and ends with (:) sign. The def creates a funciton object and assigns it to given object.\n"
   ]
  },
  {
   "cell_type": "markdown",
   "id": "a5bb3822",
   "metadata": {},
   "source": [
    "A4) A function is defined for a particular operation. Function call is when the funtion is invoked to use the particular operation or task."
   ]
  },
  {
   "cell_type": "markdown",
   "id": "9dadda02",
   "metadata": {},
   "source": [
    "A5) There are 3 scopes in python , \n",
    "1) Local scope: defined in the function\n",
    "2) Global scope: Defined outside the function or defined in the class\n",
    "3) Built-in : These covers all the keywords and cover the widest scope in python\n",
    "4) Enclosing scope: It exists in nested functions. The names defined in the enclosing function is available in the nested function.\n"
   ]
  },
  {
   "cell_type": "markdown",
   "id": "c3cff07a",
   "metadata": {},
   "source": [
    "A6) As soon as the function returns the local variabled declared are destroyed. "
   ]
  },
  {
   "cell_type": "markdown",
   "id": "67e8c94d",
   "metadata": {},
   "source": [
    "A7) Return statement means end of the execution or funtion. if there is not expression then it returns nonetype. yes return value can be used in expression and it returns the result of the expression when the return keyword is followed by the value of expression. It is used inside the function"
   ]
  },
  {
   "cell_type": "markdown",
   "id": "bdc6a390",
   "metadata": {},
   "source": [
    "A8) Function returns NoneType. "
   ]
  },
  {
   "cell_type": "markdown",
   "id": "06328de1",
   "metadata": {},
   "source": [
    "A9) Assign the global variable to the local variable \n",
    "\n",
    "globalVar = []\n",
    "\n",
    "def myFunct():\n",
    "    localVar = globalVar"
   ]
  },
  {
   "cell_type": "markdown",
   "id": "22ea2103",
   "metadata": {},
   "source": [
    "A10) Data type of None is NoneType which is equal to the orignial or emplty state of the object.\n"
   ]
  },
  {
   "cell_type": "markdown",
   "id": "d0157fa8",
   "metadata": {},
   "source": [
    "A11) The import statement read the code in the module and allows it usae in other files."
   ]
  },
  {
   "cell_type": "markdown",
   "id": "6a6ad5af",
   "metadata": {},
   "source": [
    "A12) The bacon() is called by spam.bacon()\n"
   ]
  },
  {
   "cell_type": "markdown",
   "id": "c89d7fb9",
   "metadata": {},
   "source": [
    "A13) Use try and except to save the program failure"
   ]
  },
  {
   "cell_type": "markdown",
   "id": "1b6afd0d",
   "metadata": {},
   "source": [
    "A14) Try block tests the code and except block catches the exceptions or errors and allow you to replace with huam understandable message."
   ]
  },
  {
   "cell_type": "code",
   "execution_count": 41,
   "id": "7d70ba26",
   "metadata": {},
   "outputs": [
    {
     "data": {
      "text/plain": [
       "[1, 2, 3, 4]"
      ]
     },
     "execution_count": 41,
     "metadata": {},
     "output_type": "execute_result"
    }
   ],
   "source": [
    "#A 15) \n",
    "list1 = [1,2,3,4]\n",
    "tuple(list1)\n",
    "\n",
    "tuple1= (1,2,3,4)\n",
    "list(tuple1)"
   ]
  },
  {
   "cell_type": "markdown",
   "id": "a78b19e3",
   "metadata": {},
   "source": [
    "A16) Variable store pointers or reference to the list "
   ]
  },
  {
   "cell_type": "markdown",
   "id": "fd616712",
   "metadata": {},
   "source": [
    "A17) copy.copy returns a shallow copy, copy.deepcopy retuns deepcopy\n",
    "\n",
    "There are two ways to copy in python deepcopy and copy. \n",
    "\n",
    "Deepcopy copies copies all the values recursively to an object. Any change in the copy of the orginal object doesnot affect the orignial object.\n",
    "\n",
    "Coy creates a shallow copy. The copying process is not recursive, a reference of object is copied instead of copying the numbers, thus any change in the copy object will also affect the original object. \n",
    "\n"
   ]
  },
  {
   "cell_type": "code",
   "execution_count": null,
   "id": "dbc26f2d",
   "metadata": {},
   "outputs": [],
   "source": []
  },
  {
   "cell_type": "code",
   "execution_count": null,
   "id": "c483f4d2",
   "metadata": {},
   "outputs": [],
   "source": []
  }
 ],
 "metadata": {
  "kernelspec": {
   "display_name": "Python 3",
   "language": "python",
   "name": "python3"
  },
  "language_info": {
   "codemirror_mode": {
    "name": "ipython",
    "version": 3
   },
   "file_extension": ".py",
   "mimetype": "text/x-python",
   "name": "python",
   "nbconvert_exporter": "python",
   "pygments_lexer": "ipython3",
   "version": "3.8.8"
  }
 },
 "nbformat": 4,
 "nbformat_minor": 5
}
