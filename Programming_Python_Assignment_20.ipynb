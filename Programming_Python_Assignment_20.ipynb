{
 "cells": [
  {
   "cell_type": "code",
   "execution_count": 16,
   "id": "5b681903",
   "metadata": {},
   "outputs": [
    {
     "name": "stdout",
     "output_type": "stream",
     "text": [
      "[1, 2, 3, 4]\n",
      "[0, 1729]\n"
     ]
    }
   ],
   "source": [
    "#A1) take list of string and inteers and filters out the list so that it returns a list of intergers only\n",
    "\n",
    "def filter_list(mis_list):\n",
    "    return [i for i in mis_list if type(i) == int]\n",
    "    \n",
    "print(filter_list([1,2,3,\"a\",\"b\",4]))\n",
    "print(filter_list([\"A\",0,\"Edabit\",1729,\"Python\",\"1729\"]))"
   ]
  },
  {
   "cell_type": "code",
   "execution_count": 31,
   "id": "72fc1916",
   "metadata": {},
   "outputs": [
    {
     "data": {
      "text/plain": [
       "[5, 5, 5, 5, 5]"
      ]
     },
     "execution_count": 31,
     "metadata": {},
     "output_type": "execute_result"
    }
   ],
   "source": [
    "#A2) create function which returns the list but with each elements index in the list added to itself.\n",
    "\n",
    "def add_indexes(n):\n",
    "      return [i+n[i] for i in range(0,len(n))]\n",
    "add_indexes([5,4,3,2,1])\n",
    "    "
   ]
  },
  {
   "cell_type": "code",
   "execution_count": 2,
   "id": "19c7063c",
   "metadata": {},
   "outputs": [
    {
     "name": "stdout",
     "output_type": "stream",
     "text": [
      "1740.3659359548026\n"
     ]
    }
   ],
   "source": [
    "#A3) vol of cone\n",
    "\n",
    "import math\n",
    "\n",
    "def cone_volume(r,h):\n",
    "    area = (math.pi * r)*(r + math.sqrt(math.pow(h,2) + math.pow(r,2)))\n",
    "    print (area)\n",
    "cone_volume(15,16)\n"
   ]
  },
  {
   "cell_type": "code",
   "execution_count": 39,
   "id": "ea28ab30",
   "metadata": {},
   "outputs": [
    {
     "name": "stdout",
     "output_type": "stream",
     "text": [
      "35.22071741263713\n"
     ]
    }
   ],
   "source": [
    "#A4) Triangular number sequence\n",
    "def triange(n):\n",
    "    result"
   ]
  },
  {
   "cell_type": "code",
   "execution_count": 9,
   "id": "e06d177b",
   "metadata": {},
   "outputs": [
    {
     "name": "stdout",
     "output_type": "stream",
     "text": [
      "55.0\n"
     ]
    },
    {
     "data": {
      "text/plain": [
       "9.0"
      ]
     },
     "execution_count": 9,
     "metadata": {},
     "output_type": "execute_result"
    }
   ],
   "source": [
    "#A5) find the missing number from 1 to 10\n",
    "\n",
    "def missing_number(arr):\n",
    "    n = len(arr)\n",
    "    total = ((n+1)* (n+2)) / 2\n",
    "    print(total)\n",
    "    sum_of_arr = sum(arr)\n",
    "    return (total - sum_of_arr)\n",
    "\n",
    "arr = [1,3,4,5,6,2,7,8,10]\n",
    "missing_number(arr)"
   ]
  },
  {
   "cell_type": "code",
   "execution_count": null,
   "id": "07b28dbb",
   "metadata": {},
   "outputs": [],
   "source": []
  }
 ],
 "metadata": {
  "kernelspec": {
   "display_name": "Python 3",
   "language": "python",
   "name": "python3"
  },
  "language_info": {
   "codemirror_mode": {
    "name": "ipython",
    "version": 3
   },
   "file_extension": ".py",
   "mimetype": "text/x-python",
   "name": "python",
   "nbconvert_exporter": "python",
   "pygments_lexer": "ipython3",
   "version": "3.8.8"
  }
 },
 "nbformat": 4,
 "nbformat_minor": 5
}
