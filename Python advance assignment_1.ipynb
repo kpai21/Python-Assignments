{
 "cells": [
  {
   "cell_type": "markdown",
   "id": "1b8f0053",
   "metadata": {},
   "source": [
    "#A1) OOPS\n",
    "OOPS is programming paradigm using objects class in programming language. It implements real-world entities like inheritance, polymorphisms, encapsulation, etc. in programming. OOPs binds the data and the functions that work on that together as a single unit so that no other part of the code can access this data.\n",
    "\n",
    "Main concepts:\n",
    "1) class\n",
    "2) objects\n",
    "3) Polymorphism \n",
    "4) Encapsulation\n",
    "5) Inheritance"
   ]
  },
  {
   "cell_type": "markdown",
   "id": "6b7d2cab",
   "metadata": {},
   "source": [
    "#A2) \n",
    "The inhertance search searches the objects or namespaces from bottom to top looking for the lowest occurance of an attribute name. "
   ]
  },
  {
   "cell_type": "markdown",
   "id": "283c0684",
   "metadata": {},
   "source": [
    "#A3) \n",
    "class object is a blueprint for instance of the object, but instance object is a concrete item n out code. \n",
    "instance object are new  namespace, thet start out empty but inherit object attibute that live in class object. \n",
    "The first argument of class function (self) reference the instance object and assignment to attributes of self change data in the instance. "
   ]
  },
  {
   "cell_type": "markdown",
   "id": "b77258c6",
   "metadata": {},
   "source": [
    "#A4) \n",
    "The first argument of every class is named self by convention. Self refers to the created object or the instance whose method is called. "
   ]
  },
  {
   "cell_type": "markdown",
   "id": "a36b09e8",
   "metadata": {},
   "source": [
    "#A5) \n",
    "It is called when the class is created, The __init__ initialize the class, the object attributes. It is similar to the constructor"
   ]
  },
  {
   "cell_type": "markdown",
   "id": "e86eba9d",
   "metadata": {},
   "source": [
    "#A6) \n",
    "classname = ClassName()\n",
    "the above code creates a class instance."
   ]
  },
  {
   "cell_type": "markdown",
   "id": "2e1c79f8",
   "metadata": {},
   "source": [
    "#A7) \n",
    "class is user-defined blueprint or prototype from which objects are created. \n",
    "1) class keyword defines the class. class keyword followed by classname. \n",
    "class classname:\n",
    "    class defination statements.\n",
    "    "
   ]
  },
  {
   "cell_type": "markdown",
   "id": "2bdf77f2",
   "metadata": {},
   "source": [
    "#A8) \n",
    "super() function gives the access to the methods and properties of parent or sibling class. It returns an object that represents parent class. "
   ]
  }
 ],
 "metadata": {
  "kernelspec": {
   "display_name": "Python 3",
   "language": "python",
   "name": "python3"
  },
  "language_info": {
   "codemirror_mode": {
    "name": "ipython",
    "version": 3
   },
   "file_extension": ".py",
   "mimetype": "text/x-python",
   "name": "python",
   "nbconvert_exporter": "python",
   "pygments_lexer": "ipython3",
   "version": "3.8.8"
  }
 },
 "nbformat": 4,
 "nbformat_minor": 5
}
