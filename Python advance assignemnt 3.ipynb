{
 "cells": [
  {
   "cell_type": "code",
   "execution_count": null,
   "id": "526c410f",
   "metadata": {},
   "outputs": [],
   "source": [
    "A1) Abstract super class is the blue print of the ohter classes that impement. A class that contains one or more Abstract methods are called Abstract class. The abstract method is declare without any implementation. The classes implementing the abstract class implements the abstract method. Abstract class provides a common interface. Abstract classes are used when a common interface is required but different implementation. "
   ]
  },
  {
   "cell_type": "markdown",
   "id": "cb2ef263",
   "metadata": {},
   "source": [
    "A2 ) The expression at the top  of the class is evaluated in the start and this expression or valriable is global and can be used in entrie class and its subclass."
   ]
  },
  {
   "cell_type": "markdown",
   "id": "95710fea",
   "metadata": {},
   "source": [
    "A3) The main reason for always calling base class _init__ is that base class may typically create member variable and initialize them to defaults. So if you don't call base class init, none of that code would be executed and you would end up with base class that has no member variables"
   ]
  },
  {
   "cell_type": "code",
   "execution_count": null,
   "id": "0f1317f3",
   "metadata": {},
   "outputs": [],
   "source": [
    "A4) Each inherited method can be augumented from the class by defining the sub class that replaces the required parts. "
   ]
  },
  {
   "cell_type": "code",
   "execution_count": null,
   "id": "3945f1af",
   "metadata": {},
   "outputs": [],
   "source": [
    "A5) The local scope exits onces the function is finished executing. The function "
   ]
  }
 ],
 "metadata": {
  "kernelspec": {
   "display_name": "Python 3",
   "language": "python",
   "name": "python3"
  },
  "language_info": {
   "codemirror_mode": {
    "name": "ipython",
    "version": 3
   },
   "file_extension": ".py",
   "mimetype": "text/x-python",
   "name": "python",
   "nbconvert_exporter": "python",
   "pygments_lexer": "ipython3",
   "version": "3.8.8"
  }
 },
 "nbformat": 4,
 "nbformat_minor": 5
}
