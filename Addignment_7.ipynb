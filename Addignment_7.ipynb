{
 "cells": [
  {
   "cell_type": "markdown",
   "id": "5a47aff3",
   "metadata": {},
   "source": [
    "A1) re.complie()\n"
   ]
  },
  {
   "cell_type": "markdown",
   "id": "e27ff374",
   "metadata": {},
   "source": [
    "A2) Raw strings are used in a way that blackslashes do not have to be escaped."
   ]
  },
  {
   "cell_type": "markdown",
   "id": "9ca03ad2",
   "metadata": {},
   "source": [
    "A3) It returns match"
   ]
  },
  {
   "cell_type": "markdown",
   "id": "91fff7bd",
   "metadata": {},
   "source": [
    "A4) From the group method that returns string of the matched text"
   ]
  },
  {
   "cell_type": "markdown",
   "id": "4e0db47d",
   "metadata": {},
   "source": [
    "A5) Groupd 0 is the match, gropup1: covers first set of paranteses, group2 coves 2nd set of parentheses."
   ]
  },
  {
   "cell_type": "markdown",
   "id": "f4af1e2f",
   "metadata": {},
   "source": [
    "A6) backslash is used to escape the periods and parentheses \\, \\(, and \\)."
   ]
  },
  {
   "cell_type": "markdown",
   "id": "b0c22b2c",
   "metadata": {},
   "source": [
    "A7) A list of strings is returned for regex with no groups. A list of string tuples is returned for regex with groups. "
   ]
  },
  {
   "cell_type": "markdown",
   "id": "6696d4f4",
   "metadata": {},
   "source": [
    "A8) It signifies matching \"either, or\" between two groups. "
   ]
  },
  {
   "cell_type": "markdown",
   "id": "f9684984",
   "metadata": {},
   "source": [
    "A9) The ? character can either mean \"match zero or one of the preceding group or be used to signigy nongreedy matching\""
   ]
  },
  {
   "cell_type": "markdown",
   "id": "b7f3024f",
   "metadata": {},
   "source": [
    "A10) + means = match one or more , * means = match zero or more"
   ]
  },
  {
   "cell_type": "markdown",
   "id": "5ece02d5",
   "metadata": {},
   "source": [
    "A11) The {4} matches exactly four instances of the preceding group. The {4,5} matches between four and five instances."
   ]
  },
  {
   "cell_type": "markdown",
   "id": "a2372639",
   "metadata": {},
   "source": [
    "A12) The \\d, \\w, and \\s shorthand character classes match a single digit, word, or space character, respectively."
   ]
  },
  {
   "cell_type": "markdown",
   "id": "7f70aa29",
   "metadata": {},
   "source": [
    "A13) The \\D, \\W, and \\S shorthand character classes match a single character that is not a digit, word, or space character, respectively."
   ]
  },
  {
   "cell_type": "markdown",
   "id": "7ae86076",
   "metadata": {},
   "source": [
    "A14) * performs a greedy match and *? performs a nongreedy match"
   ]
  },
  {
   "cell_type": "markdown",
   "id": "54197c04",
   "metadata": {},
   "source": [
    "A15) Either [0-9a-z] or [a-z0-9]"
   ]
  },
  {
   "cell_type": "markdown",
   "id": "2477ffe3",
   "metadata": {},
   "source": [
    "A16) re.IGNORECASE is used to do case insensitive."
   ]
  },
  {
   "cell_type": "markdown",
   "id": "edc438b7",
   "metadata": {},
   "source": [
    "A17) The . character  matches any character except the newline character.  re.DOTALL as the second argument in re.compile() also matches newline character."
   ]
  },
  {
   "cell_type": "markdown",
   "id": "e410ee32",
   "metadata": {},
   "source": [
    "A18) 'X drummers, X pipers, five rings, X hens'"
   ]
  },
  {
   "cell_type": "markdown",
   "id": "c4825acb",
   "metadata": {},
   "source": [
    "A19) re.verbose makes the expression readble by allowing adding comments. "
   ]
  },
  {
   "cell_type": "markdown",
   "id": "d6bb4df1",
   "metadata": {},
   "source": [
    "A20) re.compile(r'^\\d{1,3}(,\\d{3})*$\n",
    "                ')\n"
   ]
  },
  {
   "cell_type": "markdown",
   "id": "fde40599",
   "metadata": {},
   "source": [
    "A21) The regrex expression is re.compile(r'[A-Z][a-z]*\\sWatanabe')"
   ]
  },
  {
   "cell_type": "markdown",
   "id": "01e20b6e",
   "metadata": {},
   "source": [
    "A22) re.compile(r'(Alice|Bob|Carol)\\s(eats|pets|throws)\\s(apples|cats|baseballs)\\.', re.IGNORECASE)"
   ]
  }
 ],
 "metadata": {
  "kernelspec": {
   "display_name": "Python 3",
   "language": "python",
   "name": "python3"
  },
  "language_info": {
   "codemirror_mode": {
    "name": "ipython",
    "version": 3
   },
   "file_extension": ".py",
   "mimetype": "text/x-python",
   "name": "python",
   "nbconvert_exporter": "python",
   "pygments_lexer": "ipython3",
   "version": "3.8.8"
  }
 },
 "nbformat": 4,
 "nbformat_minor": 5
}
