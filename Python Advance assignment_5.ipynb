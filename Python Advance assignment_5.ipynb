{
 "cells": [
  {
   "cell_type": "markdown",
   "id": "44cfa093",
   "metadata": {},
   "source": [
    "#A1) \n",
    "When a class is derived from more than one base class, it is called multiple inheritance. All the features of the base classes are inherited by the derived class."
   ]
  },
  {
   "cell_type": "markdown",
   "id": "9855026f",
   "metadata": {},
   "source": [
    "#A2) Delegation is design pattern that is used to change the behaviour of the class by new implementation "
   ]
  },
  {
   "cell_type": "markdown",
   "id": "daf42d09",
   "metadata": {},
   "source": [
    "#A3) \n",
    "Composition is has-a relationship, it enables creating complex types by combining object of different classes. So a class composite can contain an object of another class component."
   ]
  },
  {
   "cell_type": "markdown",
   "id": "a12f0d48",
   "metadata": {},
   "source": [
    "#A4) \n",
    "A bound method is the one which is dependent on the instance of the class as the first arument. It passes the instance as the first argument which is used to access the variables and functions. All function are by default bound methods. "
   ]
  },
  {
   "cell_type": "markdown",
   "id": "3569bfd8",
   "metadata": {},
   "source": [
    "#A5) \n",
    "As python support multiple inheritance, the pseudo private attributes play a major role in allowing the developer to access the attibutes privately. The pseudo-private variaables avoid confusions and are prefeixed with a double underscore '__', as \n",
    "This name mangling is a means of creating private vairable as it prevents from accessing it by accident. "
   ]
  },
  {
   "cell_type": "code",
   "execution_count": null,
   "id": "c1209558",
   "metadata": {},
   "outputs": [],
   "source": []
  }
 ],
 "metadata": {
  "kernelspec": {
   "display_name": "Python 3",
   "language": "python",
   "name": "python3"
  },
  "language_info": {
   "codemirror_mode": {
    "name": "ipython",
    "version": 3
   },
   "file_extension": ".py",
   "mimetype": "text/x-python",
   "name": "python",
   "nbconvert_exporter": "python",
   "pygments_lexer": "ipython3",
   "version": "3.8.8"
  }
 },
 "nbformat": 4,
 "nbformat_minor": 5
}
