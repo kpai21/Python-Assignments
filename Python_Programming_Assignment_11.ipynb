{
 "cells": [
  {
   "cell_type": "code",
   "execution_count": 13,
   "id": "c6a0800d",
   "metadata": {},
   "outputs": [
    {
     "name": "stdout",
     "output_type": "stream",
     "text": [
      "['This', 'line', 'tested']\n"
     ]
    }
   ],
   "source": [
    "#A1) function to find string greater than length k\n",
    "\n",
    "def getBigWords(k, sent):\n",
    "    string=[]\n",
    "    text = sent.split(\" \")\n",
    "    \n",
    "    for x in text:\n",
    "        if len(x) > k:\n",
    "            string.append(x)\n",
    "            \n",
    "    return string\n",
    "            \n",
    "sent = \"This is the line to be tested\"\n",
    "k = 3\n",
    "\n",
    "print(getBigWords(3, sent))\n",
    "\n",
    "    "
   ]
  },
  {
   "cell_type": "code",
   "execution_count": 32,
   "id": "78727153",
   "metadata": {},
   "outputs": [
    {
     "name": "stdout",
     "output_type": "stream",
     "text": [
      "exaple\n"
     ]
    }
   ],
   "source": [
    "#A2) Remove ith character from the string\n",
    "\n",
    "def removeAlp(k, sent):\n",
    "    for j in range(len(sent)):\n",
    "        if j == k:\n",
    "            sent = sent.replace(sent[k], \"\")\n",
    "    return sent\n",
    "    \n",
    "print(removeAlp(3, \"example\"))"
   ]
  },
  {
   "cell_type": "code",
   "execution_count": 38,
   "id": "07aeeb4a",
   "metadata": {},
   "outputs": [
    {
     "name": "stdout",
     "output_type": "stream",
     "text": [
      "['this', 'is', 'an', 'example']\n"
     ]
    },
    {
     "ename": "NameError",
     "evalue": "name 'list_string' is not defined",
     "output_type": "error",
     "traceback": [
      "\u001b[1;31m---------------------------------------------------------------------------\u001b[0m",
      "\u001b[1;31mNameError\u001b[0m                                 Traceback (most recent call last)",
      "\u001b[1;32m<ipython-input-38-df4595f3be91>\u001b[0m in \u001b[0;36m<module>\u001b[1;34m\u001b[0m\n\u001b[0;32m     13\u001b[0m \u001b[0mprint\u001b[0m \u001b[1;33m(\u001b[0m\u001b[0msplit_string\u001b[0m\u001b[1;33m(\u001b[0m\u001b[0mstringExm\u001b[0m\u001b[1;33m)\u001b[0m\u001b[1;33m)\u001b[0m\u001b[1;33m\u001b[0m\u001b[1;33m\u001b[0m\u001b[0m\n\u001b[0;32m     14\u001b[0m \u001b[1;33m\u001b[0m\u001b[0m\n\u001b[1;32m---> 15\u001b[1;33m \u001b[0mprint\u001b[0m\u001b[1;33m(\u001b[0m\u001b[0mjoin_string\u001b[0m\u001b[1;33m(\u001b[0m\u001b[0mlist_string\u001b[0m\u001b[1;33m)\u001b[0m\u001b[1;33m)\u001b[0m\u001b[1;33m\u001b[0m\u001b[1;33m\u001b[0m\u001b[0m\n\u001b[0m\u001b[0;32m     16\u001b[0m \u001b[1;33m\u001b[0m\u001b[0m\n",
      "\u001b[1;31mNameError\u001b[0m: name 'list_string' is not defined"
     ]
    }
   ],
   "source": [
    "#A3) program to split and join the string\n",
    "\n",
    "def split_string(stringExm):\n",
    "    stringExm = stringExm.split(' ')\n",
    "    return stringExm\n",
    "\n",
    "def join_string(stringExm):\n",
    "    stringExm = '-'.join(stringExm)\n",
    "    return stringExm\n",
    "\n",
    "stringExm = \"this is an example\"\n",
    "\n",
    "print (split_string(stringExm))\n",
    "\n",
    "print(join_string(list_string))\n"
   ]
  },
  {
   "cell_type": "code",
   "execution_count": 41,
   "id": "0fef0456",
   "metadata": {},
   "outputs": [
    {
     "name": "stdout",
     "output_type": "stream",
     "text": [
      "Yes\n",
      "No\n"
     ]
    }
   ],
   "source": [
    "#A4) Python to check if a give string is binary string or not\n",
    "\n",
    "def check(string):\n",
    "    p = set(string)\n",
    "    s= {'0',\"1\"}\n",
    "    \n",
    "    if s == p or p == {'0'} or p == {'1'}:\n",
    "        print (\"Yes\")\n",
    "    else: \n",
    "        print(\"No\")\n",
    "\n",
    "check('10101010101')\n",
    "check(\"slkdnfslkf\")\n",
    "        "
   ]
  },
  {
   "cell_type": "code",
   "execution_count": 48,
   "id": "a729abda",
   "metadata": {},
   "outputs": [
    {
     "name": "stdout",
     "output_type": "stream",
     "text": [
      "['is', 'a', 'banana']\n"
     ]
    }
   ],
   "source": [
    "#A5) Uncommon words form two strings\n",
    "\n",
    "def unCommonWords(A,B):\n",
    "    count = {}\n",
    "    for word in A.split():\n",
    "        count[word] = count.get(word, 0) + 1\n",
    "        \n",
    "    for word in B.split():\n",
    "        count[word] = count.get(word, 0 ) + 1\n",
    "\n",
    "        return [word for word in count if count[word] ==1]\n",
    "    \n",
    "A = \"This is a banana\"\n",
    "B= \"This is a apple\"\n",
    "\n",
    "print(unCommonWords(A,B))\n",
    "            "
   ]
  },
  {
   "cell_type": "code",
   "execution_count": 52,
   "id": "98a708e8",
   "metadata": {},
   "outputs": [
    {
     "name": "stdout",
     "output_type": "stream",
     "text": [
      "i s   a n "
     ]
    }
   ],
   "source": [
    "#A6) Find duplicate characters form a strings\n",
    "\n",
    "def unCommonWords(A):\n",
    "    count = {}\n",
    "    for char in A:\n",
    "        if char in count:\n",
    "            count[char] +=1\n",
    "        else:\n",
    "            count[char] = 1\n",
    "            \n",
    "    for key, value in count.items():\n",
    "        if value > 1:\n",
    "            print(key,end= \" \")\n",
    "\n",
    "            \n",
    "A = \"This is a banana\"\n",
    "unCommonWords(A)\n",
    "            "
   ]
  },
  {
   "cell_type": "code",
   "execution_count": 72,
   "id": "061f70b3",
   "metadata": {},
   "outputs": [
    {
     "name": "stdout",
     "output_type": "stream",
     "text": [
      "No\n"
     ]
    }
   ],
   "source": [
    "#A7) Check for special characters\n",
    "\n",
    "import re\n",
    "\n",
    "def isSpecialChar(specialStr):\n",
    "    regex = (\"^(?=.*[a-z])(?=.*[A-Z])(?=.*\\\\d)(?=.*[-+_!@#$%^&*., ?]).+$\")\n",
    "                                                        \n",
    "    p = re.compile(regex)\n",
    "\n",
    "    if (re.search(p,specialStr) and specialStr == None):\n",
    "        print(\"Yes\")\n",
    "    else:\n",
    "        print(\"No\")\n",
    "                                                        \n",
    "specialStr=''#$%^''\n",
    "isSpecialChar(specialStr)"
   ]
  },
  {
   "cell_type": "code",
   "execution_count": null,
   "id": "03278595",
   "metadata": {},
   "outputs": [],
   "source": []
  },
  {
   "cell_type": "code",
   "execution_count": null,
   "id": "4bac6e87",
   "metadata": {},
   "outputs": [],
   "source": []
  }
 ],
 "metadata": {
  "kernelspec": {
   "display_name": "Python 3",
   "language": "python",
   "name": "python3"
  },
  "language_info": {
   "codemirror_mode": {
    "name": "ipython",
    "version": 3
   },
   "file_extension": ".py",
   "mimetype": "text/x-python",
   "name": "python",
   "nbconvert_exporter": "python",
   "pygments_lexer": "ipython3",
   "version": "3.8.8"
  }
 },
 "nbformat": 4,
 "nbformat_minor": 5
}
