{
 "cells": [
  {
   "cell_type": "code",
   "execution_count": 1,
   "id": "5dd13c4f",
   "metadata": {},
   "outputs": [],
   "source": [
    "#A1) No, Strings are immutable we cannot modify the strings index characters but as a whole we can modify the entire string\n"
   ]
  },
  {
   "cell_type": "code",
   "execution_count": 2,
   "id": "4ecad6ec",
   "metadata": {},
   "outputs": [],
   "source": [
    "#A2) No, concatenation will add a new string at the end of the given string and not in begining or in between the string. So i doesnt modify the internal characters of original string.\n"
   ]
  },
  {
   "cell_type": "code",
   "execution_count": 3,
   "id": "4944c206",
   "metadata": {},
   "outputs": [],
   "source": [
    "#A3) indexof(), [] brackets for index, charAt() , "
   ]
  },
  {
   "cell_type": "code",
   "execution_count": 4,
   "id": "f746e32e",
   "metadata": {},
   "outputs": [],
   "source": [
    "#A4) “Indexing” means referring to an element of an iterable by its position within the iterable. “Slicing” means getting a subset of elements from an iterable based on their indices"
   ]
  },
  {
   "cell_type": "code",
   "execution_count": 11,
   "id": "80be9689",
   "metadata": {},
   "outputs": [
    {
     "data": {
      "text/plain": [
       "'1tringword'"
      ]
     },
     "execution_count": 11,
     "metadata": {},
     "output_type": "execute_result"
    }
   ],
   "source": [
    "#A5) the indexing and slicing provides the data in string form, indexing provides a single character slicing provides a range of characters. \n"
   ]
  },
  {
   "cell_type": "code",
   "execution_count": 12,
   "id": "ccbe6d64",
   "metadata": {},
   "outputs": [],
   "source": [
    "#A6) Python does not have char data types, it only has string data type. "
   ]
  },
  {
   "cell_type": "code",
   "execution_count": 13,
   "id": "76eb6ccb",
   "metadata": {},
   "outputs": [],
   "source": [
    "#A7) \n",
    "\n",
    "#var3 = var1 + var2\n",
    "#var3 = \" \".join([var1, var2])\n",
    "#print(\"% s % s\" % (var1, var2))\n",
    "#var3 = \"{} {}\".format(var1, var2)\n"
   ]
  },
  {
   "cell_type": "code",
   "execution_count": 14,
   "id": "c7c659aa",
   "metadata": {},
   "outputs": [],
   "source": [
    "#A8) Index() throws an exception if the substring is not found "
   ]
  },
  {
   "cell_type": "code",
   "execution_count": 15,
   "id": "d7cb03ac",
   "metadata": {},
   "outputs": [],
   "source": [
    "#A9) logical operatos and functions starting with \"is\" like islower , isasiic etc return bool results.\n"
   ]
  }
 ],
 "metadata": {
  "kernelspec": {
   "display_name": "Python 3",
   "language": "python",
   "name": "python3"
  },
  "language_info": {
   "codemirror_mode": {
    "name": "ipython",
    "version": 3
   },
   "file_extension": ".py",
   "mimetype": "text/x-python",
   "name": "python",
   "nbconvert_exporter": "python",
   "pygments_lexer": "ipython3",
   "version": "3.8.8"
  }
 },
 "nbformat": 4,
 "nbformat_minor": 5
}
