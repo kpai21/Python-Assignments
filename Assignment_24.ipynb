{
 "cells": [
  {
   "cell_type": "markdown",
   "id": "40893dd3",
   "metadata": {},
   "source": [
    "A1) \n",
    "Lambada function is an anonymous function expressed as a single statement. It is used instead of def funcitons.\n",
    "using def function is clear than lambada functions, but when a single line of functions is needed lambda functions are handy."
   ]
  },
  {
   "cell_type": "markdown",
   "id": "afb22f9c",
   "metadata": {},
   "source": [
    "A2) Lambda is handy when you require to use many tiny functions and need to remember they names. Lambdas are used in graphical user interfaces to define callback functions. "
   ]
  },
  {
   "cell_type": "code",
   "execution_count": null,
   "id": "1bf710ba",
   "metadata": {},
   "outputs": [],
   "source": [
    "A3) \n",
    "Map() applies a function to each element of the string, and returns the results. \n",
    "reduce () returns a single value for the function .\n",
    "filter() filter passes true when the condition stated is the predicate, otherwise false. \n",
    "all these generators can be used togethers in a same statement. \n"
   ]
  },
  {
   "cell_type": "markdown",
   "id": "76b21041",
   "metadata": {},
   "source": [
    "A4) These are arbitary python expression that adds meta data to the function parameters. annotations can be done for simple paramters, nested parameters  associates parts of function. \n",
    "\n",
    "1) These are optional for parameters and return values.\n",
    "2) Associates parts of function with pytohn expressions\n",
    "\n",
    "Annotation provides syntax -> for the return value. "
   ]
  },
  {
   "cell_type": "markdown",
   "id": "76dc6aac",
   "metadata": {},
   "source": [
    "A5) Recursive function calls it self untill the condition is satisfied. \n",
    "Used for complicated functions, \n",
    "reduces number of lines as the code is reusable, \n",
    "the code looks simple and effective.\n"
   ]
  },
  {
   "cell_type": "code",
   "execution_count": null,
   "id": "13d49ae2",
   "metadata": {},
   "outputs": [],
   "source": [
    "A6) 4 space rule in python code\n",
    "using docstring, for single or multi line comments\n",
    "using try and catch method\n",
    "handling exceptions with the expected or custom error messages.\n",
    "camelcase to name classes and functions\n",
    "letters or numbers are not used as identifiers\n",
    "self as a first argument while creating a method\n"
   ]
  },
  {
   "cell_type": "code",
   "execution_count": null,
   "id": "7a3093ab",
   "metadata": {},
   "outputs": [],
   "source": [
    "A7) Function returns the values using return keyword\n",
    "function can print the value \n",
    "function can modify the value when called "
   ]
  }
 ],
 "metadata": {
  "kernelspec": {
   "display_name": "Python 3",
   "language": "python",
   "name": "python3"
  },
  "language_info": {
   "codemirror_mode": {
    "name": "ipython",
    "version": 3
   },
   "file_extension": ".py",
   "mimetype": "text/x-python",
   "name": "python",
   "nbconvert_exporter": "python",
   "pygments_lexer": "ipython3",
   "version": "3.8.8"
  }
 },
 "nbformat": 4,
 "nbformat_minor": 5
}
