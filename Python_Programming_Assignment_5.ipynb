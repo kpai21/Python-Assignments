{
 "cells": [
  {
   "cell_type": "code",
   "execution_count": 6,
   "id": "977b405c",
   "metadata": {},
   "outputs": [
    {
     "name": "stdout",
     "output_type": "stream",
     "text": [
      "The L.C.M is 4\n"
     ]
    }
   ],
   "source": [
    "#A1) Python program to find LCM\n",
    "\n",
    "def compute_lcm(x,y):\n",
    "\n",
    "    if x> y:\n",
    "        greater = x\n",
    "    else:\n",
    "        greater = y\n",
    "\n",
    "    while(True):\n",
    "        if((greater % x ==0) and (greater %y == 0)):\n",
    "            lcm = greater \n",
    "            break\n",
    "        greater +=1\n",
    "\n",
    "    return lcm\n",
    "\n",
    "num1 = 4\n",
    "num2 = 2\n",
    "\n",
    "print(\"The L.C.M is\", compute_lcm(num1, num2))\n",
    "\n"
   ]
  },
  {
   "cell_type": "code",
   "execution_count": 10,
   "id": "6230ace4",
   "metadata": {},
   "outputs": [
    {
     "name": "stdout",
     "output_type": "stream",
     "text": [
      "The H.C.F is 2\n"
     ]
    }
   ],
   "source": [
    "#A2) Python program to find HCF\n",
    "\n",
    "def compute_HCF(x,y):\n",
    "    if x > y:\n",
    "        smaller = y\n",
    "    else: smaller = x\n",
    "    for i in range(1,smaller+1):\n",
    "        if ((x%i==0) and (y % i ==0)):\n",
    "            hcf = i\n",
    "    return hcf\n",
    "\n",
    "num1 = 54\n",
    "num2 = 26\n",
    "\n",
    "print(\"The H.C.F is\", compute_HCF(num1,num2))\n",
    "    "
   ]
  },
  {
   "cell_type": "code",
   "execution_count": 12,
   "id": "bbc16c6d",
   "metadata": {},
   "outputs": [
    {
     "name": "stdout",
     "output_type": "stream",
     "text": [
      "The decimal value of 234 is:\n",
      "0b11101010 in binary\n",
      "0o352 in octal\n",
      "0xea in hexadecimal\n"
     ]
    }
   ],
   "source": [
    "#A3) convert decimal into other number systems\n",
    "\n",
    "dec = 234\n",
    "\n",
    "print(\"The decimal value of\", dec, \"is:\")\n",
    "print(bin(dec), \"in binary\")\n",
    "print(oct(dec), \"in octal\")\n",
    "print(hex(dec), \"in hexadecimal\")"
   ]
  },
  {
   "cell_type": "code",
   "execution_count": 13,
   "id": "db01ec95",
   "metadata": {},
   "outputs": [
    {
     "name": "stdout",
     "output_type": "stream",
     "text": [
      "The ASCII value of r is 114\n"
     ]
    }
   ],
   "source": [
    "#A4) Write ASCII values\n",
    "\n",
    "c = 'r'\n",
    "\n",
    "print(\"The ASCII value of \" + c + \" is\", ord(c))"
   ]
  },
  {
   "cell_type": "code",
   "execution_count": 5,
   "id": "6ab17c2b",
   "metadata": {},
   "outputs": [
    {
     "name": "stdout",
     "output_type": "stream",
     "text": [
      "Select operation \n",
      " 1. Add \n",
      " 2. Substract \n",
      " 3. Multiply \n",
      " 4. Divide\n",
      "Enter choice(1/2/3/4): 2\n",
      "Enter first number: 3\n",
      "Enter second number: 1\n",
      "3.0 - 1.0 = 2.0\n"
     ]
    }
   ],
   "source": [
    "#A5) Simple calculator\n",
    "\n",
    "def add (x,y):\n",
    "    return x + y\n",
    "\n",
    "def subtract(x,y):\n",
    "    return x - y\n",
    "\n",
    "def multiply(x,y):\n",
    "    return x *y\n",
    "\n",
    "def divide(x,y):\n",
    "    return x/y\n",
    "\n",
    "print(\"Select operation \\n 1. Add \\n 2. Substract \\n 3. Multiply \\n 4. Divide\")\n",
    "choice = input(\"Enter choice(1/2/3/4): \")\n",
    "\n",
    "if choice in (\"1\",\"2\",\"3\",\"4\"):\n",
    "    num1 = float(input(\"Enter first number: \"))\n",
    "    num2 = float(input(\"Enter second number: \"))\n",
    "\n",
    "    if choice == \"1\":\n",
    "        print(num1, \"+\", num2, \"=\", add(num1, num2))\n",
    "    elif choice ==\"2\":\n",
    "        print(num1, \"-\", num2, \"=\", subtract(num1, num2))\n",
    "    elif choice ==\"3\":\n",
    "        print(num1, \"*\", num2, \"=\", multiply(num1, num2))\n",
    "    elif choice ==\"4\":\n",
    "        print(num1, \"/\", num2, \"=\", divide(num1, num2))\n",
    "\n",
    "else:\n",
    "    print(\"Invalid input\")\n",
    "\n"
   ]
  },
  {
   "cell_type": "code",
   "execution_count": null,
   "id": "f397b8ad",
   "metadata": {},
   "outputs": [],
   "source": []
  }
 ],
 "metadata": {
  "kernelspec": {
   "display_name": "Python 3",
   "language": "python",
   "name": "python3"
  },
  "language_info": {
   "codemirror_mode": {
    "name": "ipython",
    "version": 3
   },
   "file_extension": ".py",
   "mimetype": "text/x-python",
   "name": "python",
   "nbconvert_exporter": "python",
   "pygments_lexer": "ipython3",
   "version": "3.8.8"
  }
 },
 "nbformat": 4,
 "nbformat_minor": 5
}
