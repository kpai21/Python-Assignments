{
 "cells": [
  {
   "cell_type": "code",
   "execution_count": 6,
   "id": "e90880f0",
   "metadata": {},
   "outputs": [
    {
     "name": "stdout",
     "output_type": "stream",
     "text": [
      "sum of all elements:  27\n"
     ]
    }
   ],
   "source": [
    "#A1) python programs to find sum of elements in list\n",
    "total=0\n",
    "\n",
    "_list = [9,4,6,8]\n",
    "\n",
    "for elements in range(0, len(_list)):\n",
    "    total = total + _list[elements]\n",
    "    \n",
    "print(\"sum of all elements: \", total)"
   ]
  },
  {
   "cell_type": "code",
   "execution_count": 15,
   "id": "bb7db974",
   "metadata": {},
   "outputs": [
    {
     "name": "stdout",
     "output_type": "stream",
     "text": [
      "1\n",
      "2\n",
      "6\n",
      "24\n",
      "multiplication of all elements:  24\n"
     ]
    }
   ],
   "source": [
    "#A2) Python program to multiple all numbers in the list \n",
    "\n",
    "_list = [1,2,3,4]\n",
    "total = 1\n",
    "for elements in range(0, len(_list)):\n",
    "    total = total * _list[elements]\n",
    "    print(total)\n",
    "    \n",
    "print(\"multiplication of all elements: \", total)"
   ]
  },
  {
   "cell_type": "code",
   "execution_count": 25,
   "id": "ac84ac73",
   "metadata": {},
   "outputs": [
    {
     "name": "stdout",
     "output_type": "stream",
     "text": [
      "smallest element:  2\n"
     ]
    }
   ],
   "source": [
    "#A3) Smallest number in the list\n",
    "\n",
    "\n",
    "_list = [11,2,3,4]\n",
    "smallestEle = _list[0]\n",
    "for elements in range(0, len(_list)):\n",
    "    if (smallestEle > _list[elements]):\n",
    "        smallestEle = _list[elements]\n",
    "        \n",
    "print(\"smallest element: \", smallestEle)\n"
   ]
  },
  {
   "cell_type": "code",
   "execution_count": 26,
   "id": "431b7763",
   "metadata": {},
   "outputs": [
    {
     "name": "stdout",
     "output_type": "stream",
     "text": [
      "largest element:  11\n"
     ]
    }
   ],
   "source": [
    "#A4) Python program to find largest number in a list\n",
    "\n",
    "_list = [11,2,3,4]\n",
    "largestEle = _list[0]\n",
    "for elements in range(0, len(_list)):\n",
    "    if (largestEle < _list[elements]):\n",
    "        largestEle = _list[elements]\n",
    "        \n",
    "print(\"largest element: \", largestEle)"
   ]
  },
  {
   "cell_type": "code",
   "execution_count": 30,
   "id": "e9360cb2",
   "metadata": {},
   "outputs": [
    {
     "name": "stdout",
     "output_type": "stream",
     "text": [
      "largest element:  11\n"
     ]
    }
   ],
   "source": [
    "#A5) python program to find second largest number in a list\n",
    "\n",
    "_list = [11,2,3,4]\n",
    "largestEle = _list[0]\n",
    "secondLEle = _list[1]\n",
    "for elements in range(0, len(_list)):\n",
    "    if (largestEle < _list[elements]):\n",
    "        largestEle = _list[elements]\n",
    "    if (secondLEle > largestEle and secondLEle < _list[elements]):\n",
    "        secondLEle = largestEle\n",
    "print(\"largest element: \", largestEle)"
   ]
  },
  {
   "cell_type": "code",
   "execution_count": 36,
   "id": "dda7968b",
   "metadata": {},
   "outputs": [
    {
     "name": "stdout",
     "output_type": "stream",
     "text": [
      "[7, 6, 6, 5]\n"
     ]
    }
   ],
   "source": [
    "#A6) find N largest number from the list\n",
    "\n",
    "def NmaxElements(list1, N):\n",
    "    final_list = []\n",
    "    \n",
    "    for i in range(0,N):\n",
    "        max1 = 0\n",
    "        for j in range(len(list1)):\n",
    "            if list1[j] > max1:\n",
    "                max1 = list1[j]\n",
    "                \n",
    "        list1.remove(max1)\n",
    "        final_list.append(max1)\n",
    "        \n",
    "    print(final_list)\n",
    "        \n",
    "list1 = [2,3,5,6,7,3,6,3]\n",
    "N = 4\n",
    "\n",
    "NmaxElements(list1, N)"
   ]
  },
  {
   "cell_type": "code",
   "execution_count": 39,
   "id": "c609b128",
   "metadata": {},
   "outputs": [
    {
     "name": "stdout",
     "output_type": "stream",
     "text": [
      "[10, 42, 68, 46]\n"
     ]
    }
   ],
   "source": [
    "#A7) Print even numbers in the list\n",
    "\n",
    "list1 = [10,42,65,68,46,39]\n",
    "\n",
    "even_nos = list(filter(lambda x: (x%2 == 0), list1))\n",
    "\n",
    "print(even_nos)"
   ]
  },
  {
   "cell_type": "code",
   "execution_count": 43,
   "id": "0941e3e9",
   "metadata": {},
   "outputs": [
    {
     "name": "stdout",
     "output_type": "stream",
     "text": [
      "Original  [2, 3, 5, 6]\n",
      "Cloned  [2, 3, 5, 6]\n"
     ]
    }
   ],
   "source": [
    "#A10) Program to cloning or copying the list \n",
    "def Cloning (list1):\n",
    "    li_copy = list1[:]\n",
    "    return li_copy \n",
    "\n",
    "l1 = [2,3,5,6]\n",
    "l2 = Cloning(l1)\n",
    "print (\"Original \",  l1)\n",
    "print (\"Cloned \", l2)"
   ]
  },
  {
   "cell_type": "code",
   "execution_count": 48,
   "id": "4655dcaf",
   "metadata": {},
   "outputs": [
    {
     "name": "stdout",
     "output_type": "stream",
     "text": [
      "4 has occured 1 times\n"
     ]
    }
   ],
   "source": [
    "#A11) code to count the number of occurences \n",
    "def countX (list1, X):\n",
    "    return list1.count(X) \n",
    "    \n",
    "list1 = [2,3,4,5,6,7,8,4,7,4,4]\n",
    "X = 4\n",
    "print (\"{} has occured {} times\".format(X, countX(list1,X)))"
   ]
  },
  {
   "cell_type": "code",
   "execution_count": null,
   "id": "e4a6a8f7",
   "metadata": {},
   "outputs": [],
   "source": []
  }
 ],
 "metadata": {
  "kernelspec": {
   "display_name": "Python 3",
   "language": "python",
   "name": "python3"
  },
  "language_info": {
   "codemirror_mode": {
    "name": "ipython",
    "version": 3
   },
   "file_extension": ".py",
   "mimetype": "text/x-python",
   "name": "python",
   "nbconvert_exporter": "python",
   "pygments_lexer": "ipython3",
   "version": "3.8.8"
  }
 },
 "nbformat": 4,
 "nbformat_minor": 5
}
