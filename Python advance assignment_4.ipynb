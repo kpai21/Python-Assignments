{
 "cells": [
  {
   "cell_type": "code",
   "execution_count": null,
   "id": "038fb5bd",
   "metadata": {},
   "outputs": [],
   "source": [
    "# A1) \n",
    "The iter__ turns the iterator object, the __next menthod return the next value for the increment. "
   ]
  },
  {
   "cell_type": "code",
   "execution_count": 7,
   "id": "ed91fe0a",
   "metadata": {},
   "outputs": [
    {
     "name": "stdout",
     "output_type": "stream",
     "text": [
      "<__main__.Point object at 0x000002A57B1A5430>\n"
     ]
    }
   ],
   "source": [
    "#A2) \n",
    "\n",
    "Python has special function to manage printing operator overloading methods.\n",
    "+ = __ad(self, other)\n",
    "- = __sub__(self.other)\n",
    "* __ mul__(self,other) , etc .\n",
    "\n",
    "These functions help the overloaded method to print your answer in given format. "
   ]
  },
  {
   "cell_type": "markdown",
   "id": "a8219bbe",
   "metadata": {},
   "source": [
    "#A3) \n",
    "A sequence of objects of any type(string, bytes, tuple, list or range) or objects implementing __getitem__() and __leng__() method can be sliced using slice() method.\n",
    "\n",
    "slice(stop)\n",
    "slice(start, stop, step)\n",
    "\n",
    "start: is starting index for the slicing to begin\n",
    "stop: ending index where slicing object stops\n",
    "step: it is an optional argument to determine increment between index for slicing. \n",
    "        \n",
    "it return the sliced object containing elements in given range. "
   ]
  },
  {
   "cell_type": "markdown",
   "id": "803750e4",
   "metadata": {},
   "source": [
    "#A4) \n",
    "in-place operation is an operation that changes directly the content of a given number without making a copy. These acts different in case of mutable and immutable targets. \n",
    "Eg : add method is is denotated as iadd, it makes an im-place change in 1st arument passed by storin the sum. \n",
    "    "
   ]
  },
  {
   "cell_type": "markdown",
   "id": "c64a30ca",
   "metadata": {},
   "source": [
    "#A5) \n",
    "OPerating overloading is used when the operators are given additional operational meaning. like \"+\" opertor adds the nmbers or concatanes the string."
   ]
  }
 ],
 "metadata": {
  "kernelspec": {
   "display_name": "Python 3",
   "language": "python",
   "name": "python3"
  },
  "language_info": {
   "codemirror_mode": {
    "name": "ipython",
    "version": 3
   },
   "file_extension": ".py",
   "mimetype": "text/x-python",
   "name": "python",
   "nbconvert_exporter": "python",
   "pygments_lexer": "ipython3",
   "version": "3.8.8"
  }
 },
 "nbformat": 4,
 "nbformat_minor": 5
}
