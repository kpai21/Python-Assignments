{
 "cells": [
  {
   "cell_type": "code",
   "execution_count": 11,
   "id": "4db7ed6c",
   "metadata": {},
   "outputs": [
    {
     "name": "stdout",
     "output_type": "stream",
     "text": [
      "List after filtering : [1, 2]\n"
     ]
    }
   ],
   "source": [
    "#A1) Create a function that takes a list of non-negative integers and string and return a new list without the strings\n",
    "\n",
    "\n",
    "def filter_list(test_list):\n",
    "    res = [ele for ele in test_list if type(ele) != str]\n",
    "    return res\n",
    "\n",
    "test_list = [1, 2 ,\"a\",\"b\"]\n",
    "print (\"List after filtering :\", filter_list(test_list))"
   ]
  },
  {
   "cell_type": "code",
   "execution_count": 24,
   "id": "3638d90f",
   "metadata": {},
   "outputs": [
    {
     "data": {
      "text/plain": [
       "'eSrEvEr'"
      ]
     },
     "execution_count": 24,
     "metadata": {},
     "output_type": "execute_result"
    }
   ],
   "source": [
    "#A2) The Reverser takes a string as input and returns that string in reverse order, with the opposite case.\n",
    "\n",
    "def reverse(s):\n",
    "    return s[::-1].swapcase()\n",
    "\n",
    "reverse(\"Hello World\")\n",
    "reverse(\"ReVeRsE\")\n"
   ]
  },
  {
   "cell_type": "code",
   "execution_count": 26,
   "id": "ee03c2f6",
   "metadata": {},
   "outputs": [
    {
     "name": "stdout",
     "output_type": "stream",
     "text": [
      "factorial of 5 is\n"
     ]
    },
    {
     "data": {
      "text/plain": [
       "120"
      ]
     },
     "execution_count": 26,
     "metadata": {},
     "output_type": "execute_result"
    }
   ],
   "source": [
    "#A4) factorial\n",
    "\n",
    "def factorial(n):\n",
    "    if n ==0:\n",
    "        return 1 \n",
    "    return n * factorial(n-1)\n",
    "\n",
    "num = 5\n",
    "print(\"factorial of\", num, \"is\")\n",
    "factorial(num)\n"
   ]
  },
  {
   "cell_type": "code",
   "execution_count": 43,
   "id": "5778fd76",
   "metadata": {},
   "outputs": [
    {
     "name": "stdout",
     "output_type": "stream",
     "text": [
      "the modified element moved list is :[7, 8, 1, 2, 3, 4, 9]\n"
     ]
    }
   ],
   "source": [
    "#A5) move the item to the end of list\n",
    "\n",
    "def move_End(test_list, k):\n",
    "    for i in test_list:\n",
    "        if i == k:\n",
    "            test_list.remove(i)\n",
    "            test_list.append(k)\n",
    "\n",
    "k = 9\n",
    "test_list = [7,8,9,1,2,3,4]\n",
    "\n",
    "move_End(test_list, k)\n",
    "print(\"the modified element moved list is :\" + str(test_list))"
   ]
  },
  {
   "cell_type": "code",
   "execution_count": 56,
   "id": "720d3501",
   "metadata": {},
   "outputs": [
    {
     "name": "stdout",
     "output_type": "stream",
     "text": [
      "first :  1 last:  [6]  middle :  [2, 3, 4, 5]\n"
     ]
    }
   ],
   "source": [
    "#A3) destructuring assignment\n",
    "\n",
    "def desAss(lst):\n",
    "    first = lst[0]\n",
    "    last = lst[len(lst)-1::1]\n",
    "    middle = lst[1:len(lst)-1 :1]\n",
    "    \n",
    "    print (\"first : \", first, \"last: \", last , \" middle : \", middle)\n",
    "    \n",
    "lst = [1,2,3,4,5,6]\n",
    "desAss(lst)\n",
    "\n"
   ]
  },
  {
   "cell_type": "code",
   "execution_count": null,
   "id": "e004914b",
   "metadata": {},
   "outputs": [],
   "source": [
    "\n"
   ]
  }
 ],
 "metadata": {
  "kernelspec": {
   "display_name": "Python 3",
   "language": "python",
   "name": "python3"
  },
  "language_info": {
   "codemirror_mode": {
    "name": "ipython",
    "version": 3
   },
   "file_extension": ".py",
   "mimetype": "text/x-python",
   "name": "python",
   "nbconvert_exporter": "python",
   "pygments_lexer": "ipython3",
   "version": "3.8.8"
  }
 },
 "nbformat": 4,
 "nbformat_minor": 5
}
