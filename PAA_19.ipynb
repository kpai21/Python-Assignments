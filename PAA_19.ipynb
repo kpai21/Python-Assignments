{
 "cells": [
  {
   "cell_type": "markdown",
   "id": "ea64ea14",
   "metadata": {},
   "source": [
    "A1) object of the class is instance, it is one to many relationship"
   ]
  },
  {
   "cell_type": "markdown",
   "id": "3a52cc25",
   "metadata": {},
   "source": [
    "A2) instance object contains the instance variable to the specific objects\n"
   ]
  },
  {
   "cell_type": "markdown",
   "id": "58a7f078",
   "metadata": {},
   "source": [
    "A3) Class creates a user-defined data structure, which holds its own data members and member functions, which can be accessed and used by creating an instance of that class. A class is like a blueprint for an object."
   ]
  },
  {
   "cell_type": "markdown",
   "id": "8dd3358d",
   "metadata": {},
   "source": [
    "A4)  The methods with a class can be used to access the instance variables of its instance. So,the object's state can be modified by its method. Function can't access the attributes of an instance of a class or can't modify the state of the object."
   ]
  },
  {
   "cell_type": "code",
   "execution_count": null,
   "id": "caf02bf8",
   "metadata": {},
   "outputs": [],
   "source": [
    "A5) Yes,Python supports inheritance. The Types of Inheritence Supported by Python are:\n",
    "\n",
    "Simple Inheritence\n",
    "Multiple Inheritence\n",
    "Multilevel lInheritence\n",
    "Hybrid Inheritence\n",
    "Hierracial Inheritence\n",
    "# Simple Inheritance\n",
    "class Person:\n",
    "    def __init__(self, fname, lname):\n",
    "        self.first_name = fname\n",
    "        self.last_name = lname\n",
    "class Student(Person):\n",
    "    pass"
   ]
  },
  {
   "cell_type": "markdown",
   "id": "dd20c146",
   "metadata": {},
   "source": [
    "A6) Encapsulation describes the idea of wrapping data and the methods that work on data within one unit. This puts restrictions on accessing variables and methods directly and can prevent the accidental modification of data. To prevent accidental change, an objects variable can only be changed by an objects method."
   ]
  },
  {
   "cell_type": "markdown",
   "id": "a5854a5d",
   "metadata": {},
   "source": [
    "A7) The Class Attribute is available to all the instance objects of that class. whereas Instance Attributes are accessible only to the object or Instance of that class.\n",
    "\n",
    "A single copy of Class attributes is maintained by pvm at the class level. Whereas difference copies of instance attributes are maintained by pvm at objects/instance level."
   ]
  },
  {
   "cell_type": "markdown",
   "id": "2a2abb86",
   "metadata": {},
   "source": [
    "A8) Yes, self can included in class method definations to access the instance variables inside methods."
   ]
  },
  {
   "cell_type": "markdown",
   "id": "7b6495b3",
   "metadata": {},
   "source": [
    "A9) __rdd__() is called when the left object doesnot have __add__() method, __add__ method adds the two objects."
   ]
  },
  {
   "cell_type": "markdown",
   "id": "1e249572",
   "metadata": {},
   "source": [
    "A10)  Reflection method we often encounter the requirement that a method in the executing object, or a variable in the calling object, or a field of the object should be assigned, while the method name or field name can not be determined when encoding the code, and need to be input in the form of passing strings through parameters."
   ]
  },
  {
   "cell_type": "markdown",
   "id": "a787150e",
   "metadata": {},
   "source": [
    "A11) __iadd__ method is called when we use implementation like a+=b which is a.__iadd__(b)"
   ]
  },
  {
   "cell_type": "markdown",
   "id": "45e7d10e",
   "metadata": {},
   "source": [
    "A12) Yes, __init__ method will be inherited by subclasses. if we want to customize its behaviour within a subclass we can use super() method."
   ]
  }
 ],
 "metadata": {
  "kernelspec": {
   "display_name": "Python 3",
   "language": "python",
   "name": "python3"
  },
  "language_info": {
   "codemirror_mode": {
    "name": "ipython",
    "version": 3
   },
   "file_extension": ".py",
   "mimetype": "text/x-python",
   "name": "python",
   "nbconvert_exporter": "python",
   "pygments_lexer": "ipython3",
   "version": "3.8.8"
  }
 },
 "nbformat": 4,
 "nbformat_minor": 5
}
