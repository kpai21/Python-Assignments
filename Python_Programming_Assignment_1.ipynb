{
 "cells": [
  {
   "cell_type": "code",
   "execution_count": 1,
   "id": "517bb2ab",
   "metadata": {},
   "outputs": [
    {
     "name": "stdout",
     "output_type": "stream",
     "text": [
      "Hello Python\n"
     ]
    }
   ],
   "source": [
    "#A1) \n",
    "print(\"Hello Python\")"
   ]
  },
  {
   "cell_type": "code",
   "execution_count": 6,
   "id": "88f34244",
   "metadata": {},
   "outputs": [
    {
     "name": "stdout",
     "output_type": "stream",
     "text": [
      "6\n",
      "2.0\n"
     ]
    }
   ],
   "source": [
    "#A2) Addition\n",
    "val1 = 2\n",
    "val2 = 4\n",
    "\n",
    "resAddition = val1 + val2\n",
    "print(resAddition) \n",
    "\n",
    "#division\n",
    "resDivision = val2/val1\n",
    "print(resDivision)"
   ]
  },
  {
   "cell_type": "code",
   "execution_count": 8,
   "id": "acfe98b6",
   "metadata": {},
   "outputs": [
    {
     "name": "stdout",
     "output_type": "stream",
     "text": [
      "Enter first side: 5\n",
      "Enter second side: 6\n",
      "Enter third side:7\n",
      "The area of the triangle is 14.70\n"
     ]
    }
   ],
   "source": [
    "#A3) Python Program to find the area of triangle\n",
    "\n",
    "a = float(input('Enter first side: '))\n",
    "b = float(input('Enter second side: '))\n",
    "c = float(input('Enter third side:'))\n",
    "\n",
    "s = (a + b+ c)/2\n",
    "area = (s*(s-a)*(s-b)*(s-c)) ** 0.5\n",
    "print('The area of the triangle is %0.2f' %area)\n"
   ]
  },
  {
   "cell_type": "code",
   "execution_count": 9,
   "id": "c1a0bcc2",
   "metadata": {},
   "outputs": [
    {
     "name": "stdout",
     "output_type": "stream",
     "text": [
      "Enter value of X:5\n",
      "Enter value of y:10\n",
      "The value of x after swapping: 10\n",
      "The value of y after swapping: 5\n"
     ]
    }
   ],
   "source": [
    "#A4) Swapping two variables\n",
    "\n",
    "x = input('Enter value of X:')\n",
    "y = input(\"Enter value of y:\")\n",
    "\n",
    "temp = x\n",
    "x = y\n",
    "y = temp\n",
    "print ('The value of x after swapping: {}' .format(x))\n",
    "print ('The value of y after swapping: {}'. format(y))\n"
   ]
  },
  {
   "cell_type": "code",
   "execution_count": 10,
   "id": "3a502350",
   "metadata": {},
   "outputs": [
    {
     "name": "stdout",
     "output_type": "stream",
     "text": [
      "4\n"
     ]
    }
   ],
   "source": [
    "#A5) Generate random number\n",
    "\n",
    "import random \n",
    "\n",
    "print(random.randint(0,9))"
   ]
  },
  {
   "cell_type": "code",
   "execution_count": null,
   "id": "81e0c97f",
   "metadata": {},
   "outputs": [],
   "source": [
    "  "
   ]
  }
 ],
 "metadata": {
  "kernelspec": {
   "display_name": "Python 3",
   "language": "python",
   "name": "python3"
  },
  "language_info": {
   "codemirror_mode": {
    "name": "ipython",
    "version": 3
   },
   "file_extension": ".py",
   "mimetype": "text/x-python",
   "name": "python",
   "nbconvert_exporter": "python",
   "pygments_lexer": "ipython3",
   "version": "3.8.8"
  }
 },
 "nbformat": 4,
 "nbformat_minor": 5
}
