{
 "cells": [
  {
   "cell_type": "code",
   "execution_count": 4,
   "id": "7aa924c3",
   "metadata": {},
   "outputs": [
    {
     "name": "stdout",
     "output_type": "stream",
     "text": [
      "Enter value in Kilometers: 3\n",
      "3.00 kilometers is equal to 1.86 miles\n"
     ]
    }
   ],
   "source": [
    "#A1) Kilometer to miles \n",
    "kilo = float (input(\"Enter value in Kilometers: \"))\n",
    "conv_fac = 0.621\n",
    "\n",
    "miles = kilo * conv_fac\n",
    "print('%0.2f kilometers is equal to %0.2f miles' %(kilo, miles))"
   ]
  },
  {
   "cell_type": "code",
   "execution_count": 7,
   "id": "bba95b57",
   "metadata": {},
   "outputs": [
    {
     "name": "stdout",
     "output_type": "stream",
     "text": [
      "Enter the value in celsius:37.5\n",
      "37.5 degree Celsius is equal to 99.5 degree Fahrenheit\n"
     ]
    }
   ],
   "source": [
    "#A2) Convert temperatire in celsius to fahrenheit\n",
    "\n",
    "celsius = float(input(\"Enter the value in celsius:\"))\n",
    "\n",
    "fahrenheit = ( celsius * 1.8) +32 \n",
    "print('%0.1f degree Celsius is equal to %0.1F degree Fahrenheit' %(celsius, fahrenheit))"
   ]
  },
  {
   "cell_type": "code",
   "execution_count": 12,
   "id": "8732275c",
   "metadata": {},
   "outputs": [
    {
     "name": "stdout",
     "output_type": "stream",
     "text": [
      "Enter year:2014\n",
      "Enter month:6\n",
      "     June 2014\n",
      "Mo Tu We Th Fr Sa Su\n",
      "                   1\n",
      " 2  3  4  5  6  7  8\n",
      " 9 10 11 12 13 14 15\n",
      "16 17 18 19 20 21 22\n",
      "23 24 25 26 27 28 29\n",
      "30\n",
      "\n"
     ]
    }
   ],
   "source": [
    "#A3) Program to display calender of the given month and year \n",
    "import calendar \n",
    "\n",
    "yy = int(input(\"Enter year:\")) \n",
    "mm = int(input(\"Enter month:\"))\n",
    "         \n",
    "print(calendar.month(yy , mm))       \n"
   ]
  },
  {
   "cell_type": "code",
   "execution_count": 16,
   "id": "10c14e19",
   "metadata": {},
   "outputs": [
    {
     "name": "stdout",
     "output_type": "stream",
     "text": [
      "The solution are (-3+0j) and (-2+0j)\n"
     ]
    }
   ],
   "source": [
    "#A4) Quadritc equation\n",
    "\n",
    "import cmath\n",
    "\n",
    "a = 1\n",
    "b = 5\n",
    "c = 6\n",
    "\n",
    "d = (b**2)-(4*a*c)\n",
    "\n",
    "sol1 = (-b-cmath.sqrt(d))/(2*a)\n",
    "sol2 = (-b+cmath.sqrt(d))/(2*a)\n",
    "\n",
    "print('The solution are {0} and {1}' .format(sol1,sol2))"
   ]
  },
  {
   "cell_type": "code",
   "execution_count": 17,
   "id": "fd136ef5",
   "metadata": {},
   "outputs": [
    {
     "name": "stdout",
     "output_type": "stream",
     "text": [
      "x= 10\n",
      "y= 5\n"
     ]
    }
   ],
   "source": [
    "#A5) Swap without temp values\n",
    "\n",
    "x = 5 \n",
    "y= 10\n",
    "x,y = y,x\n",
    "print(\"x=\", x)\n",
    "print(\"y=\", y)"
   ]
  },
  {
   "cell_type": "code",
   "execution_count": null,
   "id": "30abb6c4",
   "metadata": {},
   "outputs": [],
   "source": []
  }
 ],
 "metadata": {
  "kernelspec": {
   "display_name": "Python 3",
   "language": "python",
   "name": "python3"
  },
  "language_info": {
   "codemirror_mode": {
    "name": "ipython",
    "version": 3
   },
   "file_extension": ".py",
   "mimetype": "text/x-python",
   "name": "python",
   "nbconvert_exporter": "python",
   "pygments_lexer": "ipython3",
   "version": "3.8.8"
  }
 },
 "nbformat": 4,
 "nbformat_minor": 5
}
