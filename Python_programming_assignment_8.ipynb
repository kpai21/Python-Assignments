{
 "cells": [
  {
   "cell_type": "code",
   "execution_count": 2,
   "id": "dac20a5d",
   "metadata": {},
   "outputs": [
    {
     "name": "stdout",
     "output_type": "stream",
     "text": [
      "[10, 9, 6, 5, 6, 11, 7, 6, 11]\n"
     ]
    }
   ],
   "source": [
    "#A1) Program to add two matrices\n",
    "\n",
    "X = [[1,2,3], [2,3,4], [3,4,5]]\n",
    "Y = [[9,3,4], [7,3,2], [3,7,6]]\n",
    "\n",
    "result = [[X[i][j] + Y[i][j] for j in range\n",
    "          (len (X[0])) for i in range (len(X))]]\n",
    "\n",
    "for r in result:\n",
    "    print(r)"
   ]
  },
  {
   "cell_type": "code",
   "execution_count": 4,
   "id": "849886b8",
   "metadata": {},
   "outputs": [
    {
     "name": "stdout",
     "output_type": "stream",
     "text": [
      "[ 96 142  68]\n",
      "[65 88 71]\n",
      "[104 142 110]\n"
     ]
    }
   ],
   "source": [
    "#A2) Multiply two Matrices\n",
    "import numpy as np\n",
    "\n",
    "A = [[12,7,3], [4,5,6],[7,8,9]]\n",
    "B = [[5,8,1],[3,4,5],[5,6,7]]\n",
    "     \n",
    "result =[[0,0,0],[0,0,0],[0,0,0]]\n",
    "    \n",
    "result = np.dot(A,B)\n",
    "\n",
    "for r in result:\n",
    "     print(r)\n",
    "     "
   ]
  },
  {
   "cell_type": "code",
   "execution_count": 6,
   "id": "860bf20e",
   "metadata": {},
   "outputs": [
    {
     "name": "stdout",
     "output_type": "stream",
     "text": [
      "Matrix is\n",
      "1  2  3  4  \n",
      "1  2  3  4  \n",
      "1  2  3  4  \n",
      "1  2  3  4  \n"
     ]
    }
   ],
   "source": [
    "#A3) traspose of matric\n",
    "\n",
    "N = 4\n",
    "def transpose(A):\n",
    "    for i in range(N):\n",
    "        for j in range(i+1, N):\n",
    "            A[i][j], A[j][i] = A [j][i], A[i][j]\n",
    "            \n",
    "A = [[1,1,1,1], [2,2,2,2], [3,3,3,3], [4,4,4,4]]\n",
    "transpose(A)\n",
    "\n",
    "print(\"Matrix is\")\n",
    "for i in range(N):\n",
    "    for j in range(N):\n",
    "        print(A[i][j], \" \", end='')\n",
    "    print()"
   ]
  },
  {
   "cell_type": "code",
   "execution_count": 12,
   "id": "ab501544",
   "metadata": {},
   "outputs": [
    {
     "name": "stdout",
     "output_type": "stream",
     "text": [
      "alphabetic code is my sorting this\n",
      "alphabetic code is my sorting this\n",
      "alphabetic code is my sorting this\n",
      "alphabetic code is my sorting this\n",
      "alphabetic code is my sorting this\n",
      "alphabetic code is my sorting this\n"
     ]
    }
   ],
   "source": [
    "#A4) Sort words in Alphabetic Order\n",
    "def Func(S):\n",
    "    W = S.split(\" \")\n",
    "    for i in range(len(W)):\n",
    "        W[i]=W[i].lower()\n",
    "        S = sorted(W)\n",
    "        print(' '.join(S))\n",
    "    \n",
    "S = \"This is my alphabetic sorting code\"\n",
    "Func(S)\n",
    "\n",
    "    "
   ]
  },
  {
   "cell_type": "code",
   "execution_count": 15,
   "id": "f611b1de",
   "metadata": {},
   "outputs": [
    {
     "name": "stdout",
     "output_type": "stream",
     "text": [
      "Hello he said  and went\n"
     ]
    }
   ],
   "source": [
    "#A5) Remove punctuation marks\n",
    "\n",
    "punctuations = '''!()-[]{};:'\"\\,<>./?@#$%^&*_~'''\n",
    "my_str = \"Hello!!!, he said  ---and went.\"\n",
    "\n",
    "no_punct =\"\"\n",
    "for char in my_str:\n",
    "    if char not in punctuations:\n",
    "        no_punct = no_punct + char \n",
    "print(no_punct)"
   ]
  },
  {
   "cell_type": "code",
   "execution_count": null,
   "id": "351f98e5",
   "metadata": {},
   "outputs": [],
   "source": []
  }
 ],
 "metadata": {
  "kernelspec": {
   "display_name": "Python 3",
   "language": "python",
   "name": "python3"
  },
  "language_info": {
   "codemirror_mode": {
    "name": "ipython",
    "version": 3
   },
   "file_extension": ".py",
   "mimetype": "text/x-python",
   "name": "python",
   "nbconvert_exporter": "python",
   "pygments_lexer": "ipython3",
   "version": "3.8.8"
  }
 },
 "nbformat": 4,
 "nbformat_minor": 5
}
