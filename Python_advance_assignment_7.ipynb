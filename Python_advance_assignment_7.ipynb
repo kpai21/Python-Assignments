{
 "cells": [
  {
   "cell_type": "code",
   "execution_count": null,
   "id": "edf5524b",
   "metadata": {},
   "outputs": [],
   "source": [
    "#A1) \n",
    "The \n",
    "The try statement has two blocks, try and except block. \n",
    "The try blocks would catch the exit exception raised else where in the program and except catches the exeption. This helps to avoid the programming crash and reports the errors and exceptions. \n"
   ]
  },
  {
   "cell_type": "code",
   "execution_count": 1,
   "id": "a7bac3ed",
   "metadata": {},
   "outputs": [
    {
     "ename": "SyntaxError",
     "evalue": "invalid syntax (<ipython-input-1-4f725a0d756e>, line 2)",
     "output_type": "error",
     "traceback": [
      "\u001b[1;36m  File \u001b[1;32m\"<ipython-input-1-4f725a0d756e>\"\u001b[1;36m, line \u001b[1;32m2\u001b[0m\n\u001b[1;33m    Below is the syntax for try statement\u001b[0m\n\u001b[1;37m                 ^\u001b[0m\n\u001b[1;31mSyntaxError\u001b[0m\u001b[1;31m:\u001b[0m invalid syntax\n"
     ]
    }
   ],
   "source": [
    "#A2) \n",
    "Below is the syntax for try statement\n",
    "try:\n",
    "    # Some Code\n",
    "except:\n",
    "    # Executed if error in the\n",
    "    # try block\n",
    "    \n",
    "1st variation with else block:\n",
    "try:\n",
    "    # Some Code\n",
    "except:\n",
    "    # Executed if error in the\n",
    "    # try block\n",
    "else:\n",
    "    # execute if no exception\n",
    "\n",
    "2nd variation with finally block:\n",
    "    \n",
    "try:\n",
    "    # Some Code\n",
    "except:\n",
    "    # Executed if error in the\n",
    "    # try block\n",
    "else:\n",
    "    # execute if no exception\n",
    "finally:\n",
    "    # Some code .....(always executed)"
   ]
  },
  {
   "cell_type": "markdown",
   "id": "dbf3fccf",
   "metadata": {},
   "source": [
    "#A3) \n",
    "Python raise keyword is used to raise exceptions or errors. The rasie keyword raises an error and stops the control flow of the program It is used to bring up the current exception in an exception handler.\n",
    "\n",
    "raise(exception_class)\n"
   ]
  },
  {
   "cell_type": "markdown",
   "id": "7be79f31",
   "metadata": {},
   "source": [
    "#A4) \n",
    "Assert statement checks if the condition is true, the program with continue, if it is false the program will raise the AssertionError. \n",
    "\n",
    "asssert condition, message\n",
    "\n",
    "if the condition is false it will raise the message.\n",
    "\n",
    "It is similar to the raise method except the difference is it checks for the condition and raises the message when the condition is false. \n",
    "\n"
   ]
  },
  {
   "cell_type": "markdown",
   "id": "16f03b3f",
   "metadata": {},
   "source": [
    "#A5) \n",
    "The with statement in pythonis used in exception handling to make the code clear and much more readable. It simplifies the management of common resources like file streams. \n",
    "\n",
    "The with statement ensures proper acquisition and release of resource. It makes the code compact , readable. \n",
    "It helps avoiding bugs and leaks by ensuring that a resources is propoerly releases whrn the code using the resource is completely executed. The with statement is used with with file streams with locks, sockets, subprecess and telnets etc.\n",
    "\n",
    "eg:\n",
    "    with MessageWriter(\"myfile.txt\") as xfile:\n",
    "        xfile.write('hello world')\n"
   ]
  }
 ],
 "metadata": {
  "kernelspec": {
   "display_name": "Python 3",
   "language": "python",
   "name": "python3"
  },
  "language_info": {
   "codemirror_mode": {
    "name": "ipython",
    "version": 3
   },
   "file_extension": ".py",
   "mimetype": "text/x-python",
   "name": "python",
   "nbconvert_exporter": "python",
   "pygments_lexer": "ipython3",
   "version": "3.8.8"
  }
 },
 "nbformat": 4,
 "nbformat_minor": 5
}
