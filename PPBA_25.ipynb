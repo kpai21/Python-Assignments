{
 "cells": [
  {
   "cell_type": "code",
   "execution_count": 5,
   "id": "cc6d7fde",
   "metadata": {},
   "outputs": [
    {
     "name": "stdout",
     "output_type": "stream",
     "text": [
      "<class 'set'>\n",
      "2\n"
     ]
    }
   ],
   "source": [
    "#A1) find equal\n",
    "\n",
    "def equal (a,b,c):\n",
    "    MyList = [a,b,c]\n",
    "    res = {MyList.count(i) for i in MyList}\n",
    "    print(max(res))\n",
    "    \n",
    "equal(3, 4, 3)"
   ]
  },
  {
   "cell_type": "code",
   "execution_count": 6,
   "id": "8e490794",
   "metadata": {},
   "outputs": [
    {
     "name": "stdout",
     "output_type": "stream",
     "text": [
      "[('D', 1), ('B', 2), ('C', 3)]\n"
     ]
    }
   ],
   "source": [
    "#A2) \n",
    "def dict_to_list(dict1):\n",
    "    \n",
    "    # Converting into list of tuple\n",
    "    list = [(k, v) for k, v in dict1.items()]\n",
    " \n",
    "    # Printing list of tuple\n",
    "    print(list)\n",
    "    \n",
    "dict_to_list({\n",
    "\"D\": 1,\n",
    "\"B\": 2,\n",
    "\"C\": 3\n",
    "})"
   ]
  },
  {
   "cell_type": "code",
   "execution_count": 9,
   "id": "b809e589",
   "metadata": {},
   "outputs": [
    {
     "data": {
      "text/plain": [
       "{'p': 'P', 's': 'S'}"
      ]
     },
     "execution_count": 9,
     "metadata": {},
     "output_type": "execute_result"
    }
   ],
   "source": [
    "#A3) \n",
    "\n",
    "def mapping(list1):\n",
    "    dict1 = {letter : letter.upper() for letter in list1}\n",
    "    return dict1\n",
    "mapping([\"p\", \"s\"])"
   ]
  },
  {
   "cell_type": "code",
   "execution_count": 19,
   "id": "e04ea780",
   "metadata": {},
   "outputs": [
    {
     "data": {
      "text/plain": [
       "'upplus und bununus'"
      ]
     },
     "execution_count": 19,
     "metadata": {},
     "output_type": "execute_result"
    }
   ],
   "source": [
    "#A4) \n",
    "\n",
    "def vow_replace(test_str, K):\n",
    "    vowels = 'AEIOUaeiou'\n",
    "    for ele in vowels:\n",
    "         test_str = test_str.replace(ele, K)\n",
    " \n",
    "    return test_str\n",
    "        \n",
    "vow_replace(\"apples and bananas\",\"u\")"
   ]
  },
  {
   "cell_type": "code",
   "execution_count": 42,
   "id": "26287173",
   "metadata": {},
   "outputs": [
    {
     "name": "stdout",
     "output_type": "stream",
     "text": [
      "To Be oR NoT To Be!\n"
     ]
    }
   ],
   "source": [
    "#A5) \n",
    "def ascii_capitalize(words):\n",
    "    list1 = []\n",
    "                                                          \n",
    "    for i in range(len(words)):\n",
    "        # ASCII value\n",
    "        val = ord(words[i])\n",
    "        if (val%2 == 0):\n",
    "            list1.append(words[i].upper())\n",
    "        else:\n",
    "            list1.append(words[i].lower())\n",
    "            \n",
    "    return ''.join(list1)\n",
    "     \n",
    "print(ascii_capitalize(\"To be or not to be!\"))"
   ]
  },
  {
   "cell_type": "code",
   "execution_count": null,
   "id": "5289259a",
   "metadata": {},
   "outputs": [],
   "source": []
  }
 ],
 "metadata": {
  "kernelspec": {
   "display_name": "Python 3",
   "language": "python",
   "name": "python3"
  },
  "language_info": {
   "codemirror_mode": {
    "name": "ipython",
    "version": 3
   },
   "file_extension": ".py",
   "mimetype": "text/x-python",
   "name": "python",
   "nbconvert_exporter": "python",
   "pygments_lexer": "ipython3",
   "version": "3.8.8"
  }
 },
 "nbformat": 4,
 "nbformat_minor": 5
}
