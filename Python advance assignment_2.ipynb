{
 "cells": [
  {
   "cell_type": "markdown",
   "id": "2442bca8",
   "metadata": {},
   "source": [
    "#A1) \n",
    "Class defines the blueprint of the an object, module defines the reusable piece of code inside another program. \n"
   ]
  },
  {
   "cell_type": "code",
   "execution_count": 1,
   "id": "d4fef6f9",
   "metadata": {},
   "outputs": [
    {
     "ename": "SyntaxError",
     "evalue": "invalid syntax (<ipython-input-1-7c36096a1a6b>, line 4)",
     "output_type": "error",
     "traceback": [
      "\u001b[1;36m  File \u001b[1;32m\"<ipython-input-1-7c36096a1a6b>\"\u001b[1;36m, line \u001b[1;32m4\u001b[0m\n\u001b[1;33m    class functions and paramenters\u001b[0m\n\u001b[1;37m                    ^\u001b[0m\n\u001b[1;31mSyntaxError\u001b[0m\u001b[1;31m:\u001b[0m invalid syntax\n"
     ]
    }
   ],
   "source": [
    "#A2) \n",
    "#below is the code for classes\n",
    "class className:\n",
    "    def __init__(self):\n",
    "        class functions and paramenters \n",
    "\n",
    "#To create the instance of the class  \n",
    "classInstance = className()\n",
    "\n"
   ]
  },
  {
   "cell_type": "code",
   "execution_count": null,
   "id": "b87e98ae",
   "metadata": {},
   "outputs": [],
   "source": [
    "#A3) Class attributes are shared by all instances of the class, these belong to the class and is defined at the top.\n",
    "eg: \n",
    "    class exampleClass:\n",
    "        count = 0 # class attribute\n",
    "        "
   ]
  },
  {
   "cell_type": "markdown",
   "id": "e06536dd",
   "metadata": {},
   "source": [
    "#A4) Class instances are unique for all the class instances. \n",
    "An instance attribute is a Python variable belonging to one, and only one, object. This variable is only accessible in the scope of this object and it is defined inside the constructor \n",
    "Eg :\n",
    "function, __init__(self) "
   ]
  },
  {
   "cell_type": "markdown",
   "id": "2c695025",
   "metadata": {},
   "source": [
    "#A5) The self parameter is a reference to the current instance of the class and is used to access variables that belongs to the class."
   ]
  },
  {
   "cell_type": "markdown",
   "id": "72b9e336",
   "metadata": {},
   "source": [
    "#A6) \n",
    "Operator overloding gives an extended meaning beyond their predefined operational meaning. \n",
    "For example the \"+\" adds the numbers and also concatonates the string.\n",
    "\n",
    "\n"
   ]
  },
  {
   "cell_type": "code",
   "execution_count": null,
   "id": "db53efa1",
   "metadata": {},
   "outputs": [],
   "source": [
    "#A7) \n",
    "Orperrator overloading is considered when on one or more perdefined operational meaning is necessary. "
   ]
  },
  {
   "cell_type": "code",
   "execution_count": null,
   "id": "af111124",
   "metadata": {},
   "outputs": [],
   "source": [
    "A8) \n",
    "The important form is +, it adds the number and concatenates a string\n"
   ]
  },
  {
   "cell_type": "code",
   "execution_count": null,
   "id": "6fe3c107",
   "metadata": {},
   "outputs": [],
   "source": [
    "A9) Inheritance and polymorphisum are two important part to comprehend."
   ]
  }
 ],
 "metadata": {
  "kernelspec": {
   "display_name": "Python 3",
   "language": "python",
   "name": "python3"
  },
  "language_info": {
   "codemirror_mode": {
    "name": "ipython",
    "version": 3
   },
   "file_extension": ".py",
   "mimetype": "text/x-python",
   "name": "python",
   "nbconvert_exporter": "python",
   "pygments_lexer": "ipython3",
   "version": "3.8.8"
  }
 },
 "nbformat": 4,
 "nbformat_minor": 5
}
