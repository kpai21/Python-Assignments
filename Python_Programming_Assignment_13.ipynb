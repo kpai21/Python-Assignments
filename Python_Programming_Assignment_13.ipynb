{
 "cells": [
  {
   "cell_type": "code",
   "execution_count": 13,
   "id": "e7a910c5",
   "metadata": {},
   "outputs": [
    {
     "data": {
      "text/plain": [
       "[18, 22, 24]"
      ]
     },
     "execution_count": 13,
     "metadata": {},
     "output_type": "execute_result"
    }
   ],
   "source": [
    "#A1) calculate according to the formula\n",
    "\n",
    "import math\n",
    "\n",
    "def getResults(*D):\n",
    "    result_list = []\n",
    "    #numbers = D.split(',')\n",
    "    for number in D:\n",
    "        Q = math.sqrt(2*50*int(number)/ 30)\n",
    "        result_list.append(int(Q))\n",
    "    return result_list\n",
    "\n",
    "getResults(100,150,180)"
   ]
  },
  {
   "cell_type": "code",
   "execution_count": 20,
   "id": "8d4c4514",
   "metadata": {},
   "outputs": [
    {
     "name": "stdout",
     "output_type": "stream",
     "text": [
      "[[0, 0, 0], [0, 1, 2], [0, 2, 4], [0, 3, 6], [0, 4, 8]]\n"
     ]
    }
   ],
   "source": [
    "#A2) take 2 digits , X, y as input and generate a 2 -dimensional array\n",
    "\n",
    "def gen2DArray (col_num, row_num):\n",
    "    multi_list = [[0 for col in range (col_num)] for row in range(row_num)]\n",
    "    for row in range(row_num):\n",
    "        for col in range(col_num):\n",
    "            multi_list[row][col] = row * col\n",
    "\n",
    "    print(multi_list)\n",
    "\n",
    "gen2DArray(3 , 5)"
   ]
  },
  {
   "cell_type": "code",
   "execution_count": 1,
   "id": "baeff399",
   "metadata": {},
   "outputs": [
    {
     "name": "stdout",
     "output_type": "stream",
     "text": [
      "['without', 'hello', 'bag', 'world']\n",
      "bag,hello,without,world\n"
     ]
    }
   ],
   "source": [
    "#A3) print sorted words\n",
    "\n",
    "items = \"without,hello,bag,world\"\n",
    "words = [word for word in items.split(\",\")]\n",
    "print(words)\n",
    "print(\",\".join(sorted(list(set(words)))))\n"
   ]
  },
  {
   "cell_type": "code",
   "execution_count": 9,
   "id": "e005918e",
   "metadata": {},
   "outputs": [
    {
     "name": "stdout",
     "output_type": "stream",
     "text": [
      " again and hello makes perfect practice world\n"
     ]
    }
   ],
   "source": [
    "#A4) program accepting a sequence of whitespaces separated words and printing words after remiving duplicate\n",
    "\n",
    "phares_splited = \"hello world and practice makes perfect and hello world again \"\n",
    "word_list = []\n",
    "\n",
    "for i in phares_splited.split(' '):\n",
    "    if i not in word_list:\n",
    "        word_list.append(i)\n",
    "    else:\n",
    "        continue\n",
    "word_list.sort()\n",
    "#print(word_list)\n",
    "print((' ').join(word_list))\n"
   ]
  },
  {
   "cell_type": "code",
   "execution_count": 12,
   "id": "bc250963",
   "metadata": {},
   "outputs": [
    {
     "name": "stdout",
     "output_type": "stream",
     "text": [
      "Letters :  10\n",
      "Digits :  3\n"
     ]
    }
   ],
   "source": [
    "#A5) Write a program that accepts a sentence and calculate the number of letters and digits.\n",
    "\n",
    "s = 'hello world! 123'\n",
    "d = l = 0\n",
    "for x in s:\n",
    "    if x.isdigit():\n",
    "        d = d+1\n",
    "    elif x.isalpha():\n",
    "        l = l +1\n",
    "    else:\n",
    "        pass\n",
    "\n",
    "print(\"Letters : \", l)\n",
    "print(\"Digits : \", d)\n"
   ]
  },
  {
   "cell_type": "code",
   "execution_count": 22,
   "id": "113f78d9",
   "metadata": {},
   "outputs": [
    {
     "data": {
      "text/plain": [
       "'ABd1234@1'"
      ]
     },
     "execution_count": 22,
     "metadata": {},
     "output_type": "execute_result"
    }
   ],
   "source": [
    "#A6) users to input username and password to register\n",
    "\n",
    "import re\n",
    "\n",
    "\n",
    "def checkPassword(passwords):\n",
    "    \n",
    "    accepted_pass = []\n",
    "    \n",
    "    for i in passwords.split(','):\n",
    "\n",
    "        if len(i) < 6 or len(i) > 12:\n",
    "            continue\n",
    "\n",
    "        elif not re.search(\"([a-z])+\", i):\n",
    "            continue\n",
    "\n",
    "        elif not re.search(\"([A-Z])+\", i):\n",
    "            continue\n",
    "\n",
    "        elif not re.search(\"([0-9])+\", i):\n",
    "            continue\n",
    "\n",
    "        elif not re.search(\"([!@$%^&])+\", i):\n",
    "            continue\n",
    "\n",
    "        else:\n",
    "            accepted_pass.append(i)\n",
    "\n",
    "    \n",
    "    return (\" \").join(accepted_pass)\n",
    "\n",
    "checkPassword(\"ABd1234@1,a F1#,2w3E*,2We3345\")\n",
    "\n",
    "\n",
    "\n",
    "\n"
   ]
  },
  {
   "cell_type": "code",
   "execution_count": null,
   "id": "41ffbfe9",
   "metadata": {},
   "outputs": [],
   "source": []
  }
 ],
 "metadata": {
  "kernelspec": {
   "display_name": "Python 3",
   "language": "python",
   "name": "python3"
  },
  "language_info": {
   "codemirror_mode": {
    "name": "ipython",
    "version": 3
   },
   "file_extension": ".py",
   "mimetype": "text/x-python",
   "name": "python",
   "nbconvert_exporter": "python",
   "pygments_lexer": "ipython3",
   "version": "3.8.8"
  }
 },
 "nbformat": 4,
 "nbformat_minor": 5
}
