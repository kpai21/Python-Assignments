{
 "cells": [
  {
   "cell_type": "code",
   "execution_count": 1,
   "id": "ff1ec09a",
   "metadata": {},
   "outputs": [
    {
     "name": "stdout",
     "output_type": "stream",
     "text": [
      "in... in... incredible?\n"
     ]
    }
   ],
   "source": [
    "#A1) Write a functin that suffers a wrod as if someone struggles to read, \n",
    "\n",
    "def stutter(word):\n",
    "    s = word[:2]\n",
    "    return (2 * (s + '... ')) + word + '?'\n",
    "\n",
    "\n",
    "print(stutter(\"incredible\"))"
   ]
  },
  {
   "cell_type": "code",
   "execution_count": 4,
   "id": "4af0c4c4",
   "metadata": {},
   "outputs": [
    {
     "name": "stdout",
     "output_type": "stream",
     "text": [
      "degree = 57.295827908797776\n"
     ]
    }
   ],
   "source": [
    "#A2) Covnvert angle in radians \n",
    "\n",
    "def Convert(radian):\n",
    "    pi = 3.14159\n",
    "    # Simply used the formula\n",
    "    degree = radian * (180/pi)\n",
    "    return degree\n",
    " \n",
    "# Driver Code\n",
    "radian = floaf\n",
    "\n",
    "print(\"degree =\",(Convert(radian)))"
   ]
  },
  {
   "cell_type": "code",
   "execution_count": 5,
   "id": "10dfbbce",
   "metadata": {},
   "outputs": [
    {
     "name": "stdout",
     "output_type": "stream",
     "text": [
      "Yes\n",
      "No\n"
     ]
    }
   ],
   "source": [
    "#A3) Curzon number. \n",
    "\n",
    "def checkIfCurzonNumber(N):\n",
    "    powerTerm, productTerm = 0, 0\n",
    "    powerTerm = pow(2, N) + 1\n",
    "    productTerm = 2 * N + 1\n",
    "    if (powerTerm % productTerm == 0):\n",
    "        print(\"Yes\")\n",
    "    else:\n",
    "        print(\"No\")\n",
    " \n",
    "N = 5\n",
    "checkIfCurzonNumber(N)\n",
    " \n",
    "N = 10\n",
    "checkIfCurzonNumber(N)\n",
    " "
   ]
  },
  {
   "cell_type": "code",
   "execution_count": 13,
   "id": "fecd631e",
   "metadata": {},
   "outputs": [
    {
     "data": {
      "text/plain": [
       "23.382685902179844"
      ]
     },
     "execution_count": 13,
     "metadata": {},
     "output_type": "execute_result"
    }
   ],
   "source": [
    "#A4) Hexagon area \n",
    "\n",
    "import math\n",
    "\n",
    "def areaHexagon(n):\n",
    "    area = (3 * math.sqrt(3) * pow(n,2)) / 2\n",
    "    return area\n",
    "\n",
    "areaHexagon(1)\n",
    "areaHexagon(2) \n",
    "areaHexagon(3) "
   ]
  },
  {
   "cell_type": "code",
   "execution_count": null,
   "id": "c7d2fbca",
   "metadata": {},
   "outputs": [],
   "source": [
    "#A5) FUNCTION RETURNING THE BASE-2 RPRESENTATION OF A BASE-20 (DECIMAL) STRING NUMBER.\n",
    "\n",
    "\n",
    "import math\n",
    "def binary(decimal): \n",
    "    result = 0;\n",
    "    while (decimal > 0):\n",
    "        result += decimal % 2\n",
    "    decimal = Math.floor(decimal/2)\n",
    "    return result.split(\"\").reverse().join(\"\")\n",
    "\n",
    "binary(1)"
   ]
  },
  {
   "cell_type": "code",
   "execution_count": null,
   "id": "3d755e28",
   "metadata": {},
   "outputs": [],
   "source": []
  }
 ],
 "metadata": {
  "kernelspec": {
   "display_name": "Python 3",
   "language": "python",
   "name": "python3"
  },
  "language_info": {
   "codemirror_mode": {
    "name": "ipython",
    "version": 3
   },
   "file_extension": ".py",
   "mimetype": "text/x-python",
   "name": "python",
   "nbconvert_exporter": "python",
   "pygments_lexer": "ipython3",
   "version": "3.8.8"
  }
 },
 "nbformat": 4,
 "nbformat_minor": 5
}
