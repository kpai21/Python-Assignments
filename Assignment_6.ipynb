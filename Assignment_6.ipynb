{
 "cells": [
  {
   "cell_type": "markdown",
   "id": "ea5c56f3",
   "metadata": {},
   "source": [
    "A1) \n",
    "\\' - single quote  - print('he\\'s here')\n",
    "\n",
    "\\\\ backslash  - print( \"\\\\\")\n",
    "\n",
    "\\n new line  - print(\"Hi\\nGreetings\")\n",
    "\n",
    "\\r carriage return  - print(\"Hello\\rHow are you?\") \n",
    "\n",
    "\\t tab  - print(\"Keep\\tspace\")  \n",
    "\n",
    "\\b backspace  - print(\"back \\bspace\")\n",
    "\n",
    "\\f form feed - print(x = 'hello\\fworld')\n",
    "\n",
    "\\ooo octal value  - print(\"\\110\\145\\154\\154\\157\")\n",
    "\n",
    "\\xhh hex value - print(\"\\x48\\x65\\x6c\\x6c\\x6f\")\n"
   ]
  },
  {
   "cell_type": "markdown",
   "id": "6d254d18",
   "metadata": {},
   "source": [
    "A2) n= newline , t = tab  "
   ]
  },
  {
   "cell_type": "markdown",
   "id": "114cdd5f",
   "metadata": {},
   "source": [
    "A3) \\\\ double backslash  - print( \" This inserts a \\\\ blackslash\")"
   ]
  },
  {
   "cell_type": "markdown",
   "id": "71d34f18",
   "metadata": {},
   "source": [
    "A4) As the double quotes is used to start and end the string, single quotes in Howl's works fine. "
   ]
  },
  {
   "cell_type": "markdown",
   "id": "a7f8df3b",
   "metadata": {},
   "source": [
    "A5) use multiline strings, they allow the use of newlines without using \\n."
   ]
  },
  {
   "cell_type": "markdown",
   "id": "a1470e68",
   "metadata": {},
   "source": [
    "A6) 'e', 'Hello', 'Hello', 'lo world!'"
   ]
  },
  {
   "cell_type": "markdown",
   "id": "35e4edb4",
   "metadata": {},
   "source": [
    "A7) 'HELLO' \n",
    "True\n",
    "'hello'"
   ]
  },
  {
   "cell_type": "markdown",
   "id": "c36bc5e3",
   "metadata": {},
   "source": [
    "A8) ['Remember,', 'remember,', 'the', 'fifth', 'of', 'November.']\n",
    "'There-can-be-only-one.'"
   ]
  },
  {
   "cell_type": "markdown",
   "id": "e7152b56",
   "metadata": {},
   "source": [
    "A9) rjust(),ljust() and center() "
   ]
  },
  {
   "cell_type": "markdown",
   "id": "e25da5ec",
   "metadata": {},
   "source": [
    "A10) lstrip() and rstrip()"
   ]
  },
  {
   "cell_type": "code",
   "execution_count": null,
   "id": "491c1150",
   "metadata": {},
   "outputs": [],
   "source": []
  }
 ],
 "metadata": {
  "kernelspec": {
   "display_name": "Python 3",
   "language": "python",
   "name": "python3"
  },
  "language_info": {
   "codemirror_mode": {
    "name": "ipython",
    "version": 3
   },
   "file_extension": ".py",
   "mimetype": "text/x-python",
   "name": "python",
   "nbconvert_exporter": "python",
   "pygments_lexer": "ipython3",
   "version": "3.8.8"
  }
 },
 "nbformat": 4,
 "nbformat_minor": 5
}
