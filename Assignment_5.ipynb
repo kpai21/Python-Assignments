{
 "cells": [
  {
   "cell_type": "markdown",
   "id": "6166f420",
   "metadata": {},
   "source": [
    "A1) \n",
    "d={} OR\n",
    "d =dict()\n"
   ]
  },
  {
   "cell_type": "markdown",
   "id": "46f2f321",
   "metadata": {},
   "source": [
    "A2) d = {'foo': 42}"
   ]
  },
  {
   "cell_type": "markdown",
   "id": "db7fc81f",
   "metadata": {},
   "source": [
    "A3) List is a ordered and dict is unordered.\n",
    "\n",
    "List is acessed through index in dictionary keys/ values are used to access.\n",
    "\n",
    "List is created using \",\" as a seperator, dictionay uses \":\" for each pair and seperates the pairs with \",\".\n",
    "\n",
    "List is initaited as [], dict is initiated as {}\n",
    "\n",
    "Error in the list can be 'IndexError' error, in dict it is 'nameerror'\n"
   ]
  },
  {
   "cell_type": "markdown",
   "id": "e477e79d",
   "metadata": {},
   "source": [
    "A4) dictionay spam throws keyError, since the foo keyword was not found. "
   ]
  },
  {
   "cell_type": "code",
   "execution_count": null,
   "id": "6ad2c120",
   "metadata": {},
   "outputs": [],
   "source": []
  },
  {
   "cell_type": "markdown",
   "id": "f54d96a7",
   "metadata": {},
   "source": [
    "A5) The in operator checks the value exsists as a key in dictionary. No difference"
   ]
  },
  {
   "cell_type": "markdown",
   "id": "0dfe1ded",
   "metadata": {},
   "source": [
    "A6) 'cat' in spam checks for the 'cat' key in dictionary. spam.values() checks the existance of value 'cat' for anyone of the keys in spam."
   ]
  },
  {
   "cell_type": "markdown",
   "id": "ab4e8cbb",
   "metadata": {},
   "source": [
    "A7) spam.setdefault('color','black')"
   ]
  },
  {
   "cell_type": "markdown",
   "id": "6df30703",
   "metadata": {},
   "source": [
    "A8) PPrint is used for pprint, pprint.pprint()"
   ]
  },
  {
   "cell_type": "code",
   "execution_count": null,
   "id": "c134a828",
   "metadata": {},
   "outputs": [],
   "source": [
    "\n"
   ]
  },
  {
   "cell_type": "code",
   "execution_count": null,
   "id": "c869bc7b",
   "metadata": {},
   "outputs": [],
   "source": []
  }
 ],
 "metadata": {
  "kernelspec": {
   "display_name": "Python 3",
   "language": "python",
   "name": "python3"
  },
  "language_info": {
   "codemirror_mode": {
    "name": "ipython",
    "version": 3
   },
   "file_extension": ".py",
   "mimetype": "text/x-python",
   "name": "python",
   "nbconvert_exporter": "python",
   "pygments_lexer": "ipython3",
   "version": "3.8.8"
  }
 },
 "nbformat": 4,
 "nbformat_minor": 5
}
