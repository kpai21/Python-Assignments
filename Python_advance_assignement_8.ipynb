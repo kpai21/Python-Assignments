{
 "cells": [
  {
   "cell_type": "code",
   "execution_count": null,
   "id": "ad6af239",
   "metadata": {},
   "outputs": [],
   "source": [
    "#A1) The two latest exception constraints\n",
    "The user-defined exception can be used for any constraints in the program. Like to fix the age criteria, or any file related transactions. \n",
    "First the Error class is derived from Exception, and this Error class is then used to raise our custom exception when the condition is true for exception.\n",
    "\n",
    "class Error(Exception):\n",
    "    pass\n",
    "\n",
    "class TransitionError(Error):\n",
    "    # write your logic for exception\n",
    "    "
   ]
  },
  {
   "cell_type": "code",
   "execution_count": null,
   "id": "9a3f4fd5",
   "metadata": {},
   "outputs": [],
   "source": [
    "#A2) If the exceptions are class-based the handler should catch the same the same exception else you loose valuable information obtained from the exception.\n",
    "try{   \n",
    "    \n",
    "}catch (ArithmeticException a) {\n",
    "    \n",
    "}\n",
    "\n",
    "Here the handlers is catching specific exception \"ArithmeticException\"\n"
   ]
  },
  {
   "cell_type": "code",
   "execution_count": null,
   "id": "1585ae70",
   "metadata": {},
   "outputs": [],
   "source": [
    "#A4) \n",
    "Adding the text of exception object can be done using the error message. \n",
    "You can add this message in the error class or while raising the error. \n",
    "\n",
    "class Error(Exception):\n",
    "    pass\n",
    " \n",
    "class TransitionError(Error):\n",
    "    def __init__(self, prev, nex):\n",
    "        self.prev = prev\n",
    "        self.next = nex\n",
    " \n",
    "        self.msg = \"this is not allowed\" ## added the information in the exception class. \n",
    "try:\n",
    "    raise(TransitionError(2,3*2))\n",
    " \n",
    "except TransitionError as error:\n",
    "    print('Exception occured: ', error.msg)\n",
    "    \n",
    " 2. raise(TransitionError(2,3*2, \"this is not allowed\")) ## sendning the information to the exception class while raising.\n",
    "    \n"
   ]
  },
  {
   "cell_type": "markdown",
   "id": "3a9d5e3e",
   "metadata": {},
   "source": [
    "#A5) Traditionally exceptions were string objects. The two disticnt string objcts with same values were considered different exception. \n",
    "string-based exceptions does not fit in object oriented programming. Now all the exceptions classes are class objects and string-based exceptions are obsolete.\n"
   ]
  }
 ],
 "metadata": {
  "kernelspec": {
   "display_name": "Python 3",
   "language": "python",
   "name": "python3"
  },
  "language_info": {
   "codemirror_mode": {
    "name": "ipython",
    "version": 3
   },
   "file_extension": ".py",
   "mimetype": "text/x-python",
   "name": "python",
   "nbconvert_exporter": "python",
   "pygments_lexer": "ipython3",
   "version": "3.8.8"
  }
 },
 "nbformat": 4,
 "nbformat_minor": 5
}
