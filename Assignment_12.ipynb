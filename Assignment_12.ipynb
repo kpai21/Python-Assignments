{
 "cells": [
  {
   "cell_type": "markdown",
   "id": "323f35e2",
   "metadata": {},
   "source": [
    "A1) Read-binary ('rb') for PdfFileReader() and write-binary ('wb') for PdfFileWriter()"
   ]
  },
  {
   "cell_type": "markdown",
   "id": "b795ac2a",
   "metadata": {},
   "source": [
    "A2) getPage(4)"
   ]
  },
  {
   "cell_type": "markdown",
   "id": "93db1122",
   "metadata": {},
   "source": [
    "A3) variable numPages "
   ]
  },
  {
   "cell_type": "markdown",
   "id": "4577db6d",
   "metadata": {},
   "source": [
    "A4) Call decrypt('swordfish')"
   ]
  },
  {
   "cell_type": "markdown",
   "id": "e347c1e7",
   "metadata": {},
   "source": [
    "A6) Paragraph objects is made up of one or more run objects. "
   ]
  },
  {
   "cell_type": "markdown",
   "id": "75336773",
   "metadata": {},
   "source": [
    "A5)  rotateClockwise() and rotateCounterClockwise() methods"
   ]
  },
  {
   "cell_type": "markdown",
   "id": "83c7730e",
   "metadata": {},
   "source": [
    "A7) docx.Document('demo.docx')"
   ]
  },
  {
   "cell_type": "markdown",
   "id": "6d457717",
   "metadata": {},
   "source": [
    "A8) Document object"
   ]
  },
  {
   "cell_type": "markdown",
   "id": "e877879d",
   "metadata": {},
   "source": [
    "A9) Each attribute can be set to one of three values: True (the attribute is always enabled, no matter what other styles are applied to the run), False (the attribute is always disabled), or None (defaults to whatever the run’s style is set to)"
   ]
  },
  {
   "cell_type": "markdown",
   "id": "fd0127a2",
   "metadata": {},
   "source": [
    "A10) doc = docx.Document('demo.docx'), creates a document object "
   ]
  },
  {
   "cell_type": "markdown",
   "id": "25561b3b",
   "metadata": {},
   "source": [
    "A11) doc.add_paragraph('Hello there!')"
   ]
  },
  {
   "cell_type": "markdown",
   "id": "cc345887",
   "metadata": {},
   "source": [
    "A12) Integers 1 to 4 are for various heading levels, with 1 being the main heading and 4 the lowest subheading"
   ]
  },
  {
   "cell_type": "code",
   "execution_count": null,
   "id": "ee9d1240",
   "metadata": {},
   "outputs": [],
   "source": []
  }
 ],
 "metadata": {
  "kernelspec": {
   "display_name": "Python 3",
   "language": "python",
   "name": "python3"
  },
  "language_info": {
   "codemirror_mode": {
    "name": "ipython",
    "version": 3
   },
   "file_extension": ".py",
   "mimetype": "text/x-python",
   "name": "python",
   "nbconvert_exporter": "python",
   "pygments_lexer": "ipython3",
   "version": "3.8.8"
  }
 },
 "nbformat": 4,
 "nbformat_minor": 5
}
