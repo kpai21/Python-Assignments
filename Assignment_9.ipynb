{
 "cells": [
  {
   "cell_type": "markdown",
   "id": "d52a6889",
   "metadata": {},
   "source": [
    "A1) Relative path refers to the location that is relative to a current directory or root directory."
   ]
  },
  {
   "cell_type": "markdown",
   "id": "40e917a2",
   "metadata": {},
   "source": [
    "A2) Absolute paths start with the root folder, such as / or C:\\."
   ]
  },
  {
   "cell_type": "markdown",
   "id": "fef90f64",
   "metadata": {},
   "source": [
    "A3) os.getcwd() = gets current working directory\n",
    "os.chdir() = changes the current working directory "
   ]
  },
  {
   "cell_type": "markdown",
   "id": "ee327b1c",
   "metadata": {},
   "source": [
    "A4)  . is current folder .. is the parent folder"
   ]
  },
  {
   "cell_type": "markdown",
   "id": "7c9e924a",
   "metadata": {},
   "source": [
    "A5)  C:\\bacon\\eggs is the dir name, spam.txt is the base name."
   ]
  },
  {
   "cell_type": "markdown",
   "id": "cd76b68e",
   "metadata": {},
   "source": [
    "A6) The string 'r' for read mode, 'w' for write mode, and 'a' for append mode."
   ]
  },
  {
   "cell_type": "markdown",
   "id": "f6fea049",
   "metadata": {},
   "source": [
    "A7) The existing content in the file is erased and content is written if openned in the write more. "
   ]
  },
  {
   "cell_type": "markdown",
   "id": "5c04ff07",
   "metadata": {},
   "source": [
    "A8) The read() method returns the file's entire contents as a single string value. The readlines() method returns a list of strings, where each string is a line from the file's contents."
   ]
  },
  {
   "cell_type": "markdown",
   "id": "6a6f732d",
   "metadata": {},
   "source": [
    "A9) A shelf value resembles a dictionary value; it has keys and values, along with keys() and values() methods that work similarly to the dictionary methods of the same names."
   ]
  },
  {
   "cell_type": "code",
   "execution_count": null,
   "id": "93cb56dd",
   "metadata": {},
   "outputs": [],
   "source": []
  }
 ],
 "metadata": {
  "kernelspec": {
   "display_name": "Python 3",
   "language": "python",
   "name": "python3"
  },
  "language_info": {
   "codemirror_mode": {
    "name": "ipython",
    "version": 3
   },
   "file_extension": ".py",
   "mimetype": "text/x-python",
   "name": "python",
   "nbconvert_exporter": "python",
   "pygments_lexer": "ipython3",
   "version": "3.8.8"
  }
 },
 "nbformat": 4,
 "nbformat_minor": 5
}
