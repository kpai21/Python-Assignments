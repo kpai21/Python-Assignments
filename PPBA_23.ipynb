{
 "cells": [
  {
   "cell_type": "code",
   "execution_count": 1,
   "id": "d270580b",
   "metadata": {},
   "outputs": [
    {
     "data": {
      "text/plain": [
       "False"
      ]
     },
     "execution_count": 1,
     "metadata": {},
     "output_type": "execute_result"
    }
   ],
   "source": [
    "#A1) checks if number is symetrical\n",
    "def is_symmetrical(number):\n",
    "    a_list = [int(x) for x in str(number)]\n",
    "    l = len(a_list)-1\n",
    "    \n",
    "    for i in a_list:\n",
    "        j = l-i;\n",
    "        if i == j:\n",
    "            break\n",
    "        elif i != a_list[j]:\n",
    "            return False\n",
    "    return True\n",
    "\n",
    "is_symmetrical(7227)\n",
    "is_symmetrical(12567)"
   ]
  },
  {
   "cell_type": "code",
   "execution_count": 64,
   "id": "29eb22f8",
   "metadata": {},
   "outputs": [
    {
     "name": "stdout",
     "output_type": "stream",
     "text": [
      "[2, 3]\n"
     ]
    },
    {
     "data": {
      "text/plain": [
       "6"
      ]
     },
     "execution_count": 64,
     "metadata": {},
     "output_type": "execute_result"
    }
   ],
   "source": [
    "#A2) multiply numbers\n",
    "\n",
    "import numpy as np\n",
    "def multiply_nums(*kargs):\n",
    "    a = list(map(int,kargs))\n",
    "   \n",
    "    print(a)\n",
    "    return np.prod(a) \n",
    "    \n",
    "multiply_nums(2, 3)"
   ]
  },
  {
   "cell_type": "code",
   "execution_count": 80,
   "id": "99d9992f",
   "metadata": {},
   "outputs": [
    {
     "data": {
      "text/plain": [
       "'811181'"
      ]
     },
     "execution_count": 80,
     "metadata": {},
     "output_type": "execute_result"
    }
   ],
   "source": [
    "#A3) squares every digit of a number\n",
    "\n",
    "def squares_digits(number):\n",
    "    a = [int(i)*int(i) for i in str(number)]\n",
    "    return ''.join([str(elem) for elem in a])\n",
    "    \n",
    "squares_digits(9119)"
   ]
  },
  {
   "cell_type": "code",
   "execution_count": 82,
   "id": "6c052d62",
   "metadata": {},
   "outputs": [
    {
     "data": {
      "text/plain": [
       "[3, 5, 1]"
      ]
     },
     "execution_count": 82,
     "metadata": {},
     "output_type": "execute_result"
    }
   ],
   "source": [
    "#A4) \n",
    "from collections import Counter \n",
    "\n",
    "def remove_dulplicate (test_list):\n",
    "\n",
    "    res = [key for key, value in Counter(test_list).most_common()]\n",
    "    return res\n",
    "\n",
    "test_list = [1,3,3,5,5]\n",
    "remove_dulplicate(test_list)\n"
   ]
  },
  {
   "cell_type": "code",
   "execution_count": 94,
   "id": "501f4269",
   "metadata": {},
   "outputs": [
    {
     "data": {
      "text/plain": [
       "6"
      ]
     },
     "execution_count": 94,
     "metadata": {},
     "output_type": "execute_result"
    }
   ],
   "source": [
    "#A5) mean of all\n",
    "\n",
    "import statistics\n",
    "\n",
    "def getmean (data):\n",
    "    list = [int(x) for x in str(data)] \n",
    "    x = statistics.mean(list)\n",
    "    return x\n",
    " \n",
    "getmean(666)"
   ]
  }
 ],
 "metadata": {
  "kernelspec": {
   "display_name": "Python 3",
   "language": "python",
   "name": "python3"
  },
  "language_info": {
   "codemirror_mode": {
    "name": "ipython",
    "version": 3
   },
   "file_extension": ".py",
   "mimetype": "text/x-python",
   "name": "python",
   "nbconvert_exporter": "python",
   "pygments_lexer": "ipython3",
   "version": "3.8.8"
  }
 },
 "nbformat": 4,
 "nbformat_minor": 5
}
