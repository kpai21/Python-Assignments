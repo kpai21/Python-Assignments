{
 "cells": [
  {
   "cell_type": "code",
   "execution_count": 22,
   "id": "c23e8dfd",
   "metadata": {},
   "outputs": [
    {
     "data": {
      "text/plain": [
       "[2, 3, 4, 5, 6]"
      ]
     },
     "execution_count": 22,
     "metadata": {},
     "output_type": "execute_result"
    }
   ],
   "source": [
    "#A1 ) Add the number in the list and remove first\n",
    "\n",
    "def create_list( arr, num):\n",
    "    try:\n",
    "        arr.pop(0)\n",
    "        arr.append(num)\n",
    "        return arr\n",
    " \n",
    "    except IndexError:\n",
    "        raise Exception(\"No list has been selected\")\n",
    "        \n",
    "arr = [1,2,3,4,5]\n",
    "num = 6\n",
    "arr1 = []\n",
    "create_list(arr, num)"
   ]
  },
  {
   "cell_type": "code",
   "execution_count": 32,
   "id": "59a803b1",
   "metadata": {},
   "outputs": [
    {
     "data": {
      "text/plain": [
       "65700"
      ]
     },
     "execution_count": 32,
     "metadata": {},
     "output_type": "execute_result"
    }
   ],
   "source": [
    "#A2) return sum of budget\n",
    "\n",
    "def get_budgets(dictBudget):\n",
    "    result = 0\n",
    "    for i in dictBudget:\n",
    "        result += i[\"budget\"]\n",
    "    return result\n",
    "    \n",
    "get_budgets([\n",
    "{ \"name\":\"John\",\"age\": 21, \"budget\": 23000 },\n",
    "{ \"name\": \"Steve\", \"age\": 32, \"budget\": 40000 },\n",
    "{ \"name\": \"Martin\", \"age\": 16, \"budget\": 2700 }\n",
    "]) #65700\n",
    "get_budgets([\n",
    "{ \"name\": \"John\", \"age\": 21, \"budget\": 29000 },\n",
    "{ \"name\": \"Steve\", \"age\": 32, \"budget\": 32000 },\n",
    "{ \"name\": \"Martin\", \"age\": 16, \"budget\": 1600 }\n",
    "]) # 62600"
   ]
  },
  {
   "cell_type": "code",
   "execution_count": 37,
   "id": "60acd840",
   "metadata": {},
   "outputs": [
    {
     "data": {
      "text/plain": [
       "'ehllo'"
      ]
     },
     "execution_count": 37,
     "metadata": {},
     "output_type": "execute_result"
    }
   ],
   "source": [
    "#A3) sort string\n",
    "def alphabet_soup(word):\n",
    "    return ''.join(sorted(word))\n",
    "    \n",
    "alphabet_soup(\"hello\")"
   ]
  },
  {
   "cell_type": "code",
   "execution_count": null,
   "id": "ed022207",
   "metadata": {},
   "outputs": [],
   "source": [
    "#A4) compound intesert \n",
    "\n",
    "import math\n",
    "\n",
    "def compound_interest(p, t, r, y):\n",
    "    n = 10\n",
    "    result = math.pow(p*(1 + r/(12*y)), n*t)\n",
    "    return result\n",
    "compound_interest(100000, 10, 0.06, 12)\n"
   ]
  },
  {
   "cell_type": "code",
   "execution_count": 54,
   "id": "668942d5",
   "metadata": {},
   "outputs": [
    {
     "data": {
      "text/plain": [
       "[9, 2, 16]"
      ]
     },
     "execution_count": 54,
     "metadata": {},
     "output_type": "execute_result"
    }
   ],
   "source": [
    "#A5) Return integers\n",
    "\n",
    "def return_only_integer(arr):\n",
    "    ints = []\n",
    "    for i in arr:\n",
    "        if type(i) == int:\n",
    "            ints.append(i)\n",
    "    return ints\n",
    "\n",
    "return_only_integer([9, 2, \"space\", \"car\", \"lion\", 16])"
   ]
  },
  {
   "cell_type": "code",
   "execution_count": null,
   "id": "99532325",
   "metadata": {},
   "outputs": [],
   "source": []
  }
 ],
 "metadata": {
  "kernelspec": {
   "display_name": "Python 3",
   "language": "python",
   "name": "python3"
  },
  "language_info": {
   "codemirror_mode": {
    "name": "ipython",
    "version": 3
   },
   "file_extension": ".py",
   "mimetype": "text/x-python",
   "name": "python",
   "nbconvert_exporter": "python",
   "pygments_lexer": "ipython3",
   "version": "3.8.8"
  }
 },
 "nbformat": 4,
 "nbformat_minor": 5
}
