{
 "cells": [
  {
   "cell_type": "code",
   "execution_count": 1,
   "id": "2380e9e7",
   "metadata": {},
   "outputs": [
    {
     "name": "stdout",
     "output_type": "stream",
     "text": [
      "Write something: e\n",
      "Write something: e\n",
      "Write something: e\n",
      "Write something: quit\n"
     ]
    }
   ],
   "source": [
    "#A1) Walrus operator \":=\"\"\n",
    "inputs = list()\n",
    "while (current := input(\"Write something: \")) != \"quit\":\n",
    "    inputs.append(current)\n",
    "    \n",
    "2) Positional-only parameters(/): \n",
    "    \n",
    "# Arguments before / are considered\n",
    "# as positional arguments only\n",
    "def add(x, y, /, z = 0):\n",
    "    a = x + y + z\n",
    "    return a \n",
    "print(add(2, 5))\n",
    "print(add(2, 5, 7))\n",
    "print(add(x = 2, y = 5))\n",
    "\n",
    "3)  F-strings support \"=\" \n",
    "    \n",
    "a = 5\n",
    "b = 10\n",
    " \n",
    "# Using = at the end of\n",
    "# f-strings\n",
    "print(f'{a + b = }')\n",
    "\n",
    "4) reverse() for dict\n",
    "my_dict = dict(x = 1, y = 2, z = 3)\n",
    " \n",
    "# Prints only keys\n",
    "list(reversed(my_dict))\n",
    "5) Dictionary comprehension\n",
    "data = {input('Name: '), input('Age: ')}\n"
   ]
  },
  {
   "cell_type": "code",
   "execution_count": 2,
   "id": "688519b6",
   "metadata": {},
   "outputs": [],
   "source": [
    "#A2) Module mock is used in the code to change the behaviour during run time. This is called monkey patching A"
   ]
  },
  {
   "cell_type": "markdown",
   "id": "a375aad2",
   "metadata": {},
   "source": [
    "#A3) When an object is copied using copy(), it is called shallow copy as changes made in copied object will also make corresponding changes in original object, because both the objects will be referencing same address location.\n",
    "\n",
    "When an object is copied using deepcopy(), it is called deep copy as changes made in copied object will not make corresponding changes in original object, because both the objects will not be referencing same address location.\n",
    "\n"
   ]
  },
  {
   "cell_type": "code",
   "execution_count": 3,
   "id": "fe0ee8b5",
   "metadata": {},
   "outputs": [
    {
     "name": "stdout",
     "output_type": "stream",
     "text": [
      "Original Elements of each List\n",
      "[1, 2, [3, 4], 5, 6]\n",
      "[1, 2, [3, 4], 5, 6]\n",
      "[1, 2, [3, 4], 5, 6]\n",
      "New Elements of each List\n",
      "[1, 2, [3, 4], 5, 20]\n",
      "[10, 2, [3, 4], 5, 6]\n",
      "[1, 2, [3, 4], 5, 20]\n"
     ]
    }
   ],
   "source": [
    "from copy import deepcopy, copy\n",
    "l_one = [1,2,[3,4],5,6]\n",
    "l_two = deepcopy(l_one)\n",
    "l_three = l_one\n",
    "print(f'Original Elements of each List\\n{l_one}\\n{l_two}\\n{l_three}')\n",
    "l_two[0] = 10\n",
    "l_three[-1] = 20\n",
    "print(f'New Elements of each List\\n{l_one}\\n{l_two}\\n{l_three}')"
   ]
  },
  {
   "cell_type": "code",
   "execution_count": null,
   "id": "186edcca",
   "metadata": {},
   "outputs": [],
   "source": [
    "#A4) \n",
    "In Python, the highest possible length of an identifier is 79 characters. Python is a high level programming language. It’s also a complex form and a collector of waste.\n",
    "\n",
    "Python, particularly when combined with identifiers, is case-sensitive.\n",
    "When writing or using identifiers in Python, it has a maximum of 79 characters.\n",
    "Unlikely, Python gives the identifiers unlimited length.\n",
    "However, the layout of PEP-8 prevents the user from breaking the rules and includes a 79-character limit."
   ]
  },
  {
   "cell_type": "code",
   "execution_count": null,
   "id": "bff7a5c3",
   "metadata": {},
   "outputs": [],
   "source": [
    "#A5) A generator comprehension is a single-line specification for defining a generator in Python.\n",
    "\n",
    "It is absolutely essential to learn this syntax in order to write simple and readable code.\n",
    "Generator comprehension uses round bracket unlike square bracket in list comprehension.\n",
    "The generator yields one item at a time and generates item only when in demand. \n",
    "Whereas, in a list comprehension, Python reserves memory for the whole list. \n",
    "Thus we can say that the generator expressions are memory efficient than the lists.\n",
    "\n",
    "in_list = [x for x in range(10)] # List Comprehension\n",
    "print(in_list)\n",
    "out_gen = (x for x in in_list if x%2 == 0) # Generator Comprehension\n",
    "print(out_gen) # Returns a Generator Object\n",
    "for ele in out_gen:\n",
    "    print(ele, end=\" \")\n"
   ]
  }
 ],
 "metadata": {
  "kernelspec": {
   "display_name": "Python 3",
   "language": "python",
   "name": "python3"
  },
  "language_info": {
   "codemirror_mode": {
    "name": "ipython",
    "version": 3
   },
   "file_extension": ".py",
   "mimetype": "text/x-python",
   "name": "python",
   "nbconvert_exporter": "python",
   "pygments_lexer": "ipython3",
   "version": "3.8.8"
  }
 },
 "nbformat": 4,
 "nbformat_minor": 5
}
