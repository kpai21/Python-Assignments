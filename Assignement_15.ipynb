{
 "cells": [
  {
   "cell_type": "markdown",
   "id": "7fb519c4",
   "metadata": {},
   "source": [
    "A1) 60*60 = 3600\n",
    "A2) seconds_per_hour = 3600\n",
    "A3) seconds_per_hour *24 = 86400\n",
    "A4) seconds_per_day = secounds_per_hour *24 = 86400\n",
    "A5) seconds_per_day / seconds_per_hour = 24.0 \n",
    "A6) seconds_per_day // seconds_per_hour = 24 \n",
    "A7) "
   ]
  },
  {
   "cell_type": "code",
   "execution_count": 46,
   "id": "d2b4077b",
   "metadata": {},
   "outputs": [],
   "source": [
    "def genPrimes():\n",
    "    primes = [2]\n",
    "    yield primes[0]\n",
    "    guess = 3\n",
    "    while True:\n",
    "        if all(guess%x != 0 for x in primes):\n",
    "            primes.append(guess)        \n",
    "        if guess == primes[-1]:\n",
    "            yield primes[-1]\n",
    "        guess += 2"
   ]
  }
 ],
 "metadata": {
  "kernelspec": {
   "display_name": "Python 3",
   "language": "python",
   "name": "python3"
  },
  "language_info": {
   "codemirror_mode": {
    "name": "ipython",
    "version": 3
   },
   "file_extension": ".py",
   "mimetype": "text/x-python",
   "name": "python",
   "nbconvert_exporter": "python",
   "pygments_lexer": "ipython3",
   "version": "3.8.8"
  }
 },
 "nbformat": 4,
 "nbformat_minor": 5
}
