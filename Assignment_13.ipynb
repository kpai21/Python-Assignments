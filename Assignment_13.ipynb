{
 "cells": [
  {
   "cell_type": "markdown",
   "id": "5680837c",
   "metadata": {},
   "source": [
    "A1) Excel is more superior when compared with the CSV file format; thus, CSV consumes less amount of file size when the user is importing data; it is a much faster format compared to excel. CSV does not manipulate data and stores it as-is. Excel also allows the user the add-in feature."
   ]
  },
  {
   "cell_type": "markdown",
   "id": "0fb19999",
   "metadata": {},
   "source": [
    "A2) You pass a File object, obtained from a call to open()."
   ]
  },
  {
   "cell_type": "markdown",
   "id": "b5a5db53",
   "metadata": {},
   "source": [
    "A3) File objects need to be opened in read-binary ('rb') for Reader objects and write-binary ('wb') for Writer objects."
   ]
  },
  {
   "cell_type": "markdown",
   "id": "9bf8b558",
   "metadata": {},
   "source": [
    "A4) The writerow() method"
   ]
  },
  {
   "cell_type": "markdown",
   "id": "5552f032",
   "metadata": {},
   "source": [
    "A5) The line terminator is the character that comes at the end of a row. By default, the line terminator is a newline. You can change characters to different values by using the delimiter and lineterminator keyword arguments with csv. writer()"
   ]
  },
  {
   "cell_type": "markdown",
   "id": "413b0ce6",
   "metadata": {},
   "source": [
    "A6) loads() method return Python data structure from JSON data."
   ]
  },
  {
   "cell_type": "markdown",
   "id": "a77318d0",
   "metadata": {},
   "source": [
    "A7)  json.dump() is used for serialization , takes the python data and turns into JSON "
   ]
  },
  {
   "cell_type": "code",
   "execution_count": null,
   "id": "3bf073ab",
   "metadata": {},
   "outputs": [],
   "source": []
  }
 ],
 "metadata": {
  "kernelspec": {
   "display_name": "Python 3",
   "language": "python",
   "name": "python3"
  },
  "language_info": {
   "codemirror_mode": {
    "name": "ipython",
    "version": 3
   },
   "file_extension": ".py",
   "mimetype": "text/x-python",
   "name": "python",
   "nbconvert_exporter": "python",
   "pygments_lexer": "ipython3",
   "version": "3.8.8"
  }
 },
 "nbformat": 4,
 "nbformat_minor": 5
}
