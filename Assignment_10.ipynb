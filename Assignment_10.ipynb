{
 "cells": [
  {
   "cell_type": "markdown",
   "id": "7451c76a",
   "metadata": {},
   "source": [
    "A1) shutil.copy() -  copies a single file from source to destination. Source and destination is the file path\n",
    "shutil.copytree() -  copies an entire folder and every folder and file contained in it. source and destination is the folder location. "
   ]
  },
  {
   "cell_type": "markdown",
   "id": "6151bc9a",
   "metadata": {},
   "source": [
    "A2) shutil.move() is used to rename files. Its arguments are the name of the file to rename and the new filename. "
   ]
  },
  {
   "cell_type": "markdown",
   "id": "60b93819",
   "metadata": {},
   "source": [
    "A3) send2trash.send2trash('filename') sends the file to recycle bin, so we can recover them. It will not free up disk space permanently. \n",
    "OS or shutit functions free up disk sapce and deleting files and folders. "
   ]
  },
  {
   "cell_type": "markdown",
   "id": "a129114e",
   "metadata": {},
   "source": [
    "A4) zipfile.ZipFile('.zip') # passing zip file name"
   ]
  },
  {
   "cell_type": "code",
   "execution_count": 5,
   "id": "f2b3dba9",
   "metadata": {},
   "source": [
    "A5)"
   ],
   "outputs": [
    {
     "name": "stdout",
     "output_type": "stream",
     "text": [
      "Looking in C:\\Users\\Lenovo\\Python Basic assignments\\randomFolder for files with extensions of .pdf, .jpeg\n",
      "Coping C:\\Users\\Lenovo\\Python Basic assignments\\randomFolder\\Form_pdf_850736320311221_KAPAI_ITR1.pdf to C:\\Users\\Lenovo\\Python Basic assignments\\selectiveFolder\n",
      "Coping C:\\Users\\Lenovo\\Python Basic assignments\\randomFolder\\krishan.jpeg to C:\\Users\\Lenovo\\Python Basic assignments\\selectiveFolder\n",
      "Coping C:\\Users\\Lenovo\\Python Basic assignments\\randomFolder\\Pdf_850736320311221 (1)_KAPAI_ACKN.pdf to C:\\Users\\Lenovo\\Python Basic assignments\\selectiveFolder\n"
     ]
    }
   ],
   "source": [
    "import os, shutil\n",
    "\n",
    "def selectiveCopy(folder, extensions, destFolder):\n",
    "\tfolder = os.path.abspath(folder)\n",
    "\tdestFolder = os.path.abspath(destFolder)\n",
    "\tprint('Looking in', folder, 'for files with extensions of', ', '.join(extensions))\n",
    "\tfor foldername, subfolders, filenames in os.walk(folder):\n",
    "\t\tfor filename in filenames:\n",
    "\t\t\tname, extension = os.path.splitext(filename)\n",
    "\t\t\tif extension in extensions:\n",
    "\t\t\t\tfileAbsPath = foldername + os.path.sep + filename\n",
    "\t\t\t\tprint('Coping', fileAbsPath, 'to', destFolder)\n",
    "\t\t\t\tshutil.copy(fileAbsPath, destFolder)\n",
    "\n",
    "extensions = ['.pdf', '.jpeg']\n",
    "folder = 'randomFolder'\n",
    "destFolder = 'selectiveFolder'\n",
    "selectiveCopy(folder, extensions, destFolder)"
   ]
  },
  {
   "cell_type": "code",
   "execution_count": null,
   "id": "6d6a3e19",
   "metadata": {},
   "outputs": [],
   "source": []
  }
 ],
 "metadata": {
  "kernelspec": {
   "display_name": "Python 3",
   "language": "python",
   "name": "python3"
  },
  "language_info": {
   "codemirror_mode": {
    "name": "ipython",
    "version": 3
   },
   "file_extension": ".py",
   "mimetype": "text/x-python",
   "name": "python",
   "nbconvert_exporter": "python",
   "pygments_lexer": "ipython3",
   "version": "3.8.8"
  }
 },
 "nbformat": 4,
 "nbformat_minor": 5
}
