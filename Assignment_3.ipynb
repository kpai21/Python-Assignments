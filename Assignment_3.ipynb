{
 "cells": [
  {
   "cell_type": "markdown",
   "id": "12330b0d",
   "metadata": {},
   "source": [
    "A1) Advantges of function in python\n",
    "1) It reduces the duplicate code\n",
    "2) Can be written in generic manner\n",
    "3) splits complex problems in simpler once\n",
    "4) Reuse of the code\n",
    "5) Information can be hidden\n",
    "6) Other classes or programs can interact only with the required code easily \n",
    "\n"
   ]
  },
  {
   "cell_type": "markdown",
   "id": "a7e065fe",
   "metadata": {},
   "source": [
    "A2) The code in the function runs when it is called.\n",
    "eg \n",
    "def mapObject(): is the specification of the code, \n",
    "\n",
    "it is called like below.\n",
    "mapObject() "
   ]
  },
  {
   "cell_type": "markdown",
   "id": "e7988c30",
   "metadata": {},
   "source": [
    "A3) def keyword defines a statement , the function starts with def and ends with (:) sign. The def creates a funciton object and assigns it to given object.\n"
   ]
  },
  {
   "cell_type": "markdown",
   "id": "08744b50",
   "metadata": {},
   "source": [
    "A4) A function is defined for a particular operation. Function call is when the funtion is invoked to use the particular operation or task."
   ]
  },
  {
   "cell_type": "markdown",
   "id": "9893983a",
   "metadata": {},
   "source": [
    "A5) There are 3 scopes in python , \n",
    "1) Local scope: defined in the function\n",
    "2) Global scope: Defined outside the function or defined in the class\n",
    "3) Built-in : These covers all the keywords and cover the widest scope in python\n",
    "4) Enclosing scope: It exists in nested functions. The names defined in the enclosing function is available in the nested function.\n"
   ]
  },
  {
   "cell_type": "markdown",
   "id": "8df48241",
   "metadata": {},
   "source": [
    "A6) As soon as the function returns the local variabled declared are destroyed. "
   ]
  },
  {
   "cell_type": "markdown",
   "id": "17f97bff",
   "metadata": {},
   "source": [
    "A7) Return statement means end of the execution or funtion. if there is not expression then it returns nonetype. yes return value can be used in expression and it returns the result of the expression when the return keyword is followed by the value of expression. It is used inside the function"
   ]
  },
  {
   "cell_type": "markdown",
   "id": "0c2297eb",
   "metadata": {},
   "source": [
    "A8) Function returns NoneType. "
   ]
  },
  {
   "cell_type": "markdown",
   "id": "9737fcdb",
   "metadata": {},
   "source": [
    "A9) Assign the global variable to the local variable \n",
    "\n",
    "globalVar = []\n",
    "\n",
    "def myFunct():\n",
    "    localVar = globalVar"
   ]
  },
  {
   "cell_type": "markdown",
   "id": "9737879e",
   "metadata": {},
   "source": [
    "A10) Data type of None is NoneType which is equal to the orignial or emplty state of the object.\n"
   ]
  },
  {
   "cell_type": "markdown",
   "id": "1bc452bb",
   "metadata": {},
   "source": [
    "A11) The import statement read the code in the module and allows it usae in other files."
   ]
  },
  {
   "cell_type": "markdown",
   "id": "3ec7dcca",
   "metadata": {},
   "source": [
    "A12) The bacon() is called by spam.bacon()\n"
   ]
  },
  {
   "cell_type": "markdown",
   "id": "963a8cb5",
   "metadata": {},
   "source": [
    "A13) Use try and except to save the program failure"
   ]
  },
  {
   "cell_type": "markdown",
   "id": "08da4ff3",
   "metadata": {},
   "source": [
    "A14) Try block tests the code and except block catches the exceptions or errors and allow you to replace with huam understandable message."
   ]
  },
  {
   "cell_type": "code",
   "execution_count": null,
   "id": "d51e50fe",
   "metadata": {},
   "outputs": [],
   "source": []
  }
 ],
 "metadata": {
  "kernelspec": {
   "display_name": "Python 3",
   "language": "python",
   "name": "python3"
  },
  "language_info": {
   "codemirror_mode": {
    "name": "ipython",
    "version": 3
   },
   "file_extension": ".py",
   "mimetype": "text/x-python",
   "name": "python",
   "nbconvert_exporter": "python",
   "pygments_lexer": "ipython3",
   "version": "3.8.8"
  }
 },
 "nbformat": 4,
 "nbformat_minor": 5
}
