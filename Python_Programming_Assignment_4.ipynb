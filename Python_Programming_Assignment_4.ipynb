{
 "cells": [
  {
   "cell_type": "code",
   "execution_count": 12,
   "id": "af268e6a",
   "metadata": {},
   "outputs": [
    {
     "name": "stdout",
     "output_type": "stream",
     "text": [
      "Enter the number6\n",
      "The factorial of 6 is 720\n"
     ]
    }
   ],
   "source": [
    "#A1) Factorial of a number\n",
    "num = int(input(\"Enter the number\"))\n",
    "\n",
    "factorial =1 \n",
    "if num < 0:\n",
    "    print(\"Sorry, factorial does not exist for negative numbers\")\n",
    "elif num == 0:\n",
    "    print (\"The factorial of 0 is 1\")\n",
    "else:\n",
    "    for i in range (1,num+1):\n",
    "        factorial = factorial * i\n",
    "    print(\"The factorial of\", num, \"is\", factorial)"
   ]
  },
  {
   "cell_type": "code",
   "execution_count": 16,
   "id": "5958b2bc",
   "metadata": {},
   "outputs": [
    {
     "name": "stdout",
     "output_type": "stream",
     "text": [
      "Enter the number169\n",
      "169 x 1 = 169\n",
      "169 x 2 = 338\n",
      "169 x 3 = 507\n",
      "169 x 4 = 676\n",
      "169 x 5 = 845\n",
      "169 x 6 = 1014\n",
      "169 x 7 = 1183\n",
      "169 x 8 = 1352\n",
      "169 x 9 = 1521\n",
      "169 x 10 = 1690\n"
     ]
    }
   ],
   "source": [
    "#A2) Multiplication table \n",
    "num = int (input(\"Enter the number\"))\n",
    "\n",
    "for i in range(1,11):\n",
    "    print(num,'x', i, '=', num*i)"
   ]
  },
  {
   "cell_type": "code",
   "execution_count": 21,
   "id": "a3205c9a",
   "metadata": {},
   "outputs": [
    {
     "name": "stdout",
     "output_type": "stream",
     "text": [
      "How many terms?10\n",
      "Finonacci sequence:\n",
      "0\n",
      "1\n",
      "1\n",
      "2\n",
      "3\n",
      "5\n",
      "8\n",
      "13\n",
      "21\n",
      "34\n"
     ]
    }
   ],
   "source": [
    "#A3) Finonacci sequence \n",
    "nterms = int(input(\"How many terms?\"))\n",
    "\n",
    "n1, n2 = 0,1\n",
    "count =0\n",
    "\n",
    "if nterms <= 0:\n",
    "    print(\"Please enter a positive interger\")\n",
    "elif nterms ==1:\n",
    "    print(\"Fibonacci sequence upto\", nterms, \":\")\n",
    "    print(n1)\n",
    "else:\n",
    "    print(\"Finonacci sequence:\")\n",
    "    while count < nterms:\n",
    "        print(n1)\n",
    "        nth = n1 + n2\n",
    "        n1 = n2\n",
    "        n2 = nth\n",
    "        count += 1"
   ]
  },
  {
   "cell_type": "code",
   "execution_count": 28,
   "id": "a826feb8",
   "metadata": {},
   "outputs": [
    {
     "name": "stdout",
     "output_type": "stream",
     "text": [
      "Enter a number: 150\n",
      "150 is a not an armstrong number\n"
     ]
    }
   ],
   "source": [
    "#A4) Armstrong - number \n",
    "num = int(input(\"Enter a number: \"))\n",
    "\n",
    "sum = 0\n",
    "\n",
    "temp = num \n",
    "while temp > 0:\n",
    "    digit = temp % 10 \n",
    "    sum += digit ** 3\n",
    "    temp //=10\n",
    "    \n",
    "if num == sum:\n",
    "    print(num, \"is an armstrong number\")\n",
    "else:\n",
    "    print(num, \"is a not an armstrong number\")"
   ]
  },
  {
   "cell_type": "code",
   "execution_count": 30,
   "id": "cca9263d",
   "metadata": {},
   "outputs": [
    {
     "name": "stdout",
     "output_type": "stream",
     "text": [
      "Enter the lower number100\n",
      "Enter the upper number2000\n",
      "153\n",
      "370\n",
      "371\n",
      "407\n",
      "1634\n"
     ]
    }
   ],
   "source": [
    "#A5) Armstrong number in a certain interval \n",
    "lower = int(input(\"Enter the lower number\"))\n",
    "upper = int(input(\"Enter the upper number\"))\n",
    "\n",
    "for num in range(lower, upper +1):\n",
    "    order = len(str(num))\n",
    "    sum = 0\n",
    "    temp = num \n",
    "    while temp > 0:\n",
    "        digit = temp % 10\n",
    "        sum += digit ** order\n",
    "        temp //=10\n",
    "        \n",
    "    if num == sum:\n",
    "        print(num)"
   ]
  },
  {
   "cell_type": "code",
   "execution_count": 35,
   "id": "3e457687",
   "metadata": {},
   "outputs": [
    {
     "name": "stdout",
     "output_type": "stream",
     "text": [
      "Enter the number 8\n",
      "The sum is 36\n"
     ]
    }
   ],
   "source": [
    "#A6) Sum of natural numbers\n",
    "num = int (input(\"Enter the number \"))\n",
    "\n",
    "if num <0:\n",
    "    print(\"Enter a positive number \")\n",
    "else:\n",
    "    sum = 0\n",
    "    while(num >0):\n",
    "        sum += num\n",
    "        num -= 1\n",
    "    print(\"The sum is\", sum)"
   ]
  },
  {
   "cell_type": "code",
   "execution_count": null,
   "id": "aa850b72",
   "metadata": {},
   "outputs": [],
   "source": []
  }
 ],
 "metadata": {
  "kernelspec": {
   "display_name": "Python 3",
   "language": "python",
   "name": "python3"
  },
  "language_info": {
   "codemirror_mode": {
    "name": "ipython",
    "version": 3
   },
   "file_extension": ".py",
   "mimetype": "text/x-python",
   "name": "python",
   "nbconvert_exporter": "python",
   "pygments_lexer": "ipython3",
   "version": "3.8.8"
  }
 },
 "nbformat": 4,
 "nbformat_minor": 5
}
