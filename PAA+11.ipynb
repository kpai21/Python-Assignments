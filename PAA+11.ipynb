{
 "cells": [
  {
   "cell_type": "markdown",
   "id": "bd1d7a6e",
   "metadata": {},
   "source": [
    "#A1) \n",
    "A metaclass is a class whose instances are classes. Just as an ordinary class defines the behavior of certain objects, a metaclass defines the behavior of certain classes and their instances."
   ]
  },
  {
   "cell_type": "code",
   "execution_count": 1,
   "id": "a0d567cb",
   "metadata": {},
   "outputs": [
    {
     "name": "stdout",
     "output_type": "stream",
     "text": [
      "Type of stu_obj is: <class '__main__.Student'>\n"
     ]
    }
   ],
   "source": [
    "#A2) Metaclasses define the classes behaviour, you can set some rule in the meta class so that the classes that it confines follows these rules.\n",
    "# usually the type of class is meta class.\n",
    "class Student:\n",
    "    pass\n",
    "stu_obj = Student()\n",
    " \n",
    "# Print type of object of Student class\n",
    "print(\"Type of stu_obj is:\", type(stu_obj))\n",
    "# below a type of stu_obj is metaclass"
   ]
  },
  {
   "cell_type": "code",
   "execution_count": null,
   "id": "d024f47f",
   "metadata": {},
   "outputs": [],
   "source": [
    "#A3) Metaclasses and decorators can be used to project the advance behaviour in the code. \n",
    "#Decorators are defined like @stringfilter which considers a func to be executes while its execution.\n",
    "# metaclasses can modify the class at the type level so that you can change their arrtibutes, functions during function execution\n"
   ]
  }
 ],
 "metadata": {
  "kernelspec": {
   "display_name": "Python 3",
   "language": "python",
   "name": "python3"
  },
  "language_info": {
   "codemirror_mode": {
    "name": "ipython",
    "version": 3
   },
   "file_extension": ".py",
   "mimetype": "text/x-python",
   "name": "python",
   "nbconvert_exporter": "python",
   "pygments_lexer": "ipython3",
   "version": "3.8.8"
  }
 },
 "nbformat": 4,
 "nbformat_minor": 5
}
