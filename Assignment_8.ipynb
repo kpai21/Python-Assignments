{
 "cells": [
  {
   "cell_type": "markdown",
   "id": "37dbf74c",
   "metadata": {},
   "source": [
    "A1) No PyInputPlus is not included in Python Standard Library"
   ]
  },
  {
   "cell_type": "markdown",
   "id": "874f4ee7",
   "metadata": {},
   "source": [
    "A2) Since PyInoutplus is not included it is installed seperately and imported seperately for its use. "
   ]
  },
  {
   "cell_type": "markdown",
   "id": "e64259da",
   "metadata": {},
   "source": [
    "A3) inputInt() accepts input as integer, inputFloat() accepts the decimal values as input value"
   ]
  },
  {
   "cell_type": "markdown",
   "id": "c930ac1a",
   "metadata": {},
   "source": [
    "A4) using pyip.inputint(min=0, max=99)"
   ]
  },
  {
   "cell_type": "markdown",
   "id": "1d5bd097",
   "metadata": {},
   "source": [
    "A5) The allowRegexes and blockregexes keyword arguments take a list of regular expression strings to determine what the PyInputPLus function will accept and reject as valid input. "
   ]
  },
  {
   "cell_type": "markdown",
   "id": "f65f4906",
   "metadata": {},
   "source": [
    "A6) RetryLimitException is raised after 3 limits"
   ]
  },
  {
   "cell_type": "code",
   "execution_count": null,
   "id": "2a7f4541",
   "metadata": {},
   "outputs": [],
   "source": [
    "A7) Instead of raising RetryLimitException, the inputNum() function simply returns the string 'N/A'"
   ]
  }
 ],
 "metadata": {
  "kernelspec": {
   "display_name": "Python 3",
   "language": "python",
   "name": "python3"
  },
  "language_info": {
   "codemirror_mode": {
    "name": "ipython",
    "version": 3
   },
   "file_extension": ".py",
   "mimetype": "text/x-python",
   "name": "python",
   "nbconvert_exporter": "python",
   "pygments_lexer": "ipython3",
   "version": "3.8.8"
  }
 },
 "nbformat": 4,
 "nbformat_minor": 5
}
