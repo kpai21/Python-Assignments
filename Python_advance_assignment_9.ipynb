{
 "cells": [
  {
   "cell_type": "code",
   "execution_count": null,
   "id": "3110a02f",
   "metadata": {},
   "outputs": [],
   "source": [
    "#A1) Names are function of string object types:\n",
    "1) capitalize() - converts first character of string to capital\n",
    "2) casefold() - implements caseless string matching\n",
    "3) center() - pad the string with specifited character\n",
    "4) count()- returns the number of occurances of a substrng in the string\n",
    "5) endswith() - rue when string ends with given suffix\n",
    "6) format() - formats the string \n",
    "7) index() - returns the position of first occurence of substring \n",
    "8) isnumeric - returns 'true' if all are numberic\n",
    "9) replace() - replaces all occurances "
   ]
  },
  {
   "cell_type": "code",
   "execution_count": null,
   "id": "01270d01",
   "metadata": {},
   "outputs": [],
   "source": [
    "#A2) \n",
    "string can be formated using % operator, format() method, string literals called f-strings and string template class.\n",
    "\n",
    "1) using %s to inject strings, %d for integers , %f for floating-point and %b for binary format. \n",
    "x = 'jumped'\n",
    " \n",
    "print(\"Misha %s and %s around\"%('ran',x))\n",
    "\n",
    "2) using string.format()\n",
    "print('{2} {1} {0}'.format('directions',\n",
    "                           'the', 'Read'))\n",
    "\n",
    "3) using F-Strings\n",
    "name = 'Ele'\n",
    " \n",
    "print(f\"My name is {name}.\")\n",
    "\n",
    "F-string is the fastest of all above and can be used with lambda expressions. \n",
    "a = 5\n",
    "b=10\n",
    "print(f\"He said his age is {2 * (a + b)}.\")"
   ]
  },
  {
   "cell_type": "code",
   "execution_count": 10,
   "id": "d0045279",
   "metadata": {},
   "outputs": [
    {
     "name": "stdout",
     "output_type": "stream",
     "text": [
      "He said his age is 30.\n"
     ]
    }
   ],
   "source": [
    "#A3) \n",
    "non-ascii characters can be added by using the \\x,\\u,\\U escapes. "
   ]
  },
  {
   "cell_type": "code",
   "execution_count": 13,
   "id": "0d9eb2bd",
   "metadata": {},
   "outputs": [
    {
     "name": "stdout",
     "output_type": "stream",
     "text": [
      "'A string in python.'\n",
      "'A string in pyth\\xd8n.'\n"
     ]
    }
   ],
   "source": [
    "#A4) Test files are human readable files made of plain text document. these are less prone to get corrupt as undesirable changes can be removed easily.\n",
    "Exampl: doc, txt \n",
    "Binary files are store data in form of sequence of byes grouped into 8 or 16 bits. Binary files can have custom files formats in bits and arranges these bits in binary file. \n",
    "example: .png, audio files "
   ]
  },
  {
   "cell_type": "code",
   "execution_count": null,
   "id": "c6f65f7b",
   "metadata": {},
   "outputs": [],
   "source": [
    "#A5) encoding='utf-8' , to be added by default while opening the files unless specified. \n",
    "Example\n",
    "sample_text_default = open('sample-character-encoding.txt', encoding='utf-8').read()"
   ]
  },
  {
   "cell_type": "code",
   "execution_count": null,
   "id": "5c41f486",
   "metadata": {},
   "outputs": [],
   "source": [
    "#A6) Default encoding is UTF-8 is the best to have an encoding format"
   ]
  },
  {
   "cell_type": "markdown",
   "id": "37fffc07",
   "metadata": {},
   "source": [
    "#A7) ASCII deals with inaccented letters aA-zZ, symbols and control characters. ASCII's 7-bit range means that each character is stored in sinle 8-bit byte. Unicode standard deals with greater range of characters, a Unicode file naturally takes up more storage space.Unicode is backword compatible and first 128 unicode points represent the equivalent ASCII characters. Since each of these characters with a single byte, any ASCII test is also a UTF-8 text. Unicode is super set of ASCII  "
   ]
  },
  {
   "cell_type": "markdown",
   "id": "0fe0e2d4",
   "metadata": {},
   "source": [
    "#A8) \n",
    "Python supports two types of strings Multi-line and single-line strings. Single line strings are enclosed in single or double quoters and terminate in one line while multi-ine strings store multiple lines of text and are enclosed in triple quotes. Changing the string types will affect the number of lines and characters to be added in the code. "
   ]
  }
 ],
 "metadata": {
  "kernelspec": {
   "display_name": "Python 3",
   "language": "python",
   "name": "python3"
  },
  "language_info": {
   "codemirror_mode": {
    "name": "ipython",
    "version": 3
   },
   "file_extension": ".py",
   "mimetype": "text/x-python",
   "name": "python",
   "nbconvert_exporter": "python",
   "pygments_lexer": "ipython3",
   "version": "3.8.8"
  }
 },
 "nbformat": 4,
 "nbformat_minor": 5
}
