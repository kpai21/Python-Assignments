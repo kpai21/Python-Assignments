{
 "cells": [
  {
   "cell_type": "markdown",
   "id": "26ff6cff",
   "metadata": {},
   "source": [
    "A1) A probability distribution describes how a random variable is distributed.\n",
    "\n",
    "It tells us which values a random variable is most likely to take on and which values are less likely. Based on the previous data and the occurences of the random event, we can predict the outcome in terms of probabilities."
   ]
  },
  {
   "cell_type": "markdown",
   "id": "1ddcdaaf",
   "metadata": {},
   "source": [
    "A2) True Random Numbers are true physical values while pseudo-random numbers are generated internally by a program . Latter is considered good enough as they have sort of uniform distribution."
   ]
  },
  {
   "cell_type": "code",
   "execution_count": null,
   "id": "f43ef9f8",
   "metadata": {},
   "outputs": [],
   "source": [
    "A3)  mean and the variance."
   ]
  },
  {
   "cell_type": "code",
   "execution_count": null,
   "id": "deca312f",
   "metadata": {},
   "outputs": [],
   "source": [
    "A4) Human height or Blood pressure, petals length"
   ]
  },
  {
   "cell_type": "code",
   "execution_count": null,
   "id": "31d64a6e",
   "metadata": {},
   "outputs": [],
   "source": [
    "A5) Variance will decrease with number of trials"
   ]
  },
  {
   "cell_type": "code",
   "execution_count": null,
   "id": "7920397a",
   "metadata": {},
   "outputs": [],
   "source": [
    "A6) lists (list), strings (str) and tuples (tuple) objects can be shuffled by using random.shuffle."
   ]
  },
  {
   "cell_type": "code",
   "execution_count": null,
   "id": "b8af439e",
   "metadata": {},
   "outputs": [],
   "source": [
    "A7) Trigonometric functions\n",
    "Quadratic functions\n",
    "Exponential functions\n",
    "Hyperbolic functions\n",
    "Periodic functions\n",
    "Arithmetic functions\n",
    "Logarithimic functions\n",
    "Conversions to Integer"
   ]
  },
  {
   "cell_type": "code",
   "execution_count": null,
   "id": "584a07a6",
   "metadata": {},
   "outputs": [],
   "source": [
    "A8)  Exponentiation and logarithms are inverse of each other."
   ]
  },
  {
   "cell_type": "code",
   "execution_count": null,
   "id": "eed36e94",
   "metadata": {},
   "outputs": [],
   "source": [
    "A9) log2(x) - logarithmic value of x to base 2\n",
    "log10(x) - logarithmic value of x to base 10\n",
    "log1p(a) - This function is used to compute logarithm(1+a) ."
   ]
  }
 ],
 "metadata": {
  "kernelspec": {
   "display_name": "Python 3",
   "language": "python",
   "name": "python3"
  },
  "language_info": {
   "codemirror_mode": {
    "name": "ipython",
    "version": 3
   },
   "file_extension": ".py",
   "mimetype": "text/x-python",
   "name": "python",
   "nbconvert_exporter": "python",
   "pygments_lexer": "ipython3",
   "version": "3.8.8"
  }
 },
 "nbformat": 4,
 "nbformat_minor": 5
}
