{
 "cells": [
  {
   "cell_type": "markdown",
   "id": "d42b9942",
   "metadata": {},
   "source": [
    "Assignment 25"
   ]
  },
  {
   "cell_type": "markdown",
   "id": "4db1d462",
   "metadata": {},
   "source": [
    "Q1) What is difference between enclosing a list comprehension in square brackets and parentheses?\n",
    "A1) The list comphrehension with square bracket executes immediately and return the returns.\n",
    "\n",
    "l = [n*3 for n in range (1000) ] This is the list comprehension\n",
    "l = (n*3 for n in range (1000) ). This is the generator comprehension\n",
    "\n",
    "List comprehension using square bracket:\n",
    "\n",
    "1) Using square brackets, the returned list object can be iterated using the index.\n",
    "2) It immediately processes and return the result for may take time for larger dataset as it holds entire data. \n",
    "3) I consumes more energy than generator comprehension for same amount of data.\n",
    "4) It is enclosed in the square brackets [ ]\n",
    "Use the paranthesis for larger numbers:\n",
    "\n",
    "1) The generator comprehension returns the object that can iterated over, and cannot be accessed using the index.\n",
    "2) It holds the previous data set to display the enxt data\n",
    "3) It displays the data immediately and doesnt hold the entire data. \n",
    "4) The comprehensions is enclosed in the ( )."
   ]
  },
  {
   "cell_type": "markdown",
   "id": "3aab5a6a",
   "metadata": {},
   "source": [
    "Q2) What is the relationship between generators and iterators?\n",
    "\n",
    "A2) Generator are iterator. The generator uses the yield to create the iterators. \n",
    "\n",
    "1) To create an iterator we use iter() and to create generator we have the function with yeild keyword. \n",
    "2) Yeild keyword is used by generator to save the local variable value to generate the next value. \n",
    "3) Generator in python writes the fast and compact code where as iterator will display the \n",
    "4) Generators are menory efficient than the iterators since it yeilds. \n"
   ]
  },
  {
   "cell_type": "markdown",
   "id": "51911a84",
   "metadata": {},
   "source": [
    "Q3) What are the signs that a function is a generator function?\n",
    "\n",
    "\n",
    "A3) 1) The generator function uses yeild keyword to return the next object. \n",
    "2) As the generator is called it starts with the last yeild statement. \n",
    "3) The yeild statement will pause the functions states and returns the values. Once called it yeilds from the same paused state."
   ]
  },
  {
   "cell_type": "markdown",
   "id": "567298fd",
   "metadata": {},
   "source": [
    "Q4) What is the purpose of yeild statement?\n",
    "\n",
    "A4) The yeild statement acts like a return statement but it will save the function state and pause the process before returning the generator. Once called it will iterate through the generator. "
   ]
  },
  {
   "cell_type": "markdown",
   "id": "d69d835b",
   "metadata": {},
   "source": [
    "Q5) What is the relationship between map calls and list comprehensions? Make a comparison and contrast between the two.\n",
    "\n",
    "A5) Map(): Computes items in iterable object with out explicitly using loops, it uses the transform function to each item in iterable and transforms into new iterable object. \n",
    "\n",
    "Map() funciton is computed using idfferent values in a single line of code. The return type is an iterator (that is mao object). It can be applied on the given funciton to each item of a given iterable.\n",
    "\n",
    "List comprehension: It is used instead of map(), refuce (), and filter function. Used for the list dictionary tuples,etcs, \n",
    "Comparison:\n",
    "\n",
    "List comprehension : * It filters the lists *  returns a list * faster than map when the function is too long to evaluate.\n",
    "\n",
    "Map : * Map does not allow filtering * Return objects and not list * Faster when already defined function is called. \n",
    "    \n",
    "Similarity: Both can be written with lambda function\n",
    "\n",
    "    "
   ]
  },
  {
   "cell_type": "code",
   "execution_count": null,
   "id": "176031e0",
   "metadata": {},
   "outputs": [],
   "source": [
    "Q"
   ]
  }
 ],
 "metadata": {
  "kernelspec": {
   "display_name": "Python 3",
   "language": "python",
   "name": "python3"
  },
  "language_info": {
   "codemirror_mode": {
    "name": "ipython",
    "version": 3
   },
   "file_extension": ".py",
   "mimetype": "text/x-python",
   "name": "python",
   "nbconvert_exporter": "python",
   "pygments_lexer": "ipython3",
   "version": "3.8.8"
  }
 },
 "nbformat": 4,
 "nbformat_minor": 5
}
