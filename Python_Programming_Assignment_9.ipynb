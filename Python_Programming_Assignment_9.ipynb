{
 "cells": [
  {
   "cell_type": "code",
   "execution_count": 8,
   "id": "29eeb704",
   "metadata": {},
   "outputs": [
    {
     "name": "stdout",
     "output_type": "stream",
     "text": [
      "Disarium Number\n"
     ]
    }
   ],
   "source": [
    "#A1) Desarium number\n",
    "\n",
    "import math\n",
    "\n",
    "def check(n):\n",
    "    count_digits = len(str(n))\n",
    "    sum = 0\n",
    "    x = n \n",
    "    while (x!=0):\n",
    "        r = x% 10\n",
    "        sum = (int)(sum + math.pow(r,count_digits))\n",
    "        count_digits = count_digits -1\n",
    "        x = x//10\n",
    "\n",
    "    if sum == n:\n",
    "        return 1\n",
    "    else:\n",
    "        return 0\n",
    "\n",
    "n =135\n",
    "if (check(n) == 1):\n",
    "    print(\"Disarium Number\")\n",
    "else:\n",
    "    print(\"Not a Disarium Number\")\n"
   ]
  },
  {
   "cell_type": "code",
   "execution_count": 20,
   "id": "251daca3",
   "metadata": {},
   "outputs": [
    {
     "name": "stdout",
     "output_type": "stream",
     "text": [
      "Disarium numbers between 1 and 100 are\n",
      "1\n",
      "2\n",
      "3\n",
      "4\n",
      "5\n",
      "6\n",
      "7\n",
      "8\n",
      "9\n",
      "89\n"
     ]
    }
   ],
   "source": [
    "#A2) All disarium from 1 to 100\n",
    "\n",
    "def calculateLength(n):\n",
    "    length = 0\n",
    "    while(n!=0):\n",
    "        length += 1\n",
    "        n = n//10\n",
    "    return length\n",
    "\n",
    "def sumOfDigits(num):\n",
    "    rem = sum = 0\n",
    "    len = calculateLength(num)\n",
    "    \n",
    "    while(num > 0):\n",
    "        rem = num % 10\n",
    "        sum = sum + (rem**len)\n",
    "        num = num //10\n",
    "        len=len-1\n",
    "        \n",
    "    return sum\n",
    "result=0\n",
    "\n",
    "print(\"Disarium numbers between 1 and 100 are\")\n",
    "for i in range(1,101):\n",
    "    result = sumOfDigits(i)\n",
    "    \n",
    "    if ( result ==i):\n",
    "        print(i)\n"
   ]
  },
  {
   "cell_type": "code",
   "execution_count": 17,
   "id": "c2f84dad",
   "metadata": {},
   "outputs": [
    {
     "name": "stdout",
     "output_type": "stream",
     "text": [
      "No\n"
     ]
    }
   ],
   "source": [
    "#A3) Happy numbers\n",
    "def sumDigitSquare(n):\n",
    "    sq = 0;\n",
    "    while(n!=0):\n",
    "        digit = n % 10\n",
    "        sq += digit * digit\n",
    "        n = n //10\n",
    "        \n",
    "    return sq;\n",
    "\n",
    "def isHappy(n):\n",
    "    s=set()\n",
    "    s.add(n)\n",
    "    \n",
    "    while(True):\n",
    "        if (n==1):\n",
    "            return True;\n",
    "        \n",
    "        n = sumDigitSquare(n)\n",
    "        \n",
    "        if n in s:\n",
    "            return False\n",
    "        s.add(n)\n",
    "        \n",
    "n = 4 \n",
    "if(isHappy(n)):\n",
    "    print(\"Yes\")\n",
    "else: \n",
    "    print(\"No\")"
   ]
  },
  {
   "cell_type": "code",
   "execution_count": 28,
   "id": "35497c9e",
   "metadata": {},
   "outputs": [
    {
     "name": "stdout",
     "output_type": "stream",
     "text": [
      "List of happy numbers between 1 and 100\n",
      "1\n",
      " \n",
      "7\n",
      " \n",
      "10\n",
      " \n",
      "13\n",
      " \n",
      "19\n",
      " \n",
      "23\n",
      " \n",
      "28\n",
      " \n",
      "31\n",
      " \n",
      "32\n",
      " \n",
      "44\n",
      " \n",
      "49\n",
      " \n",
      "68\n",
      " \n",
      "70\n",
      " \n",
      "79\n",
      " \n",
      "82\n",
      " \n",
      "86\n",
      " \n",
      "91\n",
      " \n",
      "94\n",
      " \n",
      "97\n",
      " \n",
      "100\n",
      " \n"
     ]
    }
   ],
   "source": [
    "#A4) Print all happy numbers between 1 and 100\n",
    "\n",
    "def isHappyNumber(num):\n",
    "    rem=sum=0\n",
    "    \n",
    "    while(num>0):\n",
    "        rem=num%10\n",
    "        sum=sum+(rem*rem)\n",
    "        num = num //10\n",
    "        \n",
    "    return sum\n",
    "    \n",
    "print(\"List of happy numbers between 1 and 100\")\n",
    "for i in range(1,101):\n",
    "    result = i\n",
    "    \n",
    "    while ( result!= 1 and result !=4):\n",
    "        result = isHappyNumber(result)\n",
    "    \n",
    "    if(result==1):\n",
    "        print(i)\n",
    "        print(\" \")"
   ]
  },
  {
   "cell_type": "code",
   "execution_count": 33,
   "id": "de6b26ef",
   "metadata": {},
   "outputs": [
    {
     "name": "stdout",
     "output_type": "stream",
     "text": [
      "Yes\n",
      "No\n"
     ]
    }
   ],
   "source": [
    "#A5) determine given number is Harshad Number\n",
    "\n",
    "def checkHarshad(n):\n",
    "    sum = 0\n",
    "    temp = n\n",
    "    while temp > 0:\n",
    "        sum = sum + temp % 10\n",
    "        temp = temp //10\n",
    "    return n % sum ==0\n",
    "\n",
    "if (checkHarshad(12)): print(\"Yes\")\n",
    "else: print (\"No\")\n",
    "if (checkHarshad(15)): print(\"Yes\")\n",
    "else: print (\"No\")"
   ]
  },
  {
   "cell_type": "code",
   "execution_count": 45,
   "id": "43ba4ff4",
   "metadata": {},
   "outputs": [
    {
     "name": "stdout",
     "output_type": "stream",
     "text": [
      "Pronic numbers beteen 1 an 100\n",
      "2\n",
      " \n",
      "6\n",
      " \n",
      "12\n",
      " \n",
      "20\n",
      " \n",
      "30\n",
      " \n",
      "42\n",
      " \n",
      "56\n",
      " \n",
      "72\n",
      " \n",
      "90\n",
      " \n"
     ]
    }
   ],
   "source": [
    "#A6) Python program to print all pronic numbers between 1 and 100?\n",
    "\n",
    "def isPronicNumber(num):\n",
    "    flag=False\n",
    "    for j in range(1,num+1):\n",
    "        if(j*(j+1))==num:\n",
    "            flag = True\n",
    "            break;\n",
    "    return flag;\n",
    "\n",
    "print(\"Pronic numbers beteen 1 an 100\")\n",
    "for i in range(1,101):\n",
    "    if (isPronicNumber(i)):\n",
    "        print(i)\n",
    "        print (\" \")\n"
   ]
  },
  {
   "cell_type": "code",
   "execution_count": null,
   "id": "a7f07eb9",
   "metadata": {},
   "outputs": [],
   "source": []
  }
 ],
 "metadata": {
  "kernelspec": {
   "display_name": "Python 3",
   "language": "python",
   "name": "python3"
  },
  "language_info": {
   "codemirror_mode": {
    "name": "ipython",
    "version": 3
   },
   "file_extension": ".py",
   "mimetype": "text/x-python",
   "name": "python",
   "nbconvert_exporter": "python",
   "pygments_lexer": "ipython3",
   "version": "3.8.8"
  }
 },
 "nbformat": 4,
 "nbformat_minor": 5
}
