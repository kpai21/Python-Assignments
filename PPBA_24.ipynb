{
 "cells": [
  {
   "cell_type": "code",
   "execution_count": 9,
   "id": "2b29e5b5",
   "metadata": {},
   "outputs": [
    {
     "data": {
      "text/plain": [
       "[1,\n",
       " 2,\n",
       " 3,\n",
       " 40,\n",
       " 5,\n",
       " 6,\n",
       " 7,\n",
       " 80,\n",
       " 9,\n",
       " 10,\n",
       " 11,\n",
       " 120,\n",
       " 13,\n",
       " 14,\n",
       " 15,\n",
       " 160,\n",
       " 17,\n",
       " 18,\n",
       " 19,\n",
       " 200,\n",
       " 21,\n",
       " 22,\n",
       " 23,\n",
       " 240,\n",
       " 25]"
      ]
     },
     "execution_count": 9,
     "metadata": {},
     "output_type": "execute_result"
    }
   ],
   "source": [
    "#A1) \n",
    "def amplify(last_number):\n",
    "    list1 = [x*10 if x%4 == 0 else x for x in range(1,last_number+1)]\n",
    "    return list1\n",
    "\n",
    "amplify(25)"
   ]
  },
  {
   "cell_type": "code",
   "execution_count": 12,
   "id": "81802a6b",
   "metadata": {},
   "outputs": [
    {
     "data": {
      "text/plain": [
       "{3, 7}"
      ]
     },
     "execution_count": 12,
     "metadata": {},
     "output_type": "execute_result"
    }
   ],
   "source": [
    "#A2) unique values\n",
    "\n",
    "def unique(list1):\n",
    "    set1 = set(list1)\n",
    "    return set1 \n",
    "\n",
    "unique([3, 3, 7, 3, 3])"
   ]
  },
  {
   "cell_type": "code",
   "execution_count": 20,
   "id": "d26a0700",
   "metadata": {},
   "outputs": [
    {
     "name": "stdout",
     "output_type": "stream",
     "text": [
      "380\n"
     ]
    }
   ],
   "source": [
    "#A3) circumference\n",
    "\n",
    "import math\n",
    "class Circle:\n",
    "    def __init__(self, r):\n",
    "        self.r = r\n",
    "        \n",
    "    def getArea(self):\n",
    "        return round(math.pi*math.pow(self.r,2))\n",
    "       \n",
    "    def getPerimenter(self):\n",
    "        return round(2*math.pi*self.r)\n",
    "    \n",
    "c = Circle(11)\n",
    "print(c.getArea())"
   ]
  },
  {
   "cell_type": "code",
   "execution_count": 22,
   "id": "a489e52e",
   "metadata": {},
   "outputs": [
    {
     "data": {
      "text/plain": [
       "['Apple', 'Google', 'Microsoft']"
      ]
     },
     "execution_count": 22,
     "metadata": {},
     "output_type": "execute_result"
    }
   ],
   "source": [
    "#A4) sort\n",
    "\n",
    "def sort_by_length(*kargs):\n",
    "    return sorted(*kargs)\n",
    "\n",
    "sort_by_length([\"Google\", \"Apple\", \"Microsoft\"])"
   ]
  },
  {
   "cell_type": "code",
   "execution_count": 49,
   "id": "027427b3",
   "metadata": {},
   "outputs": [
    {
     "name": "stdout",
     "output_type": "stream",
     "text": [
      "25.0\n"
     ]
    },
    {
     "data": {
      "text/plain": [
       "True"
      ]
     },
     "execution_count": 49,
     "metadata": {},
     "output_type": "execute_result"
    }
   ],
   "source": [
    "#A5) Pythagorean triplet. only three numbers \n",
    "\n",
    "import math \n",
    "def triplet(a,b,c):\n",
    "    list1 = [a,b,c]\n",
    "    sor = sorted(list1)\n",
    "    print(math.pow(list1[0],2) + math.pow(list1[1],2)) \n",
    "    if (math.pow(list1[0],2) + math.pow(list1[1],2))== math.pow(list1[2],2):\n",
    "        return True\n",
    "    return False\n",
    "        \n",
    "triplet(3,4,5)"
   ]
  }
 ],
 "metadata": {
  "kernelspec": {
   "display_name": "Python 3",
   "language": "python",
   "name": "python3"
  },
  "language_info": {
   "codemirror_mode": {
    "name": "ipython",
    "version": 3
   },
   "file_extension": ".py",
   "mimetype": "text/x-python",
   "name": "python",
   "nbconvert_exporter": "python",
   "pygments_lexer": "ipython3",
   "version": "3.8.8"
  }
 },
 "nbformat": 4,
 "nbformat_minor": 5
}
