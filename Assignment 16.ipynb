{
 "cells": [
  {
   "cell_type": "code",
   "execution_count": 4,
   "id": "547bf26f",
   "metadata": {},
   "outputs": [],
   "source": [
    "years_list=[1985,1986,1987,1988,1989,1990]"
   ]
  },
  {
   "cell_type": "code",
   "execution_count": 6,
   "id": "ec11bec2",
   "metadata": {},
   "outputs": [
    {
     "data": {
      "text/plain": [
       "1988"
      ]
     },
     "execution_count": 6,
     "metadata": {},
     "output_type": "execute_result"
    }
   ],
   "source": [
    "years_list[3]"
   ]
  },
  {
   "cell_type": "code",
   "execution_count": 7,
   "id": "ec71f135",
   "metadata": {},
   "outputs": [
    {
     "data": {
      "text/plain": [
       "1990"
      ]
     },
     "execution_count": 7,
     "metadata": {},
     "output_type": "execute_result"
    }
   ],
   "source": [
    "years_list[-1]"
   ]
  },
  {
   "cell_type": "code",
   "execution_count": 10,
   "id": "d09e7461",
   "metadata": {},
   "outputs": [
    {
     "data": {
      "text/plain": [
       "['mozzarella', 'cinderella', 'salmonella']"
      ]
     },
     "execution_count": 10,
     "metadata": {},
     "output_type": "execute_result"
    }
   ],
   "source": [
    "things = [\"mozzarella\", \"cinderella\", \"salmonella\"]\n",
    "things"
   ]
  },
  {
   "cell_type": "code",
   "execution_count": 12,
   "id": "78ba400e",
   "metadata": {},
   "outputs": [
    {
     "data": {
      "text/plain": [
       "'Cinderella'"
      ]
     },
     "execution_count": 12,
     "metadata": {},
     "output_type": "execute_result"
    }
   ],
   "source": [
    "things[1].capitalize()"
   ]
  },
  {
   "cell_type": "code",
   "execution_count": 16,
   "id": "a5201826",
   "metadata": {},
   "outputs": [
    {
     "data": {
      "text/plain": [
       "'Oprah'"
      ]
     },
     "execution_count": 16,
     "metadata": {},
     "output_type": "execute_result"
    }
   ],
   "source": [
    "surprise= [\"Groucho\",\"Chico\", \"Harpo\"]\n",
    "surprise[2][::-1].capitalize()"
   ]
  },
  {
   "cell_type": "code",
   "execution_count": 18,
   "id": "c4276ad5",
   "metadata": {},
   "outputs": [],
   "source": [
    "e2f={\"dog\":\"chien\", \"cat\":\"chat\", \"walrus\":\"morse\"}"
   ]
  },
  {
   "cell_type": "code",
   "execution_count": 21,
   "id": "b9b0c666",
   "metadata": {},
   "outputs": [
    {
     "data": {
      "text/plain": [
       "'morse'"
      ]
     },
     "execution_count": 21,
     "metadata": {},
     "output_type": "execute_result"
    }
   ],
   "source": [
    "e2f[\"walrus\"]"
   ]
  },
  {
   "cell_type": "code",
   "execution_count": 22,
   "id": "a48195e6",
   "metadata": {},
   "outputs": [],
   "source": [
    "f2e={\"chien\":\"dog\", \"chat\":\"cat\", \"morse\":\"walrus\"}"
   ]
  },
  {
   "cell_type": "code",
   "execution_count": 25,
   "id": "b0582738",
   "metadata": {},
   "outputs": [
    {
     "data": {
      "text/plain": [
       "'dog'"
      ]
     },
     "execution_count": 25,
     "metadata": {},
     "output_type": "execute_result"
    }
   ],
   "source": [
    "f2e[\"chien\"]"
   ]
  },
  {
   "cell_type": "code",
   "execution_count": 26,
   "id": "bf5fbd61",
   "metadata": {},
   "outputs": [
    {
     "data": {
      "text/plain": [
       "dict_values(['chien', 'chat', 'morse'])"
      ]
     },
     "execution_count": 26,
     "metadata": {},
     "output_type": "execute_result"
    }
   ],
   "source": [
    "e2f.values()"
   ]
  },
  {
   "cell_type": "code",
   "execution_count": 36,
   "id": "06f835e5",
   "metadata": {},
   "outputs": [],
   "source": [
    "life={\"animals\": {\"cats\": {\"Henri\":{} , \"Grumpy\":{} , \"Lucy\":{} } , \"octopi\": {}, 'emus': {}} , \"plants\": {} , \"other\": {}}"
   ]
  },
  {
   "cell_type": "code",
   "execution_count": 37,
   "id": "12bf87b9",
   "metadata": {},
   "outputs": [
    {
     "name": "stdout",
     "output_type": "stream",
     "text": [
      "dict_keys(['animals', 'plants', 'other'])\n"
     ]
    }
   ],
   "source": [
    "print(life.keys())"
   ]
  },
  {
   "cell_type": "code",
   "execution_count": 38,
   "id": "8ab63088",
   "metadata": {},
   "outputs": [
    {
     "data": {
      "text/plain": [
       "{'cats': {'Henri': {}, 'Grumpy': {}, 'Lucy': {}}, 'octopi': {}, 'emus': {}}"
      ]
     },
     "execution_count": 38,
     "metadata": {},
     "output_type": "execute_result"
    }
   ],
   "source": [
    "life[\"animals\"]"
   ]
  },
  {
   "cell_type": "code",
   "execution_count": 39,
   "id": "69bfab42",
   "metadata": {},
   "outputs": [
    {
     "data": {
      "text/plain": [
       "{'Henri': {}, 'Grumpy': {}, 'Lucy': {}}"
      ]
     },
     "execution_count": 39,
     "metadata": {},
     "output_type": "execute_result"
    }
   ],
   "source": [
    "life['animals']['cats']"
   ]
  },
  {
   "cell_type": "code",
   "execution_count": null,
   "id": "2a4fc407",
   "metadata": {},
   "outputs": [],
   "source": []
  }
 ],
 "metadata": {
  "kernelspec": {
   "display_name": "Python 3",
   "language": "python",
   "name": "python3"
  },
  "language_info": {
   "codemirror_mode": {
    "name": "ipython",
    "version": 3
   },
   "file_extension": ".py",
   "mimetype": "text/x-python",
   "name": "python",
   "nbconvert_exporter": "python",
   "pygments_lexer": "ipython3",
   "version": "3.8.8"
  }
 },
 "nbformat": 4,
 "nbformat_minor": 5
}
