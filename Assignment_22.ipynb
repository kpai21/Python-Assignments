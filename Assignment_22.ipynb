{
 "cells": [
  {
   "cell_type": "code",
   "execution_count": 3,
   "id": "5c03d157",
   "metadata": {},
   "outputs": [
    {
     "name": "stdout",
     "output_type": "stream",
     "text": [
      "iNeuron\n"
     ]
    }
   ],
   "source": [
    "#A1) \n",
    "X = 'iNeuron'\n",
    "def func():\n",
    "    print(X)\n",
    "\n",
    "func()\n",
    "\n",
    "# the function func() prints the global variable X when called"
   ]
  },
  {
   "cell_type": "code",
   "execution_count": 5,
   "id": "396d9663",
   "metadata": {},
   "outputs": [
    {
     "name": "stdout",
     "output_type": "stream",
     "text": [
      "iNeuron\n"
     ]
    }
   ],
   "source": [
    "#A2)\n",
    "X='iNeuron'\n",
    "def func():\n",
    "    X = 'NI!'\n",
    "    \n",
    "func() \n",
    "print(X)#  Print X global variable as it is accessible "
   ]
  },
  {
   "cell_type": "code",
   "execution_count": 11,
   "id": "9376cd2a",
   "metadata": {},
   "outputs": [
    {
     "name": "stdout",
     "output_type": "stream",
     "text": [
      "NI\n",
      "iNeuron\n"
     ]
    }
   ],
   "source": [
    "#A3) \n",
    "X = 'iNeuron'\n",
    "def func():\n",
    "    X = 'NI'\n",
    "    print(X)\n",
    "\n",
    "\n",
    "func() # prints local variable X\n",
    "print(X)# prints global variable X "
   ]
  },
  {
   "cell_type": "code",
   "execution_count": 14,
   "id": "513a29cd",
   "metadata": {},
   "outputs": [
    {
     "name": "stdout",
     "output_type": "stream",
     "text": [
      "NI\n"
     ]
    }
   ],
   "source": [
    "#A4) \n",
    "X = 'iNeuron'\n",
    "def func():\n",
    "    global X\n",
    "    X = 'NI'\n",
    "\n",
    "func()\n",
    "print(X) # print 'NI' since the X variable is declared as global"
   ]
  },
  {
   "cell_type": "code",
   "execution_count": 16,
   "id": "c5142d1a",
   "metadata": {},
   "outputs": [
    {
     "data": {
      "text/plain": [
       "'iNeuron'"
      ]
     },
     "execution_count": 16,
     "metadata": {},
     "output_type": "execute_result"
    }
   ],
   "source": [
    "X ='iNeuron'\n",
    "def func():\n",
    "    X ='NI'\n",
    "\n",
    "def nested():\n",
    "    print(X)\n",
    "    nested()\n",
    "    \n",
    "func()\n",
    "X # this code prints X as it is global variable "
   ]
  },
  {
   "cell_type": "code",
   "execution_count": null,
   "id": "06b37898",
   "metadata": {},
   "outputs": [],
   "source": [
    "def func():\n",
    "    X='NI'\n",
    "    \n",
    "def nested():\n",
    "    nonlocal X\n",
    "    X ='Spam'\n",
    "    nested()\n",
    "    print(X)\n",
    "\n",
    "func()\n",
    "\n",
    "#nonlocal is used to declare that variable is not local but the nested() function does not have the X variable is not declared in the function."
   ]
  },
  {
   "cell_type": "code",
   "execution_count": null,
   "id": "b077c905",
   "metadata": {},
   "outputs": [],
   "source": [
    "    "
   ]
  }
 ],
 "metadata": {
  "kernelspec": {
   "display_name": "Python 3",
   "language": "python",
   "name": "python3"
  },
  "language_info": {
   "codemirror_mode": {
    "name": "ipython",
    "version": 3
   },
   "file_extension": ".py",
   "mimetype": "text/x-python",
   "name": "python",
   "nbconvert_exporter": "python",
   "pygments_lexer": "ipython3",
   "version": "3.8.8"
  }
 },
 "nbformat": 4,
 "nbformat_minor": 5
}
