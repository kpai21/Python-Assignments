{
 "cells": [
  {
   "cell_type": "code",
   "execution_count": 2,
   "id": "8a9fb439",
   "metadata": {},
   "outputs": [
    {
     "name": "stdout",
     "output_type": "stream",
     "text": [
      "Please enter a positive integer\n"
     ]
    }
   ],
   "source": [
    "#A1) Finonacci sequence using recursion\n",
    "def recur_fibo(n):\n",
    "    if n <=1:\n",
    "        return n\n",
    "    else:\n",
    "        return(recur_fibo(n-1) + recur_fibo(n-2))\n",
    "\n",
    "nterms = -1\n",
    "\n",
    "if nterms <= 0:\n",
    "    print(\"Please enter a positive integer\")\n",
    "else:\n",
    "    print(\"finonacci sequence:\")\n",
    "    for i in range(nterms):\n",
    "        print(recur_fibo(i))"
   ]
  },
  {
   "cell_type": "code",
   "execution_count": 5,
   "id": "32c66a44",
   "metadata": {},
   "outputs": [
    {
     "name": "stdout",
     "output_type": "stream",
     "text": [
      "The factorial of 7 is 5040\n"
     ]
    }
   ],
   "source": [
    "#A2) Factorial number using recursion\n",
    "\n",
    "def recur_factorial(n):\n",
    "    if n == 1:\n",
    "        return n\n",
    "    else: return n*recur_factorial(n-1)\n",
    "\n",
    "num = 7\n",
    "\n",
    "if num < 0:\n",
    "    print(\"Sorry, factorial does not exist for negative numbers\")\n",
    "elif num == 0:\n",
    "    print(\"The factorial of 0 is 1\")\n",
    "else: \n",
    "    print(\"The factorial of\", num, \"is\", recur_factorial(num))\n",
    "    "
   ]
  },
  {
   "cell_type": "code",
   "execution_count": 7,
   "id": "7ee2ac5c",
   "metadata": {},
   "outputs": [
    {
     "data": {
      "text/plain": [
       "21.847008520333322"
      ]
     },
     "execution_count": 7,
     "metadata": {},
     "output_type": "execute_result"
    }
   ],
   "source": [
    "#A3) Calculate body mass index\n",
    "\n",
    "def BMI(height, weight):\n",
    "    bmi = weight/(height**2)\n",
    "    return bmi\n",
    "\n",
    "    bmi=BMI(height, weight)\n",
    "    print(\"The BMI is\", format(bmi), \"so \", ends='')\n",
    "    \n",
    "    if(bmi<18.5):\n",
    "        print(\"underweight\")\n",
    "    \n",
    "    elif(bmi >= 18.5 and bmi < 24.9):\n",
    "        print(\"Healthy\")\n",
    "    \n",
    "    elif(bmi >= 24.5 and bmi < 30):\n",
    "        print(\"overweight\")\n",
    "        \n",
    "    elif(bmi >= 30):\n",
    "        print(\"Suffering from Obesity\")\n",
    "\n",
    "BMI(1.79,70)"
   ]
  },
  {
   "cell_type": "code",
   "execution_count": 11,
   "id": "8d171503",
   "metadata": {},
   "outputs": [
    {
     "name": "stdout",
     "output_type": "stream",
     "text": [
      "Natural logarithm of 14 is :2.6390573296152584\n"
     ]
    }
   ],
   "source": [
    "#A4) Natural log of any number\n",
    "\n",
    "import math\n",
    "\n",
    "print(\"Natural logarithm of 14 is :\", end=\"\")\n",
    "print(math.log(14))\n"
   ]
  },
  {
   "cell_type": "code",
   "execution_count": 13,
   "id": "b7a31f8d",
   "metadata": {},
   "outputs": [
    {
     "name": "stdout",
     "output_type": "stream",
     "text": [
      "2025\n"
     ]
    }
   ],
   "source": [
    "#A5) cube sum of first n natural number \n",
    "\n",
    "def sumOfSeries(n):\n",
    "    sum = 0 \n",
    "    for i in range(1, n+1):\n",
    "        sum +=i*i*i\n",
    "        \n",
    "    return sum\n",
    "n=9\n",
    "print(sumOfSeries(n))"
   ]
  },
  {
   "cell_type": "code",
   "execution_count": null,
   "id": "8f470dc8",
   "metadata": {},
   "outputs": [],
   "source": []
  }
 ],
 "metadata": {
  "kernelspec": {
   "display_name": "Python 3",
   "language": "python",
   "name": "python3"
  },
  "language_info": {
   "codemirror_mode": {
    "name": "ipython",
    "version": 3
   },
   "file_extension": ".py",
   "mimetype": "text/x-python",
   "name": "python",
   "nbconvert_exporter": "python",
   "pygments_lexer": "ipython3",
   "version": "3.8.8"
  }
 },
 "nbformat": 4,
 "nbformat_minor": 5
}
