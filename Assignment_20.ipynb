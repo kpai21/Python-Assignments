{
 "cells": [
  {
   "cell_type": "code",
   "execution_count": 45,
   "id": "8e553487",
   "metadata": {},
   "outputs": [],
   "source": [
    "#A1\n",
    "test1 = 'This is a test of the emergency text system'\n",
    "len(test1)\n",
    "outfile = open('test.txt', 'wt')\n",
    "outfile.write(test1)\n",
    "outfile.close()\n",
    "\n",
    "with open('test.txt', 'wt') as outfile:\n",
    "    outfile.write(test1)\n"
   ]
  },
  {
   "cell_type": "code",
   "execution_count": 47,
   "id": "3b97c509",
   "metadata": {},
   "outputs": [],
   "source": [
    "#A2\n",
    "text = '''author, book J R R Tolkien, The Hobbit Lynne Truss, \"Eats, Shoots & Leaves\"'''\n",
    "with open('test.cvs', 'wt') as outfile:\n",
    "    outfile.write(text)"
   ]
  },
  {
   "cell_type": "code",
   "execution_count": 6,
   "id": "bcc740c2",
   "metadata": {},
   "outputs": [
    {
     "name": "stdout",
     "output_type": "stream",
     "text": [
      "title,author,year... The Weirdstone of Brisingamen,Alan Garner,1960... Perdido Street Station,China Miéville,2000... Thud!,Terry Pratchett,2005... The Spellman Files,Lisa Lutz,2007... Small Gods,Terry Pratchett,1992... \n"
     ]
    }
   ],
   "source": [
    "#A3\n",
    "text = '''title,author,year... The Weirdstone of Brisingamen,Alan Garner,1960... Perdido Street Station,China Miéville,2000... Thud!,Terry Pratchett,2005... The Spellman Files,Lisa Lutz,2007... Small Gods,Terry Pratchett,1992... '''\n",
    "with open('books.csv', 'wt') as outfile:\n",
    "    outfile.write(text)\n",
    "    \n"
   ]
  },
  {
   "cell_type": "code",
   "execution_count": null,
   "id": "661658a1",
   "metadata": {},
   "outputs": [],
   "source": [
    "#A4\n",
    "import sqlite3\n",
    "db = sqlite3.connect('books.db')\n",
    "curs=db.cursor()\n",
    "curs.execute('''create table books(title text, author text, year int)''')\n",
    "db.commit()"
   ]
  },
  {
   "cell_type": "code",
   "execution_count": 30,
   "id": "d981f6ec",
   "metadata": {},
   "outputs": [
    {
     "name": "stdout",
     "output_type": "stream",
     "text": [
      "{'title': 'The Weirdstone of Brisingamen', 'author': 'Alan Garner', 'year': '1960'}\n",
      "{'title': 'Perdido Street Station', 'author': 'China Miéville', 'year': '2000'}\n",
      "{'title': 'Thud!', 'author': 'Terry Pratchett', 'year': '2005'}\n",
      "{'title': 'The Spellman Files', 'author': 'Lisa Lutz', 'year': '2007'}\n",
      "{'title': 'Small Gods', 'author': 'Terry Pratchett', 'year': '1992'}\n"
     ]
    }
   ],
   "source": [
    "#A4\n",
    "import csv \n",
    "import sqlite3\n",
    "with open('books.csv', 'rt') as infile:\n",
    "    books = list(csv.DictReader(infile))\n",
    "    for book in books:\n",
    "        print(book)\n",
    "        curs.execute('insert into books values(?,?,?)', (book['title'], book['author'], book['year']))\n",
    "        db.commit()"
   ]
  },
  {
   "cell_type": "code",
   "execution_count": 31,
   "id": "07e05ded",
   "metadata": {},
   "outputs": [
    {
     "name": "stdout",
     "output_type": "stream",
     "text": [
      "('Perdido Street Station',)\n",
      "('Small Gods',)\n",
      "('The Spellman Files',)\n",
      "('The Weirdstone of Brisingamen',)\n",
      "('Thud!',)\n"
     ]
    }
   ],
   "source": [
    "#A5\n",
    "sql = 'select title from books order by title asc'\n",
    "for row in db.execute(sql):\n",
    "    print(row)"
   ]
  },
  {
   "cell_type": "code",
   "execution_count": 34,
   "id": "b1a3a141",
   "metadata": {},
   "outputs": [
    {
     "name": "stdout",
     "output_type": "stream",
     "text": [
      "The Weirdstone of Brisingamen,Alan Garner,1960\n",
      "Small Gods,Terry Pratchett,1992\n",
      "Perdido Street Station,China Miéville,2000\n",
      "Thud!,Terry Pratchett,2005\n",
      "The Spellman Files,Lisa Lutz,2007\n"
     ]
    }
   ],
   "source": [
    "#A6\n",
    "for row in db.execute('select * from books order by year'):\n",
    "    print(*row, sep=',')\n"
   ]
  },
  {
   "cell_type": "code",
   "execution_count": 36,
   "id": "a14e57e8",
   "metadata": {},
   "outputs": [
    {
     "name": "stdout",
     "output_type": "stream",
     "text": [
      "('Perdido Street Station',)\n",
      "('Small Gods',)\n",
      "('The Spellman Files',)\n",
      "('The Weirdstone of Brisingamen',)\n",
      "('Thud!',)\n"
     ]
    }
   ],
   "source": [
    "#A7\n",
    "import sqlalchemy \n",
    "conn = sqlalchemy.create_engine('sqlite:///books.db')\n",
    "sql= 'select title from books order by title asc'\n",
    "rows = conn.execute(sql)\n",
    "for row in rows:\n",
    "    print(row)"
   ]
  },
  {
   "cell_type": "code",
   "execution_count": null,
   "id": "9d258592",
   "metadata": {},
   "outputs": [],
   "source": [
    "#A8\n",
    "#pip install redis\n",
    "import redis\n",
    "conn = redis.Redis()\n",
    "#conn.delete('test')\n",
    "\n",
    "conn.hset('test', {'count':1, 'name': 'Fester Bestertester'})\n",
    "conn.hgetall('test')"
   ]
  },
  {
   "cell_type": "code",
   "execution_count": null,
   "id": "1f75337b",
   "metadata": {},
   "outputs": [],
   "source": [
    "conn.hincrby('test','count',3)\n",
    "conn.hget('test','count')"
   ]
  }
 ],
 "metadata": {
  "kernelspec": {
   "display_name": "Python 3",
   "language": "python",
   "name": "python3"
  },
  "language_info": {
   "codemirror_mode": {
    "name": "ipython",
    "version": 3
   },
   "file_extension": ".py",
   "mimetype": "text/x-python",
   "name": "python",
   "nbconvert_exporter": "python",
   "pygments_lexer": "ipython3",
   "version": "3.8.8"
  }
 },
 "nbformat": 4,
 "nbformat_minor": 5
}
