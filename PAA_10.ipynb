{
 "cells": [
  {
   "cell_type": "code",
   "execution_count": 1,
   "id": "a4f56a77",
   "metadata": {},
   "outputs": [],
   "source": [
    "#A1) __getattr__  is used as a last option to find the arrtibute in given object. __getattribute__ it accesses the attribute using the dot notation , it is used as a first attempt to find an attribute\n"
   ]
  },
  {
   "cell_type": "code",
   "execution_count": null,
   "id": "d8c894d6",
   "metadata": {},
   "outputs": [],
   "source": [
    "#A2) Properties and Descriptors are different ways of getting and setting attribute values. \n",
    "#1) Property functions are the most accessible way to define get set and delete associated with attribute. The property function creates the descriptors for you.\n",
    "#2) Descriptors are created for a class where __set__, __get__ and __delete__ methods are defined, these are reusable , \n",
    "    "
   ]
  },
  {
   "cell_type": "code",
   "execution_count": null,
   "id": "bfda3e1a",
   "metadata": {},
   "outputs": [],
   "source": [
    "#A4) Property are easy way of defining the value with out defining a seperator class, internally decorator defines the property .\n",
    "# decorators are a reusable way to define the getter and setter in a seperate class. \n",
    "#__getAttr()__ is called at last to looup the hooked attributes, __getattribute__ is called initially to fetch the required attribute."
   ]
  }
 ],
 "metadata": {
  "kernelspec": {
   "display_name": "Python 3",
   "language": "python",
   "name": "python3"
  },
  "language_info": {
   "codemirror_mode": {
    "name": "ipython",
    "version": 3
   },
   "file_extension": ".py",
   "mimetype": "text/x-python",
   "name": "python",
   "nbconvert_exporter": "python",
   "pygments_lexer": "ipython3",
   "version": "3.8.8"
  }
 },
 "nbformat": 4,
 "nbformat_minor": 5
}
