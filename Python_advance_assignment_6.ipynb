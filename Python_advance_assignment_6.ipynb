{
 "cells": [
  {
   "cell_type": "markdown",
   "id": "d109fcc5",
   "metadata": {},
   "source": [
    "#A1) \n",
    "It is common to see the programming stop due to unusal conditions that in a program resultin in the interruptions. The code stops the executions , thus the further code is not executed. Exceptions are unhandled run-time error, that are not handled by the python script. \n",
    "The built-in expections that enable our program to run without interruptions are \n",
    "1) ZeroDivisionError:\n",
    "2) NameError:\n",
    "3) IndentationError\n",
    "4) IOError"
   ]
  },
  {
   "cell_type": "markdown",
   "id": "ba9e8479",
   "metadata": {},
   "source": [
    "#A2) \n",
    "If the exceptions are not handled the next code is not executed and program crashes. if the expections are handled the other modules of the application work as expected, expect the module that has thrown the exception. No further statements in the current block of code are executed."
   ]
  },
  {
   "cell_type": "markdown",
   "id": "24b14282",
   "metadata": {},
   "source": [
    "A3) \n",
    "Handle the expection using try and except: block, \n",
    "if there are specific exceptions, you can use standard expections to handle so ease of debugging. \n",
    "Custom expections are also used to handle uncommon exceptions. \n",
    "Exceptions can also be triggered if required.\n"
   ]
  },
  {
   "cell_type": "markdown",
   "id": "1a1054df",
   "metadata": {},
   "source": [
    "A4) Throw if an exception occurs, and raise keywords to construct an exception."
   ]
  },
  {
   "cell_type": "markdown",
   "id": "78c2b219",
   "metadata": {},
   "source": [
    "A5) One can exit the python program before the terminaiton or use finally block for execution regards less of exceptions. "
   ]
  }
 ],
 "metadata": {
  "kernelspec": {
   "display_name": "Python 3",
   "language": "python",
   "name": "python3"
  },
  "language_info": {
   "codemirror_mode": {
    "name": "ipython",
    "version": 3
   },
   "file_extension": ".py",
   "mimetype": "text/x-python",
   "name": "python",
   "nbconvert_exporter": "python",
   "pygments_lexer": "ipython3",
   "version": "3.8.8"
  }
 },
 "nbformat": 4,
 "nbformat_minor": 5
}
