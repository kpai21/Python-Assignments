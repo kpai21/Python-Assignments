{
 "cells": [
  {
   "cell_type": "code",
   "execution_count": 1,
   "id": "f1314623",
   "metadata": {},
   "outputs": [
    {
     "data": {
      "text/plain": [
       "29"
      ]
     },
     "execution_count": 1,
     "metadata": {},
     "output_type": "execute_result"
    }
   ],
   "source": [
    "#A1) python program to find sum of array\n",
    "\n",
    "def _sum(arr):\n",
    "    sum=0\n",
    "    \n",
    "    for i in arr:\n",
    "        sum = sum + i\n",
    "        \n",
    "    return(sum)\n",
    "\n",
    "arr=[]\n",
    "arr = [1,23,3,2]\n",
    "_sum(arr)"
   ]
  },
  {
   "cell_type": "code",
   "execution_count": 4,
   "id": "094916aa",
   "metadata": {},
   "outputs": [
    {
     "name": "stdout",
     "output_type": "stream",
     "text": [
      "Largest element is  123\n"
     ]
    }
   ],
   "source": [
    "#A2) Find the largest element in the array\n",
    "\n",
    "def _maxEle(arr, l):\n",
    "    max = arr[0]\n",
    "    for i in range(1,n):\n",
    "        if arr[i] > max:\n",
    "            max = arr[i]\n",
    "    return max\n",
    "\n",
    "arr = [13,123,23,44]\n",
    "l = len(arr)\n",
    "n =_maxEle(arr, l)\n",
    "print (\"Largest element is \", n)\n",
    "\n",
    "        "
   ]
  },
  {
   "cell_type": "code",
   "execution_count": 11,
   "id": "65b7ec84",
   "metadata": {},
   "outputs": [
    {
     "name": "stdout",
     "output_type": "stream",
     "text": [
      "[1, 2, 3, 4, 5, 6]\n",
      "Rotate list is\n",
      "[3, 4, 5, 6, 1, 2]\n"
     ]
    }
   ],
   "source": [
    "#A3) Program for array rotation \n",
    "def rotateList(arr,d,n):\n",
    "    arr[:]= arr[d:n]+arr[0:d]\n",
    "    return arr\n",
    "arr = [1,2,3,4,5,6]\n",
    "print(arr)\n",
    "print(\"Rotate list is\")\n",
    "print(rotateList(arr,2,len(arr)))"
   ]
  },
  {
   "cell_type": "code",
   "execution_count": 13,
   "id": "150585c2",
   "metadata": {},
   "outputs": [
    {
     "name": "stdout",
     "output_type": "stream",
     "text": [
      "64 33 12 34 "
     ]
    }
   ],
   "source": [
    "#A4) Python program to split array and move first part to end\n",
    "\n",
    "def splitArr(a,n,k):\n",
    "    b = a[:k]\n",
    "    return (a[k::] + b[::])\n",
    "\n",
    "#main\n",
    "arr = [12,34,64,33]\n",
    "n = len(arr)\n",
    "position =2\n",
    "arr = splitArr(arr,n,position)\n",
    "for i in range(0,n):\n",
    "    print(arr[i], end=' ')"
   ]
  },
  {
   "cell_type": "code",
   "execution_count": 23,
   "id": "4fbe824b",
   "metadata": {},
   "outputs": [
    {
     "name": "stdout",
     "output_type": "stream",
     "text": [
      "False\n"
     ]
    }
   ],
   "source": [
    "#A5) Monotonic \n",
    "\n",
    "def isMonotonic(arr):\n",
    "    return (all(A[i] <= A[i + 1] for i in range(len(A) - 1)) or\n",
    "            all(A[i] >= A[i + 1] for i in range(len(A) - 1)))\n",
    "\n",
    "A = [9,8,7,6,5,8,9,10]\n",
    "\n",
    "print(isMonotonic(A))\n",
    "\n"
   ]
  },
  {
   "cell_type": "code",
   "execution_count": null,
   "id": "800c8fc3",
   "metadata": {},
   "outputs": [],
   "source": []
  }
 ],
 "metadata": {
  "kernelspec": {
   "display_name": "Python 3",
   "language": "python",
   "name": "python3"
  },
  "language_info": {
   "codemirror_mode": {
    "name": "ipython",
    "version": 3
   },
   "file_extension": ".py",
   "mimetype": "text/x-python",
   "name": "python",
   "nbconvert_exporter": "python",
   "pygments_lexer": "ipython3",
   "version": "3.8.8"
  }
 },
 "nbformat": 4,
 "nbformat_minor": 5
}
